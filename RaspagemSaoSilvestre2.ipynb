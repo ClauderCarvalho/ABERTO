{
  "nbformat": 4,
  "nbformat_minor": 0,
  "metadata": {
    "colab": {
      "name": "RaspagemSaoSilvestre2.ipynb",
      "provenance": [],
      "collapsed_sections": [],
      "mount_file_id": "1Ktie50wjgnPhuMlMwW1jOYVPc8C3QA98",
      "authorship_tag": "ABX9TyNjoFvLaAz14FRxpZ9JGWC7",
      "include_colab_link": true
    },
    "kernelspec": {
      "name": "python3",
      "display_name": "Python 3"
    }
  },
  "cells": [
    {
      "cell_type": "markdown",
      "metadata": {
        "id": "view-in-github",
        "colab_type": "text"
      },
      "source": [
        "<a href=\"https://colab.research.google.com/github/ClauderCarvalho/ABERTO/blob/master/RaspagemSaoSilvestre2.ipynb\" target=\"_parent\"><img src=\"https://colab.research.google.com/assets/colab-badge.svg\" alt=\"Open In Colab\"/></a>"
      ]
    },
    {
      "cell_type": "markdown",
      "metadata": {
        "id": "pcJInn1M3Qwy",
        "colab_type": "text"
      },
      "source": [
        "Webscrep  - captura de dados da corrida de São silvestre\n",
        "\n",
        "Nome - Clauder Noronha\n",
        "\n",
        "Fonte - https://pt.wikipedia.org/wiki/Corrida_Internacional_de_S%C3%A3o_Silvestre"
      ]
    },
    {
      "cell_type": "code",
      "metadata": {
        "id": "NfO-OArdtAQm",
        "colab_type": "code",
        "colab": {}
      },
      "source": [
        "!pip install -q -U watermark"
      ],
      "execution_count": 0,
      "outputs": []
    },
    {
      "cell_type": "code",
      "metadata": {
        "id": "ter3JjQEtfDd",
        "colab_type": "code",
        "colab": {}
      },
      "source": [
        "!pip install -q pingouin"
      ],
      "execution_count": 0,
      "outputs": []
    },
    {
      "cell_type": "code",
      "metadata": {
        "id": "_I49ajmntiAe",
        "colab_type": "code",
        "colab": {}
      },
      "source": [
        "# Imports\n",
        "import re\n",
        "import requests\n",
        "import matplotlib as m\n",
        "import numpy as np\n",
        "import pandas as pd\n",
        "import pingouin as pg\n",
        "import matplotlib.pyplot as plt\n",
        "import seaborn as sns\n",
        "from bs4 import BeautifulSoup as bs\n",
        "from urllib.request import urlopen\n",
        "from scipy import stats\n",
        "\n",
        "# Imports para formatação dos gráficos\n",
        "sns.set_style('whitegrid')\n",
        "%matplotlib inline"
      ],
      "execution_count": 0,
      "outputs": []
    },
    {
      "cell_type": "code",
      "metadata": {
        "id": "YF8nn3letlBd",
        "colab_type": "code",
        "outputId": "a4079502-f608-4848-f444-9d1790d39366",
        "colab": {
          "base_uri": "https://localhost:8080/",
          "height": 1000
        }
      },
      "source": [
        "url = 'https://pt.wikipedia.org/wiki/Corrida_Internacional_de_S%C3%A3o_Silvestre'\n",
        "\n",
        "\n",
        "resposta = requests.get(url)\n",
        "\n",
        "table = pd.read_html(resposta.text)\n",
        "table"
      ],
      "execution_count": 59,
      "outputs": [
        {
          "output_type": "execute_result",
          "data": {
            "text/plain": [
              "[                           0  ...              2\n",
              " 0   Corrida de São Silvestre  ...            NaN\n",
              " 1                        NaN  ...            NaN\n",
              " 2              Generalidades  ...  Generalidades\n",
              " 3                    Esporte  ...            NaN\n",
              " 4                  Categoria  ...            NaN\n",
              " 5                    Criação  ...            NaN\n",
              " 6                Organizador  ...            NaN\n",
              " 7             N.º de Edições  ...            NaN\n",
              " 8                 Frequência  ...            NaN\n",
              " 9                    Formato  ...            NaN\n",
              " 10               Disciplinas  ...            NaN\n",
              " 11          Sítio eletrónico  ...            NaN\n",
              " 12                Vencedores  ...            NaN\n",
              " 13          Primeiro campeão  ...            NaN\n",
              " 14             Maior campeão  ...            NaN\n",
              " 15                   Campeão  ...            NaN\n",
              " 16        Dados estatísticos  ...            NaN\n",
              " 17             Participantes  ...            NaN\n",
              " 18                    editar  ...            NaN\n",
              " \n",
              " [19 rows x 3 columns],             Ano  ...           Ref\n",
              " 0          1925  ...          [24]\n",
              " 1     1926-1928  ...          [24]\n",
              " 2          1929  ...          [24]\n",
              " 3          1930  ...          [25]\n",
              " 4          1931  ...          [25]\n",
              " 5     1932-1933  ...          [25]\n",
              " 6     1934-1938  ...          [25]\n",
              " 7     1939-1941  ...      [25][26]\n",
              " 8   1942 - 1944  ...          [26]\n",
              " 9     1945-1948  ...          [26]\n",
              " 10         1949  ...          [26]\n",
              " 11    1950-1952  ...          [27]\n",
              " 12    1953-1965  ...      [27][28]\n",
              " 13         1966  ...          [28]\n",
              " 14         1967  ...          [28]\n",
              " 15         1968  ...          [28]\n",
              " 16         1969  ...          [28]\n",
              " 17    1970-1978  ...          [29]\n",
              " 18         1979  ...          [29]\n",
              " 19    1980-1989  ...          [30]\n",
              " 20    1991-2010  ...  [31][32][33]\n",
              " 21         2011  ...          [33]\n",
              " 22         2012  ...          [33]\n",
              " 23  2013 - 2016  ...      [33][34]\n",
              " 24         2017  ...           NaN\n",
              " 25         2018  ...           NaN\n",
              " 26         2019  ...           NaN\n",
              " \n",
              " [27 rows x 5 columns],      Ano                     Homens  ... Tempo.1   Ref\n",
              " 0   1925              Alfredo Gomes  ...       -  [24]\n",
              " 1   1926              Jorge Mancebo  ...       -  [24]\n",
              " 2   1927      Heitor Blasi [nota 1]  ...       -  [24]\n",
              " 3   1928                Salim Maluf  ...       -  [24]\n",
              " 4   1929               Heitor Blasi  ...       -  [24]\n",
              " ..   ...                        ...  ...     ...   ...\n",
              " 91  2015             Stanley Biwott  ...   54:01  [33]\n",
              " 92  2016                 Leul Aleme  ...   48:35  [41]\n",
              " 93  2017  Dawit Admasu[42] [nota 2]  ...   50:18   NaN\n",
              " 94  2018              Belahy Bezabh  ...   50:20  [43]\n",
              " 95  2019             Kibiwot Kandie  ...   48:54  [44]\n",
              " \n",
              " [96 rows x 8 columns],                                                    0                                                  1\n",
              " 0  Masculino[editar | editar código-fonte]  Quêni...  Feminino[editar | editar código-fonte]  Quênia...,   vdeCorrida Internacional de São Silvestre – Cronologia  ... vdeCorrida Internacional de São Silvestre – Cronologia.2\n",
              " 0  (1925) • (1926) • (1927) • (1928) • (1929) • (...      ...                                                NaN      \n",
              " \n",
              " [1 rows x 3 columns],   vdeVéspera de Ano Novo e Ano Novo                vdeVéspera de Ano Novo e Ano Novo.1\n",
              " 0                           Eventos  Bola da Times Square Concerto de Ano Novo de V...\n",
              " 1                          Desporto  Clássico de Inverno da NHL Corrida Internacion...\n",
              " 2                          Desfiles                       Desfile do Torneio das Rosas\n",
              " 3                         Televisão  Dick Clark's New Year's Rockin' Eve Kōhaku Uta...\n",
              " 4                            Cinema  Wee Willie Winkie Winnie the Pooh: A Very Merr...\n",
              " 5                            Música  \"Auld Lang Syne\" \"Happy New Year\" \"New Year's ...\n",
              " 6              Tópicos relacionados  Calendário gregoriano Guy Lombardo Noite de Sã...]"
            ]
          },
          "metadata": {
            "tags": []
          },
          "execution_count": 59
        }
      ]
    },
    {
      "cell_type": "code",
      "metadata": {
        "id": "bdiYp6mbtwjE",
        "colab_type": "code",
        "colab": {}
      },
      "source": [
        "df = table[2]"
      ],
      "execution_count": 0,
      "outputs": []
    },
    {
      "cell_type": "code",
      "metadata": {
        "id": "zrH58PtiunSM",
        "colab_type": "code",
        "outputId": "fc80ffd7-753d-4318-e7f9-4510063bf61a",
        "colab": {
          "base_uri": "https://localhost:8080/",
          "height": 250
        }
      },
      "source": [
        "df.info"
      ],
      "execution_count": 61,
      "outputs": [
        {
          "output_type": "execute_result",
          "data": {
            "text/plain": [
              "<bound method DataFrame.info of      Ano                     Homens  ... Tempo.1   Ref\n",
              "0   1925              Alfredo Gomes  ...       -  [24]\n",
              "1   1926              Jorge Mancebo  ...       -  [24]\n",
              "2   1927      Heitor Blasi [nota 1]  ...       -  [24]\n",
              "3   1928                Salim Maluf  ...       -  [24]\n",
              "4   1929               Heitor Blasi  ...       -  [24]\n",
              "..   ...                        ...  ...     ...   ...\n",
              "91  2015             Stanley Biwott  ...   54:01  [33]\n",
              "92  2016                 Leul Aleme  ...   48:35  [41]\n",
              "93  2017  Dawit Admasu[42] [nota 2]  ...   50:18   NaN\n",
              "94  2018              Belahy Bezabh  ...   50:20  [43]\n",
              "95  2019             Kibiwot Kandie  ...   48:54  [44]\n",
              "\n",
              "[96 rows x 8 columns]>"
            ]
          },
          "metadata": {
            "tags": []
          },
          "execution_count": 61
        }
      ]
    },
    {
      "cell_type": "code",
      "metadata": {
        "id": "Wu-Og_A8uoyJ",
        "colab_type": "code",
        "colab": {}
      },
      "source": [
        "corrida = pd.DataFrame(df)"
      ],
      "execution_count": 0,
      "outputs": []
    },
    {
      "cell_type": "code",
      "metadata": {
        "id": "g2kPEYmLu5Be",
        "colab_type": "code",
        "outputId": "5b679e4a-b2f9-497e-ca6f-9ec0d0a697f1",
        "colab": {
          "base_uri": "https://localhost:8080/",
          "height": 250
        }
      },
      "source": [
        "corrida.info"
      ],
      "execution_count": 63,
      "outputs": [
        {
          "output_type": "execute_result",
          "data": {
            "text/plain": [
              "<bound method DataFrame.info of      Ano                     Homens  ... Tempo.1   Ref\n",
              "0   1925              Alfredo Gomes  ...       -  [24]\n",
              "1   1926              Jorge Mancebo  ...       -  [24]\n",
              "2   1927      Heitor Blasi [nota 1]  ...       -  [24]\n",
              "3   1928                Salim Maluf  ...       -  [24]\n",
              "4   1929               Heitor Blasi  ...       -  [24]\n",
              "..   ...                        ...  ...     ...   ...\n",
              "91  2015             Stanley Biwott  ...   54:01  [33]\n",
              "92  2016                 Leul Aleme  ...   48:35  [41]\n",
              "93  2017  Dawit Admasu[42] [nota 2]  ...   50:18   NaN\n",
              "94  2018              Belahy Bezabh  ...   50:20  [43]\n",
              "95  2019             Kibiwot Kandie  ...   48:54  [44]\n",
              "\n",
              "[96 rows x 8 columns]>"
            ]
          },
          "metadata": {
            "tags": []
          },
          "execution_count": 63
        }
      ]
    },
    {
      "cell_type": "code",
      "metadata": {
        "id": "FITxV78svQsz",
        "colab_type": "code",
        "outputId": "eaf4b406-93da-4601-fba6-5f9e95535fa7",
        "colab": {
          "base_uri": "https://localhost:8080/",
          "height": 347
        }
      },
      "source": [
        "corrida.head(10)"
      ],
      "execution_count": 64,
      "outputs": [
        {
          "output_type": "execute_result",
          "data": {
            "text/html": [
              "<div>\n",
              "<style scoped>\n",
              "    .dataframe tbody tr th:only-of-type {\n",
              "        vertical-align: middle;\n",
              "    }\n",
              "\n",
              "    .dataframe tbody tr th {\n",
              "        vertical-align: top;\n",
              "    }\n",
              "\n",
              "    .dataframe thead th {\n",
              "        text-align: right;\n",
              "    }\n",
              "</style>\n",
              "<table border=\"1\" class=\"dataframe\">\n",
              "  <thead>\n",
              "    <tr style=\"text-align: right;\">\n",
              "      <th></th>\n",
              "      <th>Ano</th>\n",
              "      <th>Homens</th>\n",
              "      <th>Equipe</th>\n",
              "      <th>Tempo</th>\n",
              "      <th>Mulheres</th>\n",
              "      <th>Equipe.1</th>\n",
              "      <th>Tempo.1</th>\n",
              "      <th>Ref</th>\n",
              "    </tr>\n",
              "  </thead>\n",
              "  <tbody>\n",
              "    <tr>\n",
              "      <th>0</th>\n",
              "      <td>1925</td>\n",
              "      <td>Alfredo Gomes</td>\n",
              "      <td>Clube Espéria</td>\n",
              "      <td>33:21</td>\n",
              "      <td>-</td>\n",
              "      <td>-</td>\n",
              "      <td>-</td>\n",
              "      <td>[24]</td>\n",
              "    </tr>\n",
              "    <tr>\n",
              "      <th>1</th>\n",
              "      <td>1926</td>\n",
              "      <td>Jorge Mancebo</td>\n",
              "      <td>Clube de Regatas Tietê</td>\n",
              "      <td>22:35</td>\n",
              "      <td>-</td>\n",
              "      <td>-</td>\n",
              "      <td>-</td>\n",
              "      <td>[24]</td>\n",
              "    </tr>\n",
              "    <tr>\n",
              "      <th>2</th>\n",
              "      <td>1927</td>\n",
              "      <td>Heitor Blasi [nota 1]</td>\n",
              "      <td>Clube Espéria</td>\n",
              "      <td>23:00</td>\n",
              "      <td>-</td>\n",
              "      <td>-</td>\n",
              "      <td>-</td>\n",
              "      <td>[24]</td>\n",
              "    </tr>\n",
              "    <tr>\n",
              "      <th>3</th>\n",
              "      <td>1928</td>\n",
              "      <td>Salim Maluf</td>\n",
              "      <td>Associação Athlética Palmeiras</td>\n",
              "      <td>29:11</td>\n",
              "      <td>-</td>\n",
              "      <td>-</td>\n",
              "      <td>-</td>\n",
              "      <td>[24]</td>\n",
              "    </tr>\n",
              "    <tr>\n",
              "      <th>4</th>\n",
              "      <td>1929</td>\n",
              "      <td>Heitor Blasi</td>\n",
              "      <td>Societá Palestra Itália</td>\n",
              "      <td>28:39</td>\n",
              "      <td>-</td>\n",
              "      <td>-</td>\n",
              "      <td>-</td>\n",
              "      <td>[24]</td>\n",
              "    </tr>\n",
              "    <tr>\n",
              "      <th>5</th>\n",
              "      <td>1930</td>\n",
              "      <td>Murilo de Araújo</td>\n",
              "      <td>Voluntários da Pátria</td>\n",
              "      <td>25:35</td>\n",
              "      <td>-</td>\n",
              "      <td>-</td>\n",
              "      <td>-</td>\n",
              "      <td>[25]</td>\n",
              "    </tr>\n",
              "    <tr>\n",
              "      <th>6</th>\n",
              "      <td>1931</td>\n",
              "      <td>José Agnello</td>\n",
              "      <td>Club Athletico Paulistano</td>\n",
              "      <td>26:05</td>\n",
              "      <td>-</td>\n",
              "      <td>-</td>\n",
              "      <td>-</td>\n",
              "      <td>[25]</td>\n",
              "    </tr>\n",
              "    <tr>\n",
              "      <th>7</th>\n",
              "      <td>1932</td>\n",
              "      <td>Nestor Gomes</td>\n",
              "      <td>Club Athletico Paulistano</td>\n",
              "      <td>25:23</td>\n",
              "      <td>-</td>\n",
              "      <td>-</td>\n",
              "      <td>-</td>\n",
              "      <td>[25]</td>\n",
              "    </tr>\n",
              "    <tr>\n",
              "      <th>8</th>\n",
              "      <td>1933</td>\n",
              "      <td>Nestor Gomes</td>\n",
              "      <td>Club Athletico Paulistano</td>\n",
              "      <td>25:50</td>\n",
              "      <td>-</td>\n",
              "      <td>-</td>\n",
              "      <td>-</td>\n",
              "      <td>[25]</td>\n",
              "    </tr>\n",
              "    <tr>\n",
              "      <th>9</th>\n",
              "      <td>1934</td>\n",
              "      <td>Alfredo Carletti</td>\n",
              "      <td>Club Athletico Franco Brasileiro</td>\n",
              "      <td>24:10</td>\n",
              "      <td>-</td>\n",
              "      <td>-</td>\n",
              "      <td>-</td>\n",
              "      <td>[25]</td>\n",
              "    </tr>\n",
              "  </tbody>\n",
              "</table>\n",
              "</div>"
            ],
            "text/plain": [
              "    Ano                 Homens  ... Tempo.1   Ref\n",
              "0  1925          Alfredo Gomes  ...       -  [24]\n",
              "1  1926          Jorge Mancebo  ...       -  [24]\n",
              "2  1927  Heitor Blasi [nota 1]  ...       -  [24]\n",
              "3  1928            Salim Maluf  ...       -  [24]\n",
              "4  1929           Heitor Blasi  ...       -  [24]\n",
              "5  1930       Murilo de Araújo  ...       -  [25]\n",
              "6  1931           José Agnello  ...       -  [25]\n",
              "7  1932           Nestor Gomes  ...       -  [25]\n",
              "8  1933           Nestor Gomes  ...       -  [25]\n",
              "9  1934       Alfredo Carletti  ...       -  [25]\n",
              "\n",
              "[10 rows x 8 columns]"
            ]
          },
          "metadata": {
            "tags": []
          },
          "execution_count": 64
        }
      ]
    },
    {
      "cell_type": "code",
      "metadata": {
        "id": "IRTv5B6JvjTK",
        "colab_type": "code",
        "colab": {}
      },
      "source": [
        ""
      ],
      "execution_count": 0,
      "outputs": []
    },
    {
      "cell_type": "code",
      "metadata": {
        "id": "qYen4P03wL7A",
        "colab_type": "code",
        "colab": {
          "base_uri": "https://localhost:8080/",
          "height": 137
        },
        "outputId": "b273ea85-85e5-48af-b5fd-972e941ffce5"
      },
      "source": [
        "\n",
        "\n",
        "corrida.head(3)"
      ],
      "execution_count": 65,
      "outputs": [
        {
          "output_type": "execute_result",
          "data": {
            "text/html": [
              "<div>\n",
              "<style scoped>\n",
              "    .dataframe tbody tr th:only-of-type {\n",
              "        vertical-align: middle;\n",
              "    }\n",
              "\n",
              "    .dataframe tbody tr th {\n",
              "        vertical-align: top;\n",
              "    }\n",
              "\n",
              "    .dataframe thead th {\n",
              "        text-align: right;\n",
              "    }\n",
              "</style>\n",
              "<table border=\"1\" class=\"dataframe\">\n",
              "  <thead>\n",
              "    <tr style=\"text-align: right;\">\n",
              "      <th></th>\n",
              "      <th>Ano</th>\n",
              "      <th>Homens</th>\n",
              "      <th>Equipe</th>\n",
              "      <th>Tempo</th>\n",
              "      <th>Mulheres</th>\n",
              "      <th>Equipe.1</th>\n",
              "      <th>Tempo.1</th>\n",
              "      <th>Ref</th>\n",
              "    </tr>\n",
              "  </thead>\n",
              "  <tbody>\n",
              "    <tr>\n",
              "      <th>0</th>\n",
              "      <td>1925</td>\n",
              "      <td>Alfredo Gomes</td>\n",
              "      <td>Clube Espéria</td>\n",
              "      <td>33:21</td>\n",
              "      <td>-</td>\n",
              "      <td>-</td>\n",
              "      <td>-</td>\n",
              "      <td>[24]</td>\n",
              "    </tr>\n",
              "    <tr>\n",
              "      <th>1</th>\n",
              "      <td>1926</td>\n",
              "      <td>Jorge Mancebo</td>\n",
              "      <td>Clube de Regatas Tietê</td>\n",
              "      <td>22:35</td>\n",
              "      <td>-</td>\n",
              "      <td>-</td>\n",
              "      <td>-</td>\n",
              "      <td>[24]</td>\n",
              "    </tr>\n",
              "    <tr>\n",
              "      <th>2</th>\n",
              "      <td>1927</td>\n",
              "      <td>Heitor Blasi [nota 1]</td>\n",
              "      <td>Clube Espéria</td>\n",
              "      <td>23:00</td>\n",
              "      <td>-</td>\n",
              "      <td>-</td>\n",
              "      <td>-</td>\n",
              "      <td>[24]</td>\n",
              "    </tr>\n",
              "  </tbody>\n",
              "</table>\n",
              "</div>"
            ],
            "text/plain": [
              "    Ano                 Homens                  Equipe  ... Equipe.1 Tempo.1   Ref\n",
              "0  1925          Alfredo Gomes           Clube Espéria  ...        -       -  [24]\n",
              "1  1926          Jorge Mancebo  Clube de Regatas Tietê  ...        -       -  [24]\n",
              "2  1927  Heitor Blasi [nota 1]           Clube Espéria  ...        -       -  [24]\n",
              "\n",
              "[3 rows x 8 columns]"
            ]
          },
          "metadata": {
            "tags": []
          },
          "execution_count": 65
        }
      ]
    },
    {
      "cell_type": "code",
      "metadata": {
        "id": "Ie0X3p_7bDR9",
        "colab_type": "code",
        "colab": {
          "base_uri": "https://localhost:8080/",
          "height": 33
        },
        "outputId": "dffe5273-fb72-419a-e9fb-5b3b01719c68"
      },
      "source": [
        "#Shape\n",
        "corrida.shape"
      ],
      "execution_count": 66,
      "outputs": [
        {
          "output_type": "execute_result",
          "data": {
            "text/plain": [
              "(96, 8)"
            ]
          },
          "metadata": {
            "tags": []
          },
          "execution_count": 66
        }
      ]
    },
    {
      "cell_type": "code",
      "metadata": {
        "id": "4lNYFt3MbHwZ",
        "colab_type": "code",
        "colab": {
          "base_uri": "https://localhost:8080/",
          "height": 266
        },
        "outputId": "d01bbf9a-de2d-48ee-f564-99e507f2ba13"
      },
      "source": [
        "#Obtendo  uma visão geral dos dados para analise\n",
        "corrida.info()"
      ],
      "execution_count": 67,
      "outputs": [
        {
          "output_type": "stream",
          "text": [
            "<class 'pandas.core.frame.DataFrame'>\n",
            "RangeIndex: 96 entries, 0 to 95\n",
            "Data columns (total 8 columns):\n",
            " #   Column    Non-Null Count  Dtype \n",
            "---  ------    --------------  ----- \n",
            " 0   Ano       96 non-null     object\n",
            " 1   Homens    96 non-null     object\n",
            " 2   Equipe    93 non-null     object\n",
            " 3   Tempo     96 non-null     object\n",
            " 4   Mulheres  96 non-null     object\n",
            " 5   Equipe.1  91 non-null     object\n",
            " 6   Tempo.1   96 non-null     object\n",
            " 7   Ref       95 non-null     object\n",
            "dtypes: object(8)\n",
            "memory usage: 6.1+ KB\n"
          ],
          "name": "stdout"
        }
      ]
    },
    {
      "cell_type": "code",
      "metadata": {
        "id": "cMSi87K6ba0G",
        "colab_type": "code",
        "colab": {
          "base_uri": "https://localhost:8080/",
          "height": 166
        },
        "outputId": "467e838f-13ab-42e2-c02b-407bb902186e"
      },
      "source": [
        "# Verificando valores ausentes\n",
        "corrida.isnull().sum()"
      ],
      "execution_count": 68,
      "outputs": [
        {
          "output_type": "execute_result",
          "data": {
            "text/plain": [
              "Ano         0\n",
              "Homens      0\n",
              "Equipe      3\n",
              "Tempo       0\n",
              "Mulheres    0\n",
              "Equipe.1    5\n",
              "Tempo.1     0\n",
              "Ref         1\n",
              "dtype: int64"
            ]
          },
          "metadata": {
            "tags": []
          },
          "execution_count": 68
        }
      ]
    },
    {
      "cell_type": "code",
      "metadata": {
        "id": "cqFLGSHdgLq4",
        "colab_type": "code",
        "colab": {
          "base_uri": "https://localhost:8080/",
          "height": 197
        },
        "outputId": "333ef36a-d06a-475b-fe39-bf81204936fa"
      },
      "source": [
        "corrida.head()"
      ],
      "execution_count": 69,
      "outputs": [
        {
          "output_type": "execute_result",
          "data": {
            "text/html": [
              "<div>\n",
              "<style scoped>\n",
              "    .dataframe tbody tr th:only-of-type {\n",
              "        vertical-align: middle;\n",
              "    }\n",
              "\n",
              "    .dataframe tbody tr th {\n",
              "        vertical-align: top;\n",
              "    }\n",
              "\n",
              "    .dataframe thead th {\n",
              "        text-align: right;\n",
              "    }\n",
              "</style>\n",
              "<table border=\"1\" class=\"dataframe\">\n",
              "  <thead>\n",
              "    <tr style=\"text-align: right;\">\n",
              "      <th></th>\n",
              "      <th>Ano</th>\n",
              "      <th>Homens</th>\n",
              "      <th>Equipe</th>\n",
              "      <th>Tempo</th>\n",
              "      <th>Mulheres</th>\n",
              "      <th>Equipe.1</th>\n",
              "      <th>Tempo.1</th>\n",
              "      <th>Ref</th>\n",
              "    </tr>\n",
              "  </thead>\n",
              "  <tbody>\n",
              "    <tr>\n",
              "      <th>0</th>\n",
              "      <td>1925</td>\n",
              "      <td>Alfredo Gomes</td>\n",
              "      <td>Clube Espéria</td>\n",
              "      <td>33:21</td>\n",
              "      <td>-</td>\n",
              "      <td>-</td>\n",
              "      <td>-</td>\n",
              "      <td>[24]</td>\n",
              "    </tr>\n",
              "    <tr>\n",
              "      <th>1</th>\n",
              "      <td>1926</td>\n",
              "      <td>Jorge Mancebo</td>\n",
              "      <td>Clube de Regatas Tietê</td>\n",
              "      <td>22:35</td>\n",
              "      <td>-</td>\n",
              "      <td>-</td>\n",
              "      <td>-</td>\n",
              "      <td>[24]</td>\n",
              "    </tr>\n",
              "    <tr>\n",
              "      <th>2</th>\n",
              "      <td>1927</td>\n",
              "      <td>Heitor Blasi [nota 1]</td>\n",
              "      <td>Clube Espéria</td>\n",
              "      <td>23:00</td>\n",
              "      <td>-</td>\n",
              "      <td>-</td>\n",
              "      <td>-</td>\n",
              "      <td>[24]</td>\n",
              "    </tr>\n",
              "    <tr>\n",
              "      <th>3</th>\n",
              "      <td>1928</td>\n",
              "      <td>Salim Maluf</td>\n",
              "      <td>Associação Athlética Palmeiras</td>\n",
              "      <td>29:11</td>\n",
              "      <td>-</td>\n",
              "      <td>-</td>\n",
              "      <td>-</td>\n",
              "      <td>[24]</td>\n",
              "    </tr>\n",
              "    <tr>\n",
              "      <th>4</th>\n",
              "      <td>1929</td>\n",
              "      <td>Heitor Blasi</td>\n",
              "      <td>Societá Palestra Itália</td>\n",
              "      <td>28:39</td>\n",
              "      <td>-</td>\n",
              "      <td>-</td>\n",
              "      <td>-</td>\n",
              "      <td>[24]</td>\n",
              "    </tr>\n",
              "  </tbody>\n",
              "</table>\n",
              "</div>"
            ],
            "text/plain": [
              "    Ano                 Homens  ... Tempo.1   Ref\n",
              "0  1925          Alfredo Gomes  ...       -  [24]\n",
              "1  1926          Jorge Mancebo  ...       -  [24]\n",
              "2  1927  Heitor Blasi [nota 1]  ...       -  [24]\n",
              "3  1928            Salim Maluf  ...       -  [24]\n",
              "4  1929           Heitor Blasi  ...       -  [24]\n",
              "\n",
              "[5 rows x 8 columns]"
            ]
          },
          "metadata": {
            "tags": []
          },
          "execution_count": 69
        }
      ]
    },
    {
      "cell_type": "code",
      "metadata": {
        "id": "12ZCcNHMgLuK",
        "colab_type": "code",
        "colab": {}
      },
      "source": [
        "corrida['Mulheres'] = corrida['Mulheres'].str.strip('-')"
      ],
      "execution_count": 0,
      "outputs": []
    },
    {
      "cell_type": "code",
      "metadata": {
        "id": "o5fstp3DhRza",
        "colab_type": "code",
        "colab": {}
      },
      "source": [
        "corrida['Tempo.1'] = corrida['Tempo.1'].str.strip('-')"
      ],
      "execution_count": 0,
      "outputs": []
    },
    {
      "cell_type": "code",
      "metadata": {
        "id": "qPzlW-bDgLyS",
        "colab_type": "code",
        "colab": {
          "base_uri": "https://localhost:8080/",
          "height": 197
        },
        "outputId": "dccd95ea-454d-4670-b6ee-657ce5e5ef88"
      },
      "source": [
        "corrida.head()"
      ],
      "execution_count": 72,
      "outputs": [
        {
          "output_type": "execute_result",
          "data": {
            "text/html": [
              "<div>\n",
              "<style scoped>\n",
              "    .dataframe tbody tr th:only-of-type {\n",
              "        vertical-align: middle;\n",
              "    }\n",
              "\n",
              "    .dataframe tbody tr th {\n",
              "        vertical-align: top;\n",
              "    }\n",
              "\n",
              "    .dataframe thead th {\n",
              "        text-align: right;\n",
              "    }\n",
              "</style>\n",
              "<table border=\"1\" class=\"dataframe\">\n",
              "  <thead>\n",
              "    <tr style=\"text-align: right;\">\n",
              "      <th></th>\n",
              "      <th>Ano</th>\n",
              "      <th>Homens</th>\n",
              "      <th>Equipe</th>\n",
              "      <th>Tempo</th>\n",
              "      <th>Mulheres</th>\n",
              "      <th>Equipe.1</th>\n",
              "      <th>Tempo.1</th>\n",
              "      <th>Ref</th>\n",
              "    </tr>\n",
              "  </thead>\n",
              "  <tbody>\n",
              "    <tr>\n",
              "      <th>0</th>\n",
              "      <td>1925</td>\n",
              "      <td>Alfredo Gomes</td>\n",
              "      <td>Clube Espéria</td>\n",
              "      <td>33:21</td>\n",
              "      <td></td>\n",
              "      <td>-</td>\n",
              "      <td></td>\n",
              "      <td>[24]</td>\n",
              "    </tr>\n",
              "    <tr>\n",
              "      <th>1</th>\n",
              "      <td>1926</td>\n",
              "      <td>Jorge Mancebo</td>\n",
              "      <td>Clube de Regatas Tietê</td>\n",
              "      <td>22:35</td>\n",
              "      <td></td>\n",
              "      <td>-</td>\n",
              "      <td></td>\n",
              "      <td>[24]</td>\n",
              "    </tr>\n",
              "    <tr>\n",
              "      <th>2</th>\n",
              "      <td>1927</td>\n",
              "      <td>Heitor Blasi [nota 1]</td>\n",
              "      <td>Clube Espéria</td>\n",
              "      <td>23:00</td>\n",
              "      <td></td>\n",
              "      <td>-</td>\n",
              "      <td></td>\n",
              "      <td>[24]</td>\n",
              "    </tr>\n",
              "    <tr>\n",
              "      <th>3</th>\n",
              "      <td>1928</td>\n",
              "      <td>Salim Maluf</td>\n",
              "      <td>Associação Athlética Palmeiras</td>\n",
              "      <td>29:11</td>\n",
              "      <td></td>\n",
              "      <td>-</td>\n",
              "      <td></td>\n",
              "      <td>[24]</td>\n",
              "    </tr>\n",
              "    <tr>\n",
              "      <th>4</th>\n",
              "      <td>1929</td>\n",
              "      <td>Heitor Blasi</td>\n",
              "      <td>Societá Palestra Itália</td>\n",
              "      <td>28:39</td>\n",
              "      <td></td>\n",
              "      <td>-</td>\n",
              "      <td></td>\n",
              "      <td>[24]</td>\n",
              "    </tr>\n",
              "  </tbody>\n",
              "</table>\n",
              "</div>"
            ],
            "text/plain": [
              "    Ano                 Homens  ... Tempo.1   Ref\n",
              "0  1925          Alfredo Gomes  ...          [24]\n",
              "1  1926          Jorge Mancebo  ...          [24]\n",
              "2  1927  Heitor Blasi [nota 1]  ...          [24]\n",
              "3  1928            Salim Maluf  ...          [24]\n",
              "4  1929           Heitor Blasi  ...          [24]\n",
              "\n",
              "[5 rows x 8 columns]"
            ]
          },
          "metadata": {
            "tags": []
          },
          "execution_count": 72
        }
      ]
    },
    {
      "cell_type": "code",
      "metadata": {
        "id": "9mMSUmPRbih4",
        "colab_type": "code",
        "colab": {}
      },
      "source": [
        "#Criar uma nova variavel\n",
        "#Remover todas as linhas com valores ausente\n",
        "corrida2= corrida.dropna(axis = 0, how = 'any')"
      ],
      "execution_count": 0,
      "outputs": []
    },
    {
      "cell_type": "code",
      "metadata": {
        "id": "iAvrgszBVCuf",
        "colab_type": "code",
        "colab": {
          "base_uri": "https://localhost:8080/",
          "height": 197
        },
        "outputId": "7fa064f1-339b-43b0-8efc-37ff4b8152f5"
      },
      "source": [
        "corrida2.head()"
      ],
      "execution_count": 74,
      "outputs": [
        {
          "output_type": "execute_result",
          "data": {
            "text/html": [
              "<div>\n",
              "<style scoped>\n",
              "    .dataframe tbody tr th:only-of-type {\n",
              "        vertical-align: middle;\n",
              "    }\n",
              "\n",
              "    .dataframe tbody tr th {\n",
              "        vertical-align: top;\n",
              "    }\n",
              "\n",
              "    .dataframe thead th {\n",
              "        text-align: right;\n",
              "    }\n",
              "</style>\n",
              "<table border=\"1\" class=\"dataframe\">\n",
              "  <thead>\n",
              "    <tr style=\"text-align: right;\">\n",
              "      <th></th>\n",
              "      <th>Ano</th>\n",
              "      <th>Homens</th>\n",
              "      <th>Equipe</th>\n",
              "      <th>Tempo</th>\n",
              "      <th>Mulheres</th>\n",
              "      <th>Equipe.1</th>\n",
              "      <th>Tempo.1</th>\n",
              "      <th>Ref</th>\n",
              "    </tr>\n",
              "  </thead>\n",
              "  <tbody>\n",
              "    <tr>\n",
              "      <th>0</th>\n",
              "      <td>1925</td>\n",
              "      <td>Alfredo Gomes</td>\n",
              "      <td>Clube Espéria</td>\n",
              "      <td>33:21</td>\n",
              "      <td></td>\n",
              "      <td>-</td>\n",
              "      <td></td>\n",
              "      <td>[24]</td>\n",
              "    </tr>\n",
              "    <tr>\n",
              "      <th>1</th>\n",
              "      <td>1926</td>\n",
              "      <td>Jorge Mancebo</td>\n",
              "      <td>Clube de Regatas Tietê</td>\n",
              "      <td>22:35</td>\n",
              "      <td></td>\n",
              "      <td>-</td>\n",
              "      <td></td>\n",
              "      <td>[24]</td>\n",
              "    </tr>\n",
              "    <tr>\n",
              "      <th>2</th>\n",
              "      <td>1927</td>\n",
              "      <td>Heitor Blasi [nota 1]</td>\n",
              "      <td>Clube Espéria</td>\n",
              "      <td>23:00</td>\n",
              "      <td></td>\n",
              "      <td>-</td>\n",
              "      <td></td>\n",
              "      <td>[24]</td>\n",
              "    </tr>\n",
              "    <tr>\n",
              "      <th>3</th>\n",
              "      <td>1928</td>\n",
              "      <td>Salim Maluf</td>\n",
              "      <td>Associação Athlética Palmeiras</td>\n",
              "      <td>29:11</td>\n",
              "      <td></td>\n",
              "      <td>-</td>\n",
              "      <td></td>\n",
              "      <td>[24]</td>\n",
              "    </tr>\n",
              "    <tr>\n",
              "      <th>4</th>\n",
              "      <td>1929</td>\n",
              "      <td>Heitor Blasi</td>\n",
              "      <td>Societá Palestra Itália</td>\n",
              "      <td>28:39</td>\n",
              "      <td></td>\n",
              "      <td>-</td>\n",
              "      <td></td>\n",
              "      <td>[24]</td>\n",
              "    </tr>\n",
              "  </tbody>\n",
              "</table>\n",
              "</div>"
            ],
            "text/plain": [
              "    Ano                 Homens  ... Tempo.1   Ref\n",
              "0  1925          Alfredo Gomes  ...          [24]\n",
              "1  1926          Jorge Mancebo  ...          [24]\n",
              "2  1927  Heitor Blasi [nota 1]  ...          [24]\n",
              "3  1928            Salim Maluf  ...          [24]\n",
              "4  1929           Heitor Blasi  ...          [24]\n",
              "\n",
              "[5 rows x 8 columns]"
            ]
          },
          "metadata": {
            "tags": []
          },
          "execution_count": 74
        }
      ]
    },
    {
      "cell_type": "code",
      "metadata": {
        "id": "OESNjfGvbupb",
        "colab_type": "code",
        "colab": {
          "base_uri": "https://localhost:8080/",
          "height": 166
        },
        "outputId": "e4f7c641-ab6b-4ec9-c700-d1ea1da73d6c"
      },
      "source": [
        "#Confirmar a retirada de valores nulos\n",
        "corrida2.isnull().sum()"
      ],
      "execution_count": 75,
      "outputs": [
        {
          "output_type": "execute_result",
          "data": {
            "text/plain": [
              "Ano         0\n",
              "Homens      0\n",
              "Equipe      0\n",
              "Tempo       0\n",
              "Mulheres    0\n",
              "Equipe.1    0\n",
              "Tempo.1     0\n",
              "Ref         0\n",
              "dtype: int64"
            ]
          },
          "metadata": {
            "tags": []
          },
          "execution_count": 75
        }
      ]
    },
    {
      "cell_type": "code",
      "metadata": {
        "id": "FG-tRfV0gL1L",
        "colab_type": "code",
        "colab": {
          "base_uri": "https://localhost:8080/",
          "height": 197
        },
        "outputId": "db4289fd-7b90-4a02-ff8a-5e07cf323251"
      },
      "source": [
        "corrida2.head()"
      ],
      "execution_count": 76,
      "outputs": [
        {
          "output_type": "execute_result",
          "data": {
            "text/html": [
              "<div>\n",
              "<style scoped>\n",
              "    .dataframe tbody tr th:only-of-type {\n",
              "        vertical-align: middle;\n",
              "    }\n",
              "\n",
              "    .dataframe tbody tr th {\n",
              "        vertical-align: top;\n",
              "    }\n",
              "\n",
              "    .dataframe thead th {\n",
              "        text-align: right;\n",
              "    }\n",
              "</style>\n",
              "<table border=\"1\" class=\"dataframe\">\n",
              "  <thead>\n",
              "    <tr style=\"text-align: right;\">\n",
              "      <th></th>\n",
              "      <th>Ano</th>\n",
              "      <th>Homens</th>\n",
              "      <th>Equipe</th>\n",
              "      <th>Tempo</th>\n",
              "      <th>Mulheres</th>\n",
              "      <th>Equipe.1</th>\n",
              "      <th>Tempo.1</th>\n",
              "      <th>Ref</th>\n",
              "    </tr>\n",
              "  </thead>\n",
              "  <tbody>\n",
              "    <tr>\n",
              "      <th>0</th>\n",
              "      <td>1925</td>\n",
              "      <td>Alfredo Gomes</td>\n",
              "      <td>Clube Espéria</td>\n",
              "      <td>33:21</td>\n",
              "      <td></td>\n",
              "      <td>-</td>\n",
              "      <td></td>\n",
              "      <td>[24]</td>\n",
              "    </tr>\n",
              "    <tr>\n",
              "      <th>1</th>\n",
              "      <td>1926</td>\n",
              "      <td>Jorge Mancebo</td>\n",
              "      <td>Clube de Regatas Tietê</td>\n",
              "      <td>22:35</td>\n",
              "      <td></td>\n",
              "      <td>-</td>\n",
              "      <td></td>\n",
              "      <td>[24]</td>\n",
              "    </tr>\n",
              "    <tr>\n",
              "      <th>2</th>\n",
              "      <td>1927</td>\n",
              "      <td>Heitor Blasi [nota 1]</td>\n",
              "      <td>Clube Espéria</td>\n",
              "      <td>23:00</td>\n",
              "      <td></td>\n",
              "      <td>-</td>\n",
              "      <td></td>\n",
              "      <td>[24]</td>\n",
              "    </tr>\n",
              "    <tr>\n",
              "      <th>3</th>\n",
              "      <td>1928</td>\n",
              "      <td>Salim Maluf</td>\n",
              "      <td>Associação Athlética Palmeiras</td>\n",
              "      <td>29:11</td>\n",
              "      <td></td>\n",
              "      <td>-</td>\n",
              "      <td></td>\n",
              "      <td>[24]</td>\n",
              "    </tr>\n",
              "    <tr>\n",
              "      <th>4</th>\n",
              "      <td>1929</td>\n",
              "      <td>Heitor Blasi</td>\n",
              "      <td>Societá Palestra Itália</td>\n",
              "      <td>28:39</td>\n",
              "      <td></td>\n",
              "      <td>-</td>\n",
              "      <td></td>\n",
              "      <td>[24]</td>\n",
              "    </tr>\n",
              "  </tbody>\n",
              "</table>\n",
              "</div>"
            ],
            "text/plain": [
              "    Ano                 Homens  ... Tempo.1   Ref\n",
              "0  1925          Alfredo Gomes  ...          [24]\n",
              "1  1926          Jorge Mancebo  ...          [24]\n",
              "2  1927  Heitor Blasi [nota 1]  ...          [24]\n",
              "3  1928            Salim Maluf  ...          [24]\n",
              "4  1929           Heitor Blasi  ...          [24]\n",
              "\n",
              "[5 rows x 8 columns]"
            ]
          },
          "metadata": {
            "tags": []
          },
          "execution_count": 76
        }
      ]
    },
    {
      "cell_type": "code",
      "metadata": {
        "id": "-t9l4vmTb-jn",
        "colab_type": "code",
        "colab": {}
      },
      "source": [
        "#Apagar a coluna REF\n",
        "corrida2.drop('Ref', axis=1, inplace=True)\n"
      ],
      "execution_count": 0,
      "outputs": []
    },
    {
      "cell_type": "code",
      "metadata": {
        "id": "ZeM9TK0zcBWS",
        "colab_type": "code",
        "colab": {}
      },
      "source": [
        "#Apagar a colunas EQUIPE.1\n",
        "corrida2.drop('Equipe.1', axis=1, inplace=True)"
      ],
      "execution_count": 0,
      "outputs": []
    },
    {
      "cell_type": "code",
      "metadata": {
        "id": "ETuqMZmFVnha",
        "colab_type": "code",
        "colab": {
          "base_uri": "https://localhost:8080/",
          "height": 197
        },
        "outputId": "abd7a985-6503-45ac-de9c-4e222c903224"
      },
      "source": [
        "corrida2.head()"
      ],
      "execution_count": 79,
      "outputs": [
        {
          "output_type": "execute_result",
          "data": {
            "text/html": [
              "<div>\n",
              "<style scoped>\n",
              "    .dataframe tbody tr th:only-of-type {\n",
              "        vertical-align: middle;\n",
              "    }\n",
              "\n",
              "    .dataframe tbody tr th {\n",
              "        vertical-align: top;\n",
              "    }\n",
              "\n",
              "    .dataframe thead th {\n",
              "        text-align: right;\n",
              "    }\n",
              "</style>\n",
              "<table border=\"1\" class=\"dataframe\">\n",
              "  <thead>\n",
              "    <tr style=\"text-align: right;\">\n",
              "      <th></th>\n",
              "      <th>Ano</th>\n",
              "      <th>Homens</th>\n",
              "      <th>Equipe</th>\n",
              "      <th>Tempo</th>\n",
              "      <th>Mulheres</th>\n",
              "      <th>Tempo.1</th>\n",
              "    </tr>\n",
              "  </thead>\n",
              "  <tbody>\n",
              "    <tr>\n",
              "      <th>0</th>\n",
              "      <td>1925</td>\n",
              "      <td>Alfredo Gomes</td>\n",
              "      <td>Clube Espéria</td>\n",
              "      <td>33:21</td>\n",
              "      <td></td>\n",
              "      <td></td>\n",
              "    </tr>\n",
              "    <tr>\n",
              "      <th>1</th>\n",
              "      <td>1926</td>\n",
              "      <td>Jorge Mancebo</td>\n",
              "      <td>Clube de Regatas Tietê</td>\n",
              "      <td>22:35</td>\n",
              "      <td></td>\n",
              "      <td></td>\n",
              "    </tr>\n",
              "    <tr>\n",
              "      <th>2</th>\n",
              "      <td>1927</td>\n",
              "      <td>Heitor Blasi [nota 1]</td>\n",
              "      <td>Clube Espéria</td>\n",
              "      <td>23:00</td>\n",
              "      <td></td>\n",
              "      <td></td>\n",
              "    </tr>\n",
              "    <tr>\n",
              "      <th>3</th>\n",
              "      <td>1928</td>\n",
              "      <td>Salim Maluf</td>\n",
              "      <td>Associação Athlética Palmeiras</td>\n",
              "      <td>29:11</td>\n",
              "      <td></td>\n",
              "      <td></td>\n",
              "    </tr>\n",
              "    <tr>\n",
              "      <th>4</th>\n",
              "      <td>1929</td>\n",
              "      <td>Heitor Blasi</td>\n",
              "      <td>Societá Palestra Itália</td>\n",
              "      <td>28:39</td>\n",
              "      <td></td>\n",
              "      <td></td>\n",
              "    </tr>\n",
              "  </tbody>\n",
              "</table>\n",
              "</div>"
            ],
            "text/plain": [
              "    Ano                 Homens  ... Mulheres Tempo.1\n",
              "0  1925          Alfredo Gomes  ...                 \n",
              "1  1926          Jorge Mancebo  ...                 \n",
              "2  1927  Heitor Blasi [nota 1]  ...                 \n",
              "3  1928            Salim Maluf  ...                 \n",
              "4  1929           Heitor Blasi  ...                 \n",
              "\n",
              "[5 rows x 6 columns]"
            ]
          },
          "metadata": {
            "tags": []
          },
          "execution_count": 79
        }
      ]
    },
    {
      "cell_type": "code",
      "metadata": {
        "id": "NbDCTYcyb9NA",
        "colab_type": "code",
        "colab": {
          "base_uri": "https://localhost:8080/",
          "height": 233
        },
        "outputId": "664d8f11-c53c-4cb2-cd6a-823067abd836"
      },
      "source": [
        "corrida2.info()"
      ],
      "execution_count": 80,
      "outputs": [
        {
          "output_type": "stream",
          "text": [
            "<class 'pandas.core.frame.DataFrame'>\n",
            "Int64Index: 91 entries, 0 to 92\n",
            "Data columns (total 6 columns):\n",
            " #   Column    Non-Null Count  Dtype \n",
            "---  ------    --------------  ----- \n",
            " 0   Ano       91 non-null     object\n",
            " 1   Homens    91 non-null     object\n",
            " 2   Equipe    91 non-null     object\n",
            " 3   Tempo     91 non-null     object\n",
            " 4   Mulheres  91 non-null     object\n",
            " 5   Tempo.1   91 non-null     object\n",
            "dtypes: object(6)\n",
            "memory usage: 5.0+ KB\n"
          ],
          "name": "stdout"
        }
      ]
    },
    {
      "cell_type": "code",
      "metadata": {
        "id": "Nq79g5t_ck-c",
        "colab_type": "code",
        "colab": {
          "base_uri": "https://localhost:8080/",
          "height": 197
        },
        "outputId": "b1f38c4f-5113-4195-e652-a6410a5ecc30"
      },
      "source": [
        "corrida2.head()"
      ],
      "execution_count": 81,
      "outputs": [
        {
          "output_type": "execute_result",
          "data": {
            "text/html": [
              "<div>\n",
              "<style scoped>\n",
              "    .dataframe tbody tr th:only-of-type {\n",
              "        vertical-align: middle;\n",
              "    }\n",
              "\n",
              "    .dataframe tbody tr th {\n",
              "        vertical-align: top;\n",
              "    }\n",
              "\n",
              "    .dataframe thead th {\n",
              "        text-align: right;\n",
              "    }\n",
              "</style>\n",
              "<table border=\"1\" class=\"dataframe\">\n",
              "  <thead>\n",
              "    <tr style=\"text-align: right;\">\n",
              "      <th></th>\n",
              "      <th>Ano</th>\n",
              "      <th>Homens</th>\n",
              "      <th>Equipe</th>\n",
              "      <th>Tempo</th>\n",
              "      <th>Mulheres</th>\n",
              "      <th>Tempo.1</th>\n",
              "    </tr>\n",
              "  </thead>\n",
              "  <tbody>\n",
              "    <tr>\n",
              "      <th>0</th>\n",
              "      <td>1925</td>\n",
              "      <td>Alfredo Gomes</td>\n",
              "      <td>Clube Espéria</td>\n",
              "      <td>33:21</td>\n",
              "      <td></td>\n",
              "      <td></td>\n",
              "    </tr>\n",
              "    <tr>\n",
              "      <th>1</th>\n",
              "      <td>1926</td>\n",
              "      <td>Jorge Mancebo</td>\n",
              "      <td>Clube de Regatas Tietê</td>\n",
              "      <td>22:35</td>\n",
              "      <td></td>\n",
              "      <td></td>\n",
              "    </tr>\n",
              "    <tr>\n",
              "      <th>2</th>\n",
              "      <td>1927</td>\n",
              "      <td>Heitor Blasi [nota 1]</td>\n",
              "      <td>Clube Espéria</td>\n",
              "      <td>23:00</td>\n",
              "      <td></td>\n",
              "      <td></td>\n",
              "    </tr>\n",
              "    <tr>\n",
              "      <th>3</th>\n",
              "      <td>1928</td>\n",
              "      <td>Salim Maluf</td>\n",
              "      <td>Associação Athlética Palmeiras</td>\n",
              "      <td>29:11</td>\n",
              "      <td></td>\n",
              "      <td></td>\n",
              "    </tr>\n",
              "    <tr>\n",
              "      <th>4</th>\n",
              "      <td>1929</td>\n",
              "      <td>Heitor Blasi</td>\n",
              "      <td>Societá Palestra Itália</td>\n",
              "      <td>28:39</td>\n",
              "      <td></td>\n",
              "      <td></td>\n",
              "    </tr>\n",
              "  </tbody>\n",
              "</table>\n",
              "</div>"
            ],
            "text/plain": [
              "    Ano                 Homens  ... Mulheres Tempo.1\n",
              "0  1925          Alfredo Gomes  ...                 \n",
              "1  1926          Jorge Mancebo  ...                 \n",
              "2  1927  Heitor Blasi [nota 1]  ...                 \n",
              "3  1928            Salim Maluf  ...                 \n",
              "4  1929           Heitor Blasi  ...                 \n",
              "\n",
              "[5 rows x 6 columns]"
            ]
          },
          "metadata": {
            "tags": []
          },
          "execution_count": 81
        }
      ]
    },
    {
      "cell_type": "code",
      "metadata": {
        "id": "vtPPG_bNclA_",
        "colab_type": "code",
        "colab": {}
      },
      "source": [
        "#Transformar A coluna ano em INDEX\n",
        "\n",
        "corrida2.set_index('Ano',inplace= True)"
      ],
      "execution_count": 0,
      "outputs": []
    },
    {
      "cell_type": "code",
      "metadata": {
        "id": "o4pdcZPeclDl",
        "colab_type": "code",
        "colab": {
          "base_uri": "https://localhost:8080/",
          "height": 227
        },
        "outputId": "4dcfccdf-a0d8-49ba-b06f-24e6478bfaa3"
      },
      "source": [
        "corrida2.head()"
      ],
      "execution_count": 83,
      "outputs": [
        {
          "output_type": "execute_result",
          "data": {
            "text/html": [
              "<div>\n",
              "<style scoped>\n",
              "    .dataframe tbody tr th:only-of-type {\n",
              "        vertical-align: middle;\n",
              "    }\n",
              "\n",
              "    .dataframe tbody tr th {\n",
              "        vertical-align: top;\n",
              "    }\n",
              "\n",
              "    .dataframe thead th {\n",
              "        text-align: right;\n",
              "    }\n",
              "</style>\n",
              "<table border=\"1\" class=\"dataframe\">\n",
              "  <thead>\n",
              "    <tr style=\"text-align: right;\">\n",
              "      <th></th>\n",
              "      <th>Homens</th>\n",
              "      <th>Equipe</th>\n",
              "      <th>Tempo</th>\n",
              "      <th>Mulheres</th>\n",
              "      <th>Tempo.1</th>\n",
              "    </tr>\n",
              "    <tr>\n",
              "      <th>Ano</th>\n",
              "      <th></th>\n",
              "      <th></th>\n",
              "      <th></th>\n",
              "      <th></th>\n",
              "      <th></th>\n",
              "    </tr>\n",
              "  </thead>\n",
              "  <tbody>\n",
              "    <tr>\n",
              "      <th>1925</th>\n",
              "      <td>Alfredo Gomes</td>\n",
              "      <td>Clube Espéria</td>\n",
              "      <td>33:21</td>\n",
              "      <td></td>\n",
              "      <td></td>\n",
              "    </tr>\n",
              "    <tr>\n",
              "      <th>1926</th>\n",
              "      <td>Jorge Mancebo</td>\n",
              "      <td>Clube de Regatas Tietê</td>\n",
              "      <td>22:35</td>\n",
              "      <td></td>\n",
              "      <td></td>\n",
              "    </tr>\n",
              "    <tr>\n",
              "      <th>1927</th>\n",
              "      <td>Heitor Blasi [nota 1]</td>\n",
              "      <td>Clube Espéria</td>\n",
              "      <td>23:00</td>\n",
              "      <td></td>\n",
              "      <td></td>\n",
              "    </tr>\n",
              "    <tr>\n",
              "      <th>1928</th>\n",
              "      <td>Salim Maluf</td>\n",
              "      <td>Associação Athlética Palmeiras</td>\n",
              "      <td>29:11</td>\n",
              "      <td></td>\n",
              "      <td></td>\n",
              "    </tr>\n",
              "    <tr>\n",
              "      <th>1929</th>\n",
              "      <td>Heitor Blasi</td>\n",
              "      <td>Societá Palestra Itália</td>\n",
              "      <td>28:39</td>\n",
              "      <td></td>\n",
              "      <td></td>\n",
              "    </tr>\n",
              "  </tbody>\n",
              "</table>\n",
              "</div>"
            ],
            "text/plain": [
              "                     Homens                          Equipe  ... Mulheres Tempo.1\n",
              "Ano                                                          ...                 \n",
              "1925          Alfredo Gomes                   Clube Espéria  ...                 \n",
              "1926          Jorge Mancebo          Clube de Regatas Tietê  ...                 \n",
              "1927  Heitor Blasi [nota 1]                   Clube Espéria  ...                 \n",
              "1928            Salim Maluf  Associação Athlética Palmeiras  ...                 \n",
              "1929           Heitor Blasi         Societá Palestra Itália  ...                 \n",
              "\n",
              "[5 rows x 5 columns]"
            ]
          },
          "metadata": {
            "tags": []
          },
          "execution_count": 83
        }
      ]
    },
    {
      "cell_type": "code",
      "metadata": {
        "id": "Yj2VLi8MclFy",
        "colab_type": "code",
        "colab": {}
      },
      "source": [
        "# SAlvar o aqruivo como CSV\n",
        "\n",
        "silvestre.to_csv('/content/drive/My Drive/WEBSCREP-DSA/silvestre.csv', encoding = \"utf-8\", index = False)"
      ],
      "execution_count": 0,
      "outputs": []
    },
    {
      "cell_type": "code",
      "metadata": {
        "id": "0MOPKEBEkiMc",
        "colab_type": "code",
        "colab": {}
      },
      "source": [
        ""
      ],
      "execution_count": 0,
      "outputs": []
    }
  ]
}