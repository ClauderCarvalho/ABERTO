{
  "nbformat": 4,
  "nbformat_minor": 0,
  "metadata": {
    "colab": {
      "name": "Crie seu próprio DataFrame com Pandas.ipynb",
      "provenance": [],
      "collapsed_sections": [],
      "authorship_tag": "ABX9TyN/DYLkZe/6gZmq5AGYSSc4",
      "include_colab_link": true
    },
    "kernelspec": {
      "name": "python3",
      "display_name": "Python 3"
    }
  },
  "cells": [
    {
      "cell_type": "markdown",
      "metadata": {
        "id": "view-in-github",
        "colab_type": "text"
      },
      "source": [
        "<a href=\"https://colab.research.google.com/github/ClauderCarvalho/ABERTO/blob/master/Crie%20seu%20pr%C3%B3prio%20DataFrame%20com%20Pandas.ipynb\" target=\"_parent\"><img src=\"https://colab.research.google.com/assets/colab-badge.svg\" alt=\"Open In Colab\"/></a>"
      ]
    },
    {
      "cell_type": "markdown",
      "metadata": {
        "id": "dNm4Ij-CGkdB",
        "colab_type": "text"
      },
      "source": [
        "Nome: Clauder Noronha"
      ]
    },
    {
      "cell_type": "markdown",
      "metadata": {
        "id": "HtCaXQMdZuwi",
        "colab_type": "text"
      },
      "source": [
        "**Crie seu próprio DataFrame com Pandas**"
      ]
    },
    {
      "cell_type": "code",
      "metadata": {
        "id": "VjLlM_k6Zzp3",
        "colab_type": "code",
        "colab": {}
      },
      "source": [
        ""
      ],
      "execution_count": 1,
      "outputs": []
    },
    {
      "cell_type": "markdown",
      "metadata": {
        "id": "wIeu0KVrZ5Hq",
        "colab_type": "text"
      },
      "source": [
        "O Pandas é uma biblioteca de análise de dados Python muito poderosa que agiliza as etapas de pré-processamento do seu projeto. Neste post, abordarei diferentes maneiras de criar quadros de dados de exemplo com pandas.\n",
        "\n",
        ">>Praticar é um elemento essencial para aprender qualquer assunto. É ainda mais importante na codificação. Para desenvolver habilidades suaves de codificação, a prática desempenha um papel fundamental. Portanto, ao aprender e praticar o básico em análise e manipulação de dados, pode ser conveniente criar seu próprio quadro de dados de amostra, em vez de pesquisar online um quadro de dados adequado. O Pandas fornece várias maneiras de criar quadros de dados de amostra com a forma e as características desejadas.\n",
        "\n",
        "Vamos abordar diferentes maneiras de criar seus próprios quadros de dados. Como sempre, começamos com a importação de numpy e pandas."
      ]
    },
    {
      "cell_type": "code",
      "metadata": {
        "id": "tr8nkx_xZw5k",
        "colab_type": "code",
        "colab": {}
      },
      "source": [
        "import pandas as pd\n",
        "import numpy as np"
      ],
      "execution_count": 2,
      "outputs": []
    },
    {
      "cell_type": "code",
      "metadata": {
        "id": "iWZB5AusaBp5",
        "colab_type": "code",
        "colab": {}
      },
      "source": [
        ""
      ],
      "execution_count": 2,
      "outputs": []
    },
    {
      "cell_type": "markdown",
      "metadata": {
        "id": "yygFFjbCaEPD",
        "colab_type": "text"
      },
      "source": [
        "Podemos criar um dicionário e convertê-lo diretamente em um quadro de dados:"
      ]
    },
    {
      "cell_type": "code",
      "metadata": {
        "id": "31wRL1DYaEqs",
        "colab_type": "code",
        "colab": {}
      },
      "source": [
        "dicionario = {'col_a':[1,2,3],\n",
        "              'col_b':['Clauder','Noronha','carvalho'],\n",
        "              'col_c':['Verdadeir','Falso','Verdadeiro']}"
      ],
      "execution_count": 3,
      "outputs": []
    },
    {
      "cell_type": "code",
      "metadata": {
        "id": "6toSsMCIaZ2T",
        "colab_type": "code",
        "colab": {}
      },
      "source": [
        "df = pd.DataFrame(dicionario)"
      ],
      "execution_count": 4,
      "outputs": []
    },
    {
      "cell_type": "code",
      "metadata": {
        "id": "ajubzuDmagfQ",
        "colab_type": "code",
        "colab": {
          "base_uri": "https://localhost:8080/",
          "height": 137
        },
        "outputId": "613ce59f-5a5c-4f4d-c624-f8f0f700fe0d"
      },
      "source": [
        "df.head()"
      ],
      "execution_count": 5,
      "outputs": [
        {
          "output_type": "execute_result",
          "data": {
            "text/html": [
              "<div>\n",
              "<style scoped>\n",
              "    .dataframe tbody tr th:only-of-type {\n",
              "        vertical-align: middle;\n",
              "    }\n",
              "\n",
              "    .dataframe tbody tr th {\n",
              "        vertical-align: top;\n",
              "    }\n",
              "\n",
              "    .dataframe thead th {\n",
              "        text-align: right;\n",
              "    }\n",
              "</style>\n",
              "<table border=\"1\" class=\"dataframe\">\n",
              "  <thead>\n",
              "    <tr style=\"text-align: right;\">\n",
              "      <th></th>\n",
              "      <th>col_a</th>\n",
              "      <th>col_b</th>\n",
              "      <th>col_c</th>\n",
              "    </tr>\n",
              "  </thead>\n",
              "  <tbody>\n",
              "    <tr>\n",
              "      <th>0</th>\n",
              "      <td>1</td>\n",
              "      <td>Clauder</td>\n",
              "      <td>Verdadeir</td>\n",
              "    </tr>\n",
              "    <tr>\n",
              "      <th>1</th>\n",
              "      <td>2</td>\n",
              "      <td>Noronha</td>\n",
              "      <td>Falso</td>\n",
              "    </tr>\n",
              "    <tr>\n",
              "      <th>2</th>\n",
              "      <td>3</td>\n",
              "      <td>carvalho</td>\n",
              "      <td>Verdadeiro</td>\n",
              "    </tr>\n",
              "  </tbody>\n",
              "</table>\n",
              "</div>"
            ],
            "text/plain": [
              "   col_a     col_b       col_c\n",
              "0      1   Clauder   Verdadeir\n",
              "1      2   Noronha       Falso\n",
              "2      3  carvalho  Verdadeiro"
            ]
          },
          "metadata": {
            "tags": []
          },
          "execution_count": 5
        }
      ]
    },
    {
      "cell_type": "code",
      "metadata": {
        "id": "75AL26Hjalyx",
        "colab_type": "code",
        "colab": {}
      },
      "source": [
        ""
      ],
      "execution_count": 5,
      "outputs": []
    },
    {
      "cell_type": "markdown",
      "metadata": {
        "id": "pDslMt6varD6",
        "colab_type": "text"
      },
      "source": [
        "Nem precisamos especificar os tipos de dados, pois os pandas podem inferir:"
      ]
    },
    {
      "cell_type": "code",
      "metadata": {
        "id": "OHwD8ijnarem",
        "colab_type": "code",
        "colab": {
          "base_uri": "https://localhost:8080/",
          "height": 183
        },
        "outputId": "c5fad2e5-82cf-40e6-f748-c466291af9a0"
      },
      "source": [
        "df.info()"
      ],
      "execution_count": 6,
      "outputs": [
        {
          "output_type": "stream",
          "text": [
            "<class 'pandas.core.frame.DataFrame'>\n",
            "RangeIndex: 3 entries, 0 to 2\n",
            "Data columns (total 3 columns):\n",
            " #   Column  Non-Null Count  Dtype \n",
            "---  ------  --------------  ----- \n",
            " 0   col_a   3 non-null      int64 \n",
            " 1   col_b   3 non-null      object\n",
            " 2   col_c   3 non-null      object\n",
            "dtypes: int64(1), object(2)\n",
            "memory usage: 200.0+ bytes\n"
          ],
          "name": "stdout"
        }
      ]
    },
    {
      "cell_type": "code",
      "metadata": {
        "id": "o7YMnkSKas8v",
        "colab_type": "code",
        "colab": {
          "base_uri": "https://localhost:8080/",
          "height": 83
        },
        "outputId": "51a0bc1c-c093-4ad8-9a3c-55f338a362f8"
      },
      "source": [
        "df.dtypes\n"
      ],
      "execution_count": 7,
      "outputs": [
        {
          "output_type": "execute_result",
          "data": {
            "text/plain": [
              "col_a     int64\n",
              "col_b    object\n",
              "col_c    object\n",
              "dtype: object"
            ]
          },
          "metadata": {
            "tags": []
          },
          "execution_count": 7
        }
      ]
    },
    {
      "cell_type": "code",
      "metadata": {
        "id": "EVpjGO3wawZp",
        "colab_type": "code",
        "colab": {}
      },
      "source": [
        ""
      ],
      "execution_count": 7,
      "outputs": []
    },
    {
      "cell_type": "markdown",
      "metadata": {
        "id": "b2fT5SgqbDIM",
        "colab_type": "text"
      },
      "source": [
        "df, é um quadro de dados relativamente pequeno. Podemos precisar de quadros de dados maiores para determinadas tarefas, mas é entediante digitar um dicionário com muitas entradas. Nesses casos, podemos usar numpy para criar matrizes de amostra. Em seguida, essas matrizes podem ser usadas como valores nos dicionários:"
      ]
    },
    {
      "cell_type": "code",
      "metadata": {
        "id": "F3rRUhRlbFr4",
        "colab_type": "code",
        "colab": {}
      },
      "source": [
        "dicionario_A = {'col_a': np.random.randn(50),\n",
        "                'col_b': np.random.randint(10, size = 50)}\n",
        "\n",
        "df_A = pd.DataFrame(dicionario_A)                "
      ],
      "execution_count": 8,
      "outputs": []
    },
    {
      "cell_type": "code",
      "metadata": {
        "id": "k8KDqtA7biUn",
        "colab_type": "code",
        "colab": {
          "base_uri": "https://localhost:8080/",
          "height": 33
        },
        "outputId": "6f81306c-b6f2-4e75-ac7b-c2dd6474e0b1"
      },
      "source": [
        "df_A.shape"
      ],
      "execution_count": 9,
      "outputs": [
        {
          "output_type": "execute_result",
          "data": {
            "text/plain": [
              "(50, 2)"
            ]
          },
          "metadata": {
            "tags": []
          },
          "execution_count": 9
        }
      ]
    },
    {
      "cell_type": "code",
      "metadata": {
        "id": "LBlJ1kjPbz9-",
        "colab_type": "code",
        "colab": {}
      },
      "source": [
        ""
      ],
      "execution_count": 9,
      "outputs": []
    },
    {
      "cell_type": "markdown",
      "metadata": {
        "id": "ILZgicwGcEwx",
        "colab_type": "text"
      },
      "source": [
        "np.random.randn (50) cria 50 valores normalmente distribuídos e np.random.\n",
        "\n",
        "randint (10, size = 50) cria 50 valores inteiros entre 0 e 10. Como podemos ver, o tamanho do quadro de dados resultante é ( 50,2). Vamos dar uma olhada nas 5 primeiras linhas:"
      ]
    },
    {
      "cell_type": "code",
      "metadata": {
        "id": "LJDLWDUncFYu",
        "colab_type": "code",
        "colab": {
          "base_uri": "https://localhost:8080/",
          "height": 197
        },
        "outputId": "8862f7d4-94b3-4419-dcd6-a022f0b8b3f0"
      },
      "source": [
        "df_A.head()"
      ],
      "execution_count": 10,
      "outputs": [
        {
          "output_type": "execute_result",
          "data": {
            "text/html": [
              "<div>\n",
              "<style scoped>\n",
              "    .dataframe tbody tr th:only-of-type {\n",
              "        vertical-align: middle;\n",
              "    }\n",
              "\n",
              "    .dataframe tbody tr th {\n",
              "        vertical-align: top;\n",
              "    }\n",
              "\n",
              "    .dataframe thead th {\n",
              "        text-align: right;\n",
              "    }\n",
              "</style>\n",
              "<table border=\"1\" class=\"dataframe\">\n",
              "  <thead>\n",
              "    <tr style=\"text-align: right;\">\n",
              "      <th></th>\n",
              "      <th>col_a</th>\n",
              "      <th>col_b</th>\n",
              "    </tr>\n",
              "  </thead>\n",
              "  <tbody>\n",
              "    <tr>\n",
              "      <th>0</th>\n",
              "      <td>-0.184350</td>\n",
              "      <td>6</td>\n",
              "    </tr>\n",
              "    <tr>\n",
              "      <th>1</th>\n",
              "      <td>-0.021246</td>\n",
              "      <td>7</td>\n",
              "    </tr>\n",
              "    <tr>\n",
              "      <th>2</th>\n",
              "      <td>-0.201226</td>\n",
              "      <td>8</td>\n",
              "    </tr>\n",
              "    <tr>\n",
              "      <th>3</th>\n",
              "      <td>-2.847227</td>\n",
              "      <td>7</td>\n",
              "    </tr>\n",
              "    <tr>\n",
              "      <th>4</th>\n",
              "      <td>0.862585</td>\n",
              "      <td>2</td>\n",
              "    </tr>\n",
              "  </tbody>\n",
              "</table>\n",
              "</div>"
            ],
            "text/plain": [
              "      col_a  col_b\n",
              "0 -0.184350      6\n",
              "1 -0.021246      7\n",
              "2 -0.201226      8\n",
              "3 -2.847227      7\n",
              "4  0.862585      2"
            ]
          },
          "metadata": {
            "tags": []
          },
          "execution_count": 10
        }
      ]
    },
    {
      "cell_type": "code",
      "metadata": {
        "id": "3HHZ_X1ucUKg",
        "colab_type": "code",
        "colab": {}
      },
      "source": [
        ""
      ],
      "execution_count": 10,
      "outputs": []
    },
    {
      "cell_type": "markdown",
      "metadata": {
        "id": "KdsTDh0OcboY",
        "colab_type": "text"
      },
      "source": [
        "Também podemos criar matrizes bidimensionais com numpy e converter diretamente essas matrizes em um quadro de dados. Para criar matrizes bidimensionais com np.random.randint, precisamos passar um parâmetro de tupla para tamanho :"
      ]
    },
    {
      "cell_type": "code",
      "metadata": {
        "id": "m_y4qhFCcchT",
        "colab_type": "code",
        "colab": {
          "base_uri": "https://localhost:8080/",
          "height": 116
        },
        "outputId": "722d6d81-cc34-431c-9504-0ea7e32106ec"
      },
      "source": [
        "np.random.randint(10, size=(6,4))"
      ],
      "execution_count": 11,
      "outputs": [
        {
          "output_type": "execute_result",
          "data": {
            "text/plain": [
              "array([[9, 6, 9, 8],\n",
              "       [7, 6, 0, 4],\n",
              "       [2, 8, 5, 3],\n",
              "       [6, 4, 4, 1],\n",
              "       [8, 2, 5, 4],\n",
              "       [2, 0, 7, 3]])"
            ]
          },
          "metadata": {
            "tags": []
          },
          "execution_count": 11
        }
      ]
    },
    {
      "cell_type": "code",
      "metadata": {
        "id": "xALHgZQmdZwB",
        "colab_type": "code",
        "colab": {}
      },
      "source": [
        "df_B = pd.DataFrame(np.random.randint(10, size=(6,4)))"
      ],
      "execution_count": 12,
      "outputs": []
    },
    {
      "cell_type": "code",
      "metadata": {
        "id": "_Y0_Mfendqh7",
        "colab_type": "code",
        "colab": {
          "base_uri": "https://localhost:8080/",
          "height": 197
        },
        "outputId": "d1f143db-9221-4463-def8-c24d5e731fa1"
      },
      "source": [
        "df_B.head()"
      ],
      "execution_count": 13,
      "outputs": [
        {
          "output_type": "execute_result",
          "data": {
            "text/html": [
              "<div>\n",
              "<style scoped>\n",
              "    .dataframe tbody tr th:only-of-type {\n",
              "        vertical-align: middle;\n",
              "    }\n",
              "\n",
              "    .dataframe tbody tr th {\n",
              "        vertical-align: top;\n",
              "    }\n",
              "\n",
              "    .dataframe thead th {\n",
              "        text-align: right;\n",
              "    }\n",
              "</style>\n",
              "<table border=\"1\" class=\"dataframe\">\n",
              "  <thead>\n",
              "    <tr style=\"text-align: right;\">\n",
              "      <th></th>\n",
              "      <th>0</th>\n",
              "      <th>1</th>\n",
              "      <th>2</th>\n",
              "      <th>3</th>\n",
              "    </tr>\n",
              "  </thead>\n",
              "  <tbody>\n",
              "    <tr>\n",
              "      <th>0</th>\n",
              "      <td>1</td>\n",
              "      <td>4</td>\n",
              "      <td>0</td>\n",
              "      <td>8</td>\n",
              "    </tr>\n",
              "    <tr>\n",
              "      <th>1</th>\n",
              "      <td>7</td>\n",
              "      <td>8</td>\n",
              "      <td>9</td>\n",
              "      <td>3</td>\n",
              "    </tr>\n",
              "    <tr>\n",
              "      <th>2</th>\n",
              "      <td>3</td>\n",
              "      <td>7</td>\n",
              "      <td>8</td>\n",
              "      <td>8</td>\n",
              "    </tr>\n",
              "    <tr>\n",
              "      <th>3</th>\n",
              "      <td>1</td>\n",
              "      <td>7</td>\n",
              "      <td>0</td>\n",
              "      <td>1</td>\n",
              "    </tr>\n",
              "    <tr>\n",
              "      <th>4</th>\n",
              "      <td>3</td>\n",
              "      <td>4</td>\n",
              "      <td>3</td>\n",
              "      <td>0</td>\n",
              "    </tr>\n",
              "  </tbody>\n",
              "</table>\n",
              "</div>"
            ],
            "text/plain": [
              "   0  1  2  3\n",
              "0  1  4  0  8\n",
              "1  7  8  9  3\n",
              "2  3  7  8  8\n",
              "3  1  7  0  1\n",
              "4  3  4  3  0"
            ]
          },
          "metadata": {
            "tags": []
          },
          "execution_count": 13
        }
      ]
    },
    {
      "cell_type": "code",
      "metadata": {
        "id": "dZf7kJDxdxun",
        "colab_type": "code",
        "colab": {}
      },
      "source": [
        ""
      ],
      "execution_count": 13,
      "outputs": []
    },
    {
      "cell_type": "markdown",
      "metadata": {
        "id": "KwEwCgfFD5F8",
        "colab_type": "text"
      },
      "source": [
        "Pandas cessionários inteiros nomes das colunas, mas podemos mudar isso usando colunas parâmetro"
      ]
    },
    {
      "cell_type": "code",
      "metadata": {
        "id": "fdskcgZ-D5wy",
        "colab_type": "code",
        "colab": {}
      },
      "source": [
        "df_d = pd.DataFrame(np.random.randint(10, size = (6,4)), columns=['a','b','c','d'])"
      ],
      "execution_count": 15,
      "outputs": []
    },
    {
      "cell_type": "code",
      "metadata": {
        "id": "rjakcAk9EOeD",
        "colab_type": "code",
        "colab": {
          "base_uri": "https://localhost:8080/",
          "height": 227
        },
        "outputId": "c32c8014-a2a2-48d2-b804-6491292fe4a5"
      },
      "source": [
        "df_d"
      ],
      "execution_count": 16,
      "outputs": [
        {
          "output_type": "execute_result",
          "data": {
            "text/html": [
              "<div>\n",
              "<style scoped>\n",
              "    .dataframe tbody tr th:only-of-type {\n",
              "        vertical-align: middle;\n",
              "    }\n",
              "\n",
              "    .dataframe tbody tr th {\n",
              "        vertical-align: top;\n",
              "    }\n",
              "\n",
              "    .dataframe thead th {\n",
              "        text-align: right;\n",
              "    }\n",
              "</style>\n",
              "<table border=\"1\" class=\"dataframe\">\n",
              "  <thead>\n",
              "    <tr style=\"text-align: right;\">\n",
              "      <th></th>\n",
              "      <th>a</th>\n",
              "      <th>b</th>\n",
              "      <th>c</th>\n",
              "      <th>d</th>\n",
              "    </tr>\n",
              "  </thead>\n",
              "  <tbody>\n",
              "    <tr>\n",
              "      <th>0</th>\n",
              "      <td>6</td>\n",
              "      <td>4</td>\n",
              "      <td>7</td>\n",
              "      <td>3</td>\n",
              "    </tr>\n",
              "    <tr>\n",
              "      <th>1</th>\n",
              "      <td>6</td>\n",
              "      <td>2</td>\n",
              "      <td>1</td>\n",
              "      <td>0</td>\n",
              "    </tr>\n",
              "    <tr>\n",
              "      <th>2</th>\n",
              "      <td>4</td>\n",
              "      <td>0</td>\n",
              "      <td>8</td>\n",
              "      <td>7</td>\n",
              "    </tr>\n",
              "    <tr>\n",
              "      <th>3</th>\n",
              "      <td>2</td>\n",
              "      <td>0</td>\n",
              "      <td>9</td>\n",
              "      <td>8</td>\n",
              "    </tr>\n",
              "    <tr>\n",
              "      <th>4</th>\n",
              "      <td>3</td>\n",
              "      <td>2</td>\n",
              "      <td>3</td>\n",
              "      <td>6</td>\n",
              "    </tr>\n",
              "    <tr>\n",
              "      <th>5</th>\n",
              "      <td>6</td>\n",
              "      <td>6</td>\n",
              "      <td>1</td>\n",
              "      <td>1</td>\n",
              "    </tr>\n",
              "  </tbody>\n",
              "</table>\n",
              "</div>"
            ],
            "text/plain": [
              "   a  b  c  d\n",
              "0  6  4  7  3\n",
              "1  6  2  1  0\n",
              "2  4  0  8  7\n",
              "3  2  0  9  8\n",
              "4  3  2  3  6\n",
              "5  6  6  1  1"
            ]
          },
          "metadata": {
            "tags": []
          },
          "execution_count": 16
        }
      ]
    },
    {
      "cell_type": "code",
      "metadata": {
        "id": "PWmBbuzfEShK",
        "colab_type": "code",
        "colab": {}
      },
      "source": [
        ""
      ],
      "execution_count": null,
      "outputs": []
    },
    {
      "cell_type": "markdown",
      "metadata": {
        "id": "2Dd8lUyLEWbM",
        "colab_type": "text"
      },
      "source": [
        "Também podemos alterar os valores do índice. Vamos usar np.random.randn para criar uma matriz bidimensional desta vez:\n"
      ]
    },
    {
      "cell_type": "code",
      "metadata": {
        "id": "VZzvGFoJEXJL",
        "colab_type": "code",
        "colab": {
          "base_uri": "https://localhost:8080/",
          "height": 100
        },
        "outputId": "7b1ee783-a653-4fcb-ecb2-cc8d648e21b9"
      },
      "source": [
        "np.random.randn(5,4)"
      ],
      "execution_count": 17,
      "outputs": [
        {
          "output_type": "execute_result",
          "data": {
            "text/plain": [
              "array([[ 0.08951002, -1.07948875, -0.41661191, -1.07923374],\n",
              "       [ 0.72395257, -0.13513685, -1.01565164, -0.72616336],\n",
              "       [-0.82414264, -1.67543742,  1.1113463 ,  0.32403387],\n",
              "       [ 0.82075784, -0.31824338, -1.89787324, -0.30005483],\n",
              "       [-0.68999592,  0.02931034, -0.30720085,  0.57483706]])"
            ]
          },
          "metadata": {
            "tags": []
          },
          "execution_count": 17
        }
      ]
    },
    {
      "cell_type": "code",
      "metadata": {
        "id": "YQix-IdzEa_8",
        "colab_type": "code",
        "colab": {}
      },
      "source": [
        ""
      ],
      "execution_count": null,
      "outputs": []
    },
    {
      "cell_type": "markdown",
      "metadata": {
        "id": "ckqC1PZZE86i",
        "colab_type": "text"
      },
      "source": [
        "Em seguida, definiremos um índice de séries temporais usando a função date_range dos pandas. Em seguida, passe esse índice para o parâmetro index :"
      ]
    },
    {
      "cell_type": "code",
      "metadata": {
        "id": "tRJ8WAkWE9uK",
        "colab_type": "code",
        "colab": {}
      },
      "source": [
        "index = pd.date_range('2020-01-01', '2020-01-05')\n",
        "\n",
        "df_c = pd.DataFrame(np.random.randn(5,4),\n",
        "                    columns=['a','b','c','d'],\n",
        "                    index = index)"
      ],
      "execution_count": 18,
      "outputs": []
    },
    {
      "cell_type": "code",
      "metadata": {
        "id": "__HmvZZiFZmE",
        "colab_type": "code",
        "colab": {
          "base_uri": "https://localhost:8080/",
          "height": 197
        },
        "outputId": "9e848a95-10f5-4c73-a8ce-4debc79a63f1"
      },
      "source": [
        "df_c"
      ],
      "execution_count": 20,
      "outputs": [
        {
          "output_type": "execute_result",
          "data": {
            "text/html": [
              "<div>\n",
              "<style scoped>\n",
              "    .dataframe tbody tr th:only-of-type {\n",
              "        vertical-align: middle;\n",
              "    }\n",
              "\n",
              "    .dataframe tbody tr th {\n",
              "        vertical-align: top;\n",
              "    }\n",
              "\n",
              "    .dataframe thead th {\n",
              "        text-align: right;\n",
              "    }\n",
              "</style>\n",
              "<table border=\"1\" class=\"dataframe\">\n",
              "  <thead>\n",
              "    <tr style=\"text-align: right;\">\n",
              "      <th></th>\n",
              "      <th>a</th>\n",
              "      <th>b</th>\n",
              "      <th>c</th>\n",
              "      <th>d</th>\n",
              "    </tr>\n",
              "  </thead>\n",
              "  <tbody>\n",
              "    <tr>\n",
              "      <th>2020-01-01</th>\n",
              "      <td>1.379793</td>\n",
              "      <td>1.511509</td>\n",
              "      <td>-1.237256</td>\n",
              "      <td>1.508867</td>\n",
              "    </tr>\n",
              "    <tr>\n",
              "      <th>2020-01-02</th>\n",
              "      <td>-1.121515</td>\n",
              "      <td>0.185371</td>\n",
              "      <td>-0.639113</td>\n",
              "      <td>0.156638</td>\n",
              "    </tr>\n",
              "    <tr>\n",
              "      <th>2020-01-03</th>\n",
              "      <td>1.165837</td>\n",
              "      <td>-0.091456</td>\n",
              "      <td>0.567817</td>\n",
              "      <td>0.644972</td>\n",
              "    </tr>\n",
              "    <tr>\n",
              "      <th>2020-01-04</th>\n",
              "      <td>-0.962946</td>\n",
              "      <td>0.078118</td>\n",
              "      <td>0.683582</td>\n",
              "      <td>-0.899891</td>\n",
              "    </tr>\n",
              "    <tr>\n",
              "      <th>2020-01-05</th>\n",
              "      <td>-0.486873</td>\n",
              "      <td>-0.055255</td>\n",
              "      <td>0.499855</td>\n",
              "      <td>-0.785771</td>\n",
              "    </tr>\n",
              "  </tbody>\n",
              "</table>\n",
              "</div>"
            ],
            "text/plain": [
              "                   a         b         c         d\n",
              "2020-01-01  1.379793  1.511509 -1.237256  1.508867\n",
              "2020-01-02 -1.121515  0.185371 -0.639113  0.156638\n",
              "2020-01-03  1.165837 -0.091456  0.567817  0.644972\n",
              "2020-01-04 -0.962946  0.078118  0.683582 -0.899891\n",
              "2020-01-05 -0.486873 -0.055255  0.499855 -0.785771"
            ]
          },
          "metadata": {
            "tags": []
          },
          "execution_count": 20
        }
      ]
    },
    {
      "cell_type": "code",
      "metadata": {
        "id": "bkXP2dAVFa35",
        "colab_type": "code",
        "colab": {}
      },
      "source": [
        ""
      ],
      "execution_count": null,
      "outputs": []
    },
    {
      "cell_type": "markdown",
      "metadata": {
        "id": "4ektDuOIFkzL",
        "colab_type": "text"
      },
      "source": [
        "Também podemos especificar os tipos de dados usando o parâmetro dtype. Lembre-se do primeiro dataframe que criamos. Pandas inferiu os tipos de dados a partir dos valores. Vamos criar o mesmo quadro de dados com um tipo de dados atribuído:"
      ]
    },
    {
      "cell_type": "code",
      "metadata": {
        "id": "sA-TyUOJFldG",
        "colab_type": "code",
        "colab": {}
      },
      "source": [
        "dict_a = {'col_a':[1,2,3,8],\n",
        "          'col_b':['pedro','julia','rita','jhon'],\n",
        "          'col_c':['V','F','v','F']}"
      ],
      "execution_count": 21,
      "outputs": []
    },
    {
      "cell_type": "code",
      "metadata": {
        "id": "PR55KtC3F8SL",
        "colab_type": "code",
        "colab": {}
      },
      "source": [
        "df_a = pd.DataFrame(dict_a, dtype= 'category')"
      ],
      "execution_count": 23,
      "outputs": []
    },
    {
      "cell_type": "code",
      "metadata": {
        "id": "IHhNio5XGHet",
        "colab_type": "code",
        "colab": {
          "base_uri": "https://localhost:8080/",
          "height": 167
        },
        "outputId": "63f49356-2cef-4d63-d17c-f052db1e8a3e"
      },
      "source": [
        "df_a"
      ],
      "execution_count": 25,
      "outputs": [
        {
          "output_type": "execute_result",
          "data": {
            "text/html": [
              "<div>\n",
              "<style scoped>\n",
              "    .dataframe tbody tr th:only-of-type {\n",
              "        vertical-align: middle;\n",
              "    }\n",
              "\n",
              "    .dataframe tbody tr th {\n",
              "        vertical-align: top;\n",
              "    }\n",
              "\n",
              "    .dataframe thead th {\n",
              "        text-align: right;\n",
              "    }\n",
              "</style>\n",
              "<table border=\"1\" class=\"dataframe\">\n",
              "  <thead>\n",
              "    <tr style=\"text-align: right;\">\n",
              "      <th></th>\n",
              "      <th>col_a</th>\n",
              "      <th>col_b</th>\n",
              "      <th>col_c</th>\n",
              "    </tr>\n",
              "  </thead>\n",
              "  <tbody>\n",
              "    <tr>\n",
              "      <th>0</th>\n",
              "      <td>1</td>\n",
              "      <td>pedro</td>\n",
              "      <td>V</td>\n",
              "    </tr>\n",
              "    <tr>\n",
              "      <th>1</th>\n",
              "      <td>2</td>\n",
              "      <td>julia</td>\n",
              "      <td>F</td>\n",
              "    </tr>\n",
              "    <tr>\n",
              "      <th>2</th>\n",
              "      <td>3</td>\n",
              "      <td>rita</td>\n",
              "      <td>v</td>\n",
              "    </tr>\n",
              "    <tr>\n",
              "      <th>3</th>\n",
              "      <td>8</td>\n",
              "      <td>jhon</td>\n",
              "      <td>F</td>\n",
              "    </tr>\n",
              "  </tbody>\n",
              "</table>\n",
              "</div>"
            ],
            "text/plain": [
              "  col_a  col_b col_c\n",
              "0     1  pedro     V\n",
              "1     2  julia     F\n",
              "2     3   rita     v\n",
              "3     8   jhon     F"
            ]
          },
          "metadata": {
            "tags": []
          },
          "execution_count": 25
        }
      ]
    },
    {
      "cell_type": "code",
      "metadata": {
        "id": "U6YmNJo-GRNO",
        "colab_type": "code",
        "colab": {}
      },
      "source": [
        ""
      ],
      "execution_count": null,
      "outputs": []
    },
    {
      "cell_type": "markdown",
      "metadata": {
        "id": "3EOhKHE8GYGq",
        "colab_type": "text"
      },
      "source": [
        "O quadro de dados tem a mesma aparência, mas os tipos de dados são diferentes:"
      ]
    },
    {
      "cell_type": "code",
      "metadata": {
        "id": "8b2VJGROGYu5",
        "colab_type": "code",
        "colab": {
          "base_uri": "https://localhost:8080/",
          "height": 83
        },
        "outputId": "71ed6ae4-dbe8-434f-f054-3928c2c17711"
      },
      "source": [
        "df_a.dtypes"
      ],
      "execution_count": 26,
      "outputs": [
        {
          "output_type": "execute_result",
          "data": {
            "text/plain": [
              "col_a    category\n",
              "col_b    category\n",
              "col_c    category\n",
              "dtype: object"
            ]
          },
          "metadata": {
            "tags": []
          },
          "execution_count": 26
        }
      ]
    },
    {
      "cell_type": "code",
      "metadata": {
        "id": "s7dq5yhtGavg",
        "colab_type": "code",
        "colab": {}
      },
      "source": [
        ""
      ],
      "execution_count": null,
      "outputs": []
    },
    {
      "cell_type": "markdown",
      "metadata": {
        "id": "aEG22FBFGhQo",
        "colab_type": "text"
      },
      "source": [
        "Uma das grandes coisas sobre os pandas é que geralmente existem várias maneiras de executar uma tarefa. Portanto, você nunca deve se limitar a um caminho e procurar maneiras e soluções diferentes. É importante abordar tarefas simples com essa perspectiva, pois também será útil para resolver problemas complexos."
      ]
    },
    {
      "cell_type": "code",
      "metadata": {
        "id": "El_aXJIlGh4e",
        "colab_type": "code",
        "colab": {}
      },
      "source": [
        ""
      ],
      "execution_count": null,
      "outputs": []
    }
  ]
}