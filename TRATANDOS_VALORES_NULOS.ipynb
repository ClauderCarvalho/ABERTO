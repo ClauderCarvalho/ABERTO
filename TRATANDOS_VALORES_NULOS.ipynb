{
  "nbformat": 4,
  "nbformat_minor": 0,
  "metadata": {
    "colab": {
      "name": "TRATANDOS VALORES-NULOS.ipynb",
      "provenance": [],
      "collapsed_sections": [],
      "authorship_tag": "ABX9TyNiPtN+2caECJIvwC6EOmQK",
      "include_colab_link": true
    },
    "kernelspec": {
      "name": "python3",
      "display_name": "Python 3"
    }
  },
  "cells": [
    {
      "cell_type": "markdown",
      "metadata": {
        "id": "view-in-github",
        "colab_type": "text"
      },
      "source": [
        "<a href=\"https://colab.research.google.com/github/ClauderCarvalho/ABERTO/blob/master/TRATANDOS_VALORES_NULOS.ipynb\" target=\"_parent\"><img src=\"https://colab.research.google.com/assets/colab-badge.svg\" alt=\"Open In Colab\"/></a>"
      ]
    },
    {
      "cell_type": "markdown",
      "metadata": {
        "id": "_S0jLlnAiuf0",
        "colab_type": "text"
      },
      "source": [
        "Clauder Noronha - 2016"
      ]
    },
    {
      "cell_type": "code",
      "metadata": {
        "id": "wAWFy--Gibr6",
        "colab_type": "code",
        "colab": {
          "base_uri": "https://localhost:8080/",
          "height": 496
        },
        "outputId": "14269404-9bc7-4616-cc22-f4c9a4be1b8c"
      },
      "source": [
        "#Image('Null.png', width=720, height= 480 )"
      ],
      "execution_count": 4,
      "outputs": [
        {
          "output_type": "execute_result",
          "data": {
            "image/png": "[encoded data removed]",
            "text/plain": [
              "<IPython.core.display.Image object>"
            ]
          },
          "metadata": {
            "tags": [],
            "image/png": {
              "width": 720,
              "height": 480
            }
          },
          "execution_count": 4
        }
      ]
    },
    {
      "cell_type": "markdown",
      "metadata": {
        "id": "MLmIn68r26e-",
        "colab_type": "text"
      },
      "source": [
        "Os dados podem ser considerados como um diamante em uma mina de carvão. Se ferramentas apropriadas, técnicas lógicas e científicas forem consideradas durante a mineração, então encontrar diamante a partir do carvão não será um grande problema. Da mesma forma, se algoritmos adequados, método estatístico e uma lógica excepcional forem levados em consideração durante a mineração de dados, os dados brutos poderão ser transformados em informações úteis.\n",
        "\n",
        "\n",
        "No processo de limpeza de dados, o Data Analyst encontra dados ausentes\n",
        "\n",
        "\n",
        "o tempo todo e o manuseio inadequado de dados ausentes podem alterar a correção da saída após a mineração.\n",
        "\n",
        "\n",
        "Portanto, antes de iniciar a mineração, os dados devem estar livres de NaN (ou seja, nenhum valor nulo) para aumentar a precisão do processo de mineração de dados."
      ]
    },
    {
      "cell_type": "code",
      "metadata": {
        "id": "Aj-I9mIJDy3Y",
        "colab_type": "code",
        "colab": {}
      },
      "source": [
        "#Criando Valores nulos (index(2,4,6))\n",
        "\n",
        "import pandas as pd\n",
        "import numpy as np"
      ],
      "execution_count": 0,
      "outputs": []
    },
    {
      "cell_type": "code",
      "metadata": {
        "id": "V1g-oTaN1oA4",
        "colab_type": "code",
        "colab": {}
      },
      "source": [
        "df = pd.DataFrame(np.random.randn(5,5), index=['index1','index3','index5','index6','indedx7'],columns=['variavel1','variavel2','variavel3','variavel4','variavel5'])\n",
        "\n",
        "df = df.reindex(['index1','index2','index3','index4','index5','indedx6','index7','index8'])"
      ],
      "execution_count": 0,
      "outputs": []
    },
    {
      "cell_type": "code",
      "metadata": {
        "id": "-ACoIM962gxZ",
        "colab_type": "code",
        "outputId": "0f5eee68-89ab-4fd7-9118-251c64af1f5b",
        "colab": {
          "base_uri": "https://localhost:8080/",
          "height": 166
        }
      },
      "source": [
        "print(df)"
      ],
      "execution_count": 0,
      "outputs": [
        {
          "output_type": "stream",
          "text": [
            "         variavel1  variavel2  variavel3  variavel4  variavel5\n",
            "index1   -0.731340  -0.596668   1.070485  -0.503657   1.262785\n",
            "index2         NaN        NaN        NaN        NaN        NaN\n",
            "index3   -0.304876  -0.180485   0.408771  -0.453169   0.733246\n",
            "index4         NaN        NaN        NaN        NaN        NaN\n",
            "index5    0.647237   0.763904  -0.623988  -0.653619   0.345864\n",
            "indedx6        NaN        NaN        NaN        NaN        NaN\n",
            "index7         NaN        NaN        NaN        NaN        NaN\n",
            "index8         NaN        NaN        NaN        NaN        NaN\n"
          ],
          "name": "stdout"
        }
      ]
    },
    {
      "cell_type": "code",
      "metadata": {
        "id": "7UVZVEYF2jGI",
        "colab_type": "code",
        "colab": {}
      },
      "source": [
        ""
      ],
      "execution_count": 0,
      "outputs": []
    },
    {
      "cell_type": "markdown",
      "metadata": {
        "id": "_muWXuTG3FGY",
        "colab_type": "text"
      },
      "source": [
        "Na figura acima, o quadro de dados (df) é criado e os índices nulos são adicionados (abordagem fácil para gerar o quadro de dados). Agora verificamos se o df contém o valor nulo ou não:"
      ]
    },
    {
      "cell_type": "code",
      "metadata": {
        "id": "_CwexcLh3GIb",
        "colab_type": "code",
        "outputId": "0c990b02-ed03-4755-feea-50d464d82b59",
        "colab": {
          "base_uri": "https://localhost:8080/",
          "height": 166
        }
      },
      "source": [
        "print(df.isnull())"
      ],
      "execution_count": 0,
      "outputs": [
        {
          "output_type": "stream",
          "text": [
            "         variavel1  variavel2  variavel3  variavel4  variavel5\n",
            "index1       False      False      False      False      False\n",
            "index2        True       True       True       True       True\n",
            "index3       False      False      False      False      False\n",
            "index4        True       True       True       True       True\n",
            "index5       False      False      False      False      False\n",
            "indedx6       True       True       True       True       True\n",
            "index7        True       True       True       True       True\n",
            "index8        True       True       True       True       True\n"
          ],
          "name": "stdout"
        }
      ]
    },
    {
      "cell_type": "markdown",
      "metadata": {
        "id": "D8SO--Fc3nM-",
        "colab_type": "text"
      },
      "source": [
        "vemos muitos valores nulos (as coisas já estão ficando mais interessantes). Como mencionado na parte do comentário, também podemos verificar as variáveis ​​individuais.\n",
        "\n",
        "\n",
        "Agora, existem abordagens diferentes para lidar com os valores ausentes usando bibliotecas como numpy e pandas, descritas abaixo:"
      ]
    },
    {
      "cell_type": "code",
      "metadata": {
        "id": "fwT2PT5N3olA",
        "colab_type": "code",
        "colab": {}
      },
      "source": [
        ""
      ],
      "execution_count": 0,
      "outputs": []
    },
    {
      "cell_type": "markdown",
      "metadata": {
        "id": "-pbJB5HY3u9O",
        "colab_type": "text"
      },
      "source": [
        "* 1. Substituindo o valor NaN por algum número escalar\n",
        "\n",
        "\n",
        "Para todo o processo, a fonte inicial é tomada como o quadro de dados inicial (df). Para substituir os valores de NaN no quadro de dados inicial por um número escalar (seja 1), ele é passado para o método fillna () como mostrado na figura abaixo:"
      ]
    },
    {
      "cell_type": "code",
      "metadata": {
        "id": "JgewOwW03xLe",
        "colab_type": "code",
        "outputId": "031d5f90-fab3-4dec-b06a-d9d9eef8c28c",
        "colab": {
          "base_uri": "https://localhost:8080/",
          "height": 287
        }
      },
      "source": [
        "\n",
        "# substituindo o valor NaN por algum número escalar, deixe-o 1\n",
        "# Temo que criar uma novo Dataframe \n",
        "\n",
        "df1 = df.fillna(1)\n",
        "\n",
        "df1\n"
      ],
      "execution_count": 0,
      "outputs": [
        {
          "output_type": "execute_result",
          "data": {
            "text/html": [
              "<div>\n",
              "<style scoped>\n",
              "    .dataframe tbody tr th:only-of-type {\n",
              "        vertical-align: middle;\n",
              "    }\n",
              "\n",
              "    .dataframe tbody tr th {\n",
              "        vertical-align: top;\n",
              "    }\n",
              "\n",
              "    .dataframe thead th {\n",
              "        text-align: right;\n",
              "    }\n",
              "</style>\n",
              "<table border=\"1\" class=\"dataframe\">\n",
              "  <thead>\n",
              "    <tr style=\"text-align: right;\">\n",
              "      <th></th>\n",
              "      <th>variavel1</th>\n",
              "      <th>variavel2</th>\n",
              "      <th>variavel3</th>\n",
              "      <th>variavel4</th>\n",
              "      <th>variavel5</th>\n",
              "    </tr>\n",
              "  </thead>\n",
              "  <tbody>\n",
              "    <tr>\n",
              "      <th>index1</th>\n",
              "      <td>-0.731340</td>\n",
              "      <td>-0.596668</td>\n",
              "      <td>1.070485</td>\n",
              "      <td>-0.503657</td>\n",
              "      <td>1.262785</td>\n",
              "    </tr>\n",
              "    <tr>\n",
              "      <th>index2</th>\n",
              "      <td>1.000000</td>\n",
              "      <td>1.000000</td>\n",
              "      <td>1.000000</td>\n",
              "      <td>1.000000</td>\n",
              "      <td>1.000000</td>\n",
              "    </tr>\n",
              "    <tr>\n",
              "      <th>index3</th>\n",
              "      <td>-0.304876</td>\n",
              "      <td>-0.180485</td>\n",
              "      <td>0.408771</td>\n",
              "      <td>-0.453169</td>\n",
              "      <td>0.733246</td>\n",
              "    </tr>\n",
              "    <tr>\n",
              "      <th>index4</th>\n",
              "      <td>1.000000</td>\n",
              "      <td>1.000000</td>\n",
              "      <td>1.000000</td>\n",
              "      <td>1.000000</td>\n",
              "      <td>1.000000</td>\n",
              "    </tr>\n",
              "    <tr>\n",
              "      <th>index5</th>\n",
              "      <td>0.647237</td>\n",
              "      <td>0.763904</td>\n",
              "      <td>-0.623988</td>\n",
              "      <td>-0.653619</td>\n",
              "      <td>0.345864</td>\n",
              "    </tr>\n",
              "    <tr>\n",
              "      <th>indedx6</th>\n",
              "      <td>1.000000</td>\n",
              "      <td>1.000000</td>\n",
              "      <td>1.000000</td>\n",
              "      <td>1.000000</td>\n",
              "      <td>1.000000</td>\n",
              "    </tr>\n",
              "    <tr>\n",
              "      <th>index7</th>\n",
              "      <td>1.000000</td>\n",
              "      <td>1.000000</td>\n",
              "      <td>1.000000</td>\n",
              "      <td>1.000000</td>\n",
              "      <td>1.000000</td>\n",
              "    </tr>\n",
              "    <tr>\n",
              "      <th>index8</th>\n",
              "      <td>1.000000</td>\n",
              "      <td>1.000000</td>\n",
              "      <td>1.000000</td>\n",
              "      <td>1.000000</td>\n",
              "      <td>1.000000</td>\n",
              "    </tr>\n",
              "  </tbody>\n",
              "</table>\n",
              "</div>"
            ],
            "text/plain": [
              "         variavel1  variavel2  variavel3  variavel4  variavel5\n",
              "index1   -0.731340  -0.596668   1.070485  -0.503657   1.262785\n",
              "index2    1.000000   1.000000   1.000000   1.000000   1.000000\n",
              "index3   -0.304876  -0.180485   0.408771  -0.453169   0.733246\n",
              "index4    1.000000   1.000000   1.000000   1.000000   1.000000\n",
              "index5    0.647237   0.763904  -0.623988  -0.653619   0.345864\n",
              "indedx6   1.000000   1.000000   1.000000   1.000000   1.000000\n",
              "index7    1.000000   1.000000   1.000000   1.000000   1.000000\n",
              "index8    1.000000   1.000000   1.000000   1.000000   1.000000"
            ]
          },
          "metadata": {
            "tags": []
          },
          "execution_count": 7
        }
      ]
    },
    {
      "cell_type": "code",
      "metadata": {
        "id": "aUMzF3Ht6ps9",
        "colab_type": "code",
        "colab": {}
      },
      "source": [
        ""
      ],
      "execution_count": 0,
      "outputs": []
    },
    {
      "cell_type": "markdown",
      "metadata": {
        "id": "fqubpSuH6wI2",
        "colab_type": "text"
      },
      "source": [
        "Após adicionar os valores nulos por 1 em todas as posições, verificamos os valores nulos novamente pelo método isnull (). Aqui todos os valores nulos são substituídos e não há nenhuma célula nula."
      ]
    },
    {
      "cell_type": "code",
      "metadata": {
        "id": "d-ufPd7y6yOJ",
        "colab_type": "code",
        "outputId": "3741883e-9b08-49eb-83f5-70da8f4002ab",
        "colab": {
          "base_uri": "https://localhost:8080/",
          "height": 287
        }
      },
      "source": [
        "df1.isnull()"
      ],
      "execution_count": 0,
      "outputs": [
        {
          "output_type": "execute_result",
          "data": {
            "text/html": [
              "<div>\n",
              "<style scoped>\n",
              "    .dataframe tbody tr th:only-of-type {\n",
              "        vertical-align: middle;\n",
              "    }\n",
              "\n",
              "    .dataframe tbody tr th {\n",
              "        vertical-align: top;\n",
              "    }\n",
              "\n",
              "    .dataframe thead th {\n",
              "        text-align: right;\n",
              "    }\n",
              "</style>\n",
              "<table border=\"1\" class=\"dataframe\">\n",
              "  <thead>\n",
              "    <tr style=\"text-align: right;\">\n",
              "      <th></th>\n",
              "      <th>variavel1</th>\n",
              "      <th>variavel2</th>\n",
              "      <th>variavel3</th>\n",
              "      <th>variavel4</th>\n",
              "      <th>variavel5</th>\n",
              "    </tr>\n",
              "  </thead>\n",
              "  <tbody>\n",
              "    <tr>\n",
              "      <th>index1</th>\n",
              "      <td>False</td>\n",
              "      <td>False</td>\n",
              "      <td>False</td>\n",
              "      <td>False</td>\n",
              "      <td>False</td>\n",
              "    </tr>\n",
              "    <tr>\n",
              "      <th>index2</th>\n",
              "      <td>False</td>\n",
              "      <td>False</td>\n",
              "      <td>False</td>\n",
              "      <td>False</td>\n",
              "      <td>False</td>\n",
              "    </tr>\n",
              "    <tr>\n",
              "      <th>index3</th>\n",
              "      <td>False</td>\n",
              "      <td>False</td>\n",
              "      <td>False</td>\n",
              "      <td>False</td>\n",
              "      <td>False</td>\n",
              "    </tr>\n",
              "    <tr>\n",
              "      <th>index4</th>\n",
              "      <td>False</td>\n",
              "      <td>False</td>\n",
              "      <td>False</td>\n",
              "      <td>False</td>\n",
              "      <td>False</td>\n",
              "    </tr>\n",
              "    <tr>\n",
              "      <th>index5</th>\n",
              "      <td>False</td>\n",
              "      <td>False</td>\n",
              "      <td>False</td>\n",
              "      <td>False</td>\n",
              "      <td>False</td>\n",
              "    </tr>\n",
              "    <tr>\n",
              "      <th>indedx6</th>\n",
              "      <td>False</td>\n",
              "      <td>False</td>\n",
              "      <td>False</td>\n",
              "      <td>False</td>\n",
              "      <td>False</td>\n",
              "    </tr>\n",
              "    <tr>\n",
              "      <th>index7</th>\n",
              "      <td>False</td>\n",
              "      <td>False</td>\n",
              "      <td>False</td>\n",
              "      <td>False</td>\n",
              "      <td>False</td>\n",
              "    </tr>\n",
              "    <tr>\n",
              "      <th>index8</th>\n",
              "      <td>False</td>\n",
              "      <td>False</td>\n",
              "      <td>False</td>\n",
              "      <td>False</td>\n",
              "      <td>False</td>\n",
              "    </tr>\n",
              "  </tbody>\n",
              "</table>\n",
              "</div>"
            ],
            "text/plain": [
              "         variavel1  variavel2  variavel3  variavel4  variavel5\n",
              "index1       False      False      False      False      False\n",
              "index2       False      False      False      False      False\n",
              "index3       False      False      False      False      False\n",
              "index4       False      False      False      False      False\n",
              "index5       False      False      False      False      False\n",
              "indedx6      False      False      False      False      False\n",
              "index7       False      False      False      False      False\n",
              "index8       False      False      False      False      False"
            ]
          },
          "metadata": {
            "tags": []
          },
          "execution_count": 9
        }
      ]
    },
    {
      "cell_type": "code",
      "metadata": {
        "id": "G8o8EN-h615T",
        "colab_type": "code",
        "colab": {}
      },
      "source": [
        ""
      ],
      "execution_count": 0,
      "outputs": []
    },
    {
      "cell_type": "markdown",
      "metadata": {
        "id": "z339hhoq6_Ug",
        "colab_type": "text"
      },
      "source": [
        "* Outra forma de tratar valores nulos\n",
        "\n",
        "Às vezes, o Data Analyst deseja descartar a linha inteira que contém os valores nulos. Portanto, o processo apropriado é mostrado abaixo:"
      ]
    },
    {
      "cell_type": "code",
      "metadata": {
        "id": "ke6Umhue7Ez6",
        "colab_type": "code",
        "outputId": "2c916c07-8317-4337-e3aa-c278bd7aa2aa",
        "colab": {
          "base_uri": "https://localhost:8080/",
          "height": 137
        }
      },
      "source": [
        " # Eliminar a linha que contém valores nulos\n",
        "\n",
        "#Criar um novo Dataframe\n",
        "\n",
        "df2 = df.dropna()\n",
        "\n",
        "df2\n"
      ],
      "execution_count": 0,
      "outputs": [
        {
          "output_type": "execute_result",
          "data": {
            "text/html": [
              "<div>\n",
              "<style scoped>\n",
              "    .dataframe tbody tr th:only-of-type {\n",
              "        vertical-align: middle;\n",
              "    }\n",
              "\n",
              "    .dataframe tbody tr th {\n",
              "        vertical-align: top;\n",
              "    }\n",
              "\n",
              "    .dataframe thead th {\n",
              "        text-align: right;\n",
              "    }\n",
              "</style>\n",
              "<table border=\"1\" class=\"dataframe\">\n",
              "  <thead>\n",
              "    <tr style=\"text-align: right;\">\n",
              "      <th></th>\n",
              "      <th>variavel1</th>\n",
              "      <th>variavel2</th>\n",
              "      <th>variavel3</th>\n",
              "      <th>variavel4</th>\n",
              "      <th>variavel5</th>\n",
              "    </tr>\n",
              "  </thead>\n",
              "  <tbody>\n",
              "    <tr>\n",
              "      <th>index1</th>\n",
              "      <td>-0.731340</td>\n",
              "      <td>-0.596668</td>\n",
              "      <td>1.070485</td>\n",
              "      <td>-0.503657</td>\n",
              "      <td>1.262785</td>\n",
              "    </tr>\n",
              "    <tr>\n",
              "      <th>index3</th>\n",
              "      <td>-0.304876</td>\n",
              "      <td>-0.180485</td>\n",
              "      <td>0.408771</td>\n",
              "      <td>-0.453169</td>\n",
              "      <td>0.733246</td>\n",
              "    </tr>\n",
              "    <tr>\n",
              "      <th>index5</th>\n",
              "      <td>0.647237</td>\n",
              "      <td>0.763904</td>\n",
              "      <td>-0.623988</td>\n",
              "      <td>-0.653619</td>\n",
              "      <td>0.345864</td>\n",
              "    </tr>\n",
              "  </tbody>\n",
              "</table>\n",
              "</div>"
            ],
            "text/plain": [
              "        variavel1  variavel2  variavel3  variavel4  variavel5\n",
              "index1  -0.731340  -0.596668   1.070485  -0.503657   1.262785\n",
              "index3  -0.304876  -0.180485   0.408771  -0.453169   0.733246\n",
              "index5   0.647237   0.763904  -0.623988  -0.653619   0.345864"
            ]
          },
          "metadata": {
            "tags": []
          },
          "execution_count": 11
        }
      ]
    },
    {
      "cell_type": "markdown",
      "metadata": {
        "id": "Q9nTSn028KCH",
        "colab_type": "text"
      },
      "source": [
        "Na figura acima, o Índice2, o Índice 4, o Índice8 são removidos completamente, pois continham o valor nulo. Portanto, o novo quadro de dados é armazenado na variável df2."
      ]
    },
    {
      "cell_type": "code",
      "metadata": {
        "id": "p4lY_bVf8LON",
        "colab_type": "code",
        "colab": {}
      },
      "source": [
        ""
      ],
      "execution_count": 0,
      "outputs": []
    },
    {
      "cell_type": "markdown",
      "metadata": {
        "id": "idQ8CS4K9bUP",
        "colab_type": "text"
      },
      "source": [
        "3. Imputar os valores ausentes com imputação média\n",
        "\n",
        "Portanto, a próxima abordagem é preencher os valores ausentes com o método de imputação média. O valor médio de toda variável1 é calculado e colocado na célula vazia da mesma coluna. Essa é uma abordagem muito popular e amplamente usada para manipular os valores ausentes.\n",
        "\n"
      ]
    },
    {
      "cell_type": "code",
      "metadata": {
        "id": "njLFAvV69cwm",
        "colab_type": "code",
        "outputId": "e0995501-755f-4ded-a3cb-5046482e3a5d",
        "colab": {
          "base_uri": "https://localhost:8080/",
          "height": 287
        }
      },
      "source": [
        "\n",
        "# indique os valores ausentes com imputação média\n",
        "\n",
        "df3 = df.fillna(df.mean())\n",
        "\n",
        "df3\n",
        "\n",
        "# Similarly for imputingk the missing values with median imputation\n"
      ],
      "execution_count": 0,
      "outputs": [
        {
          "output_type": "execute_result",
          "data": {
            "text/html": [
              "<div>\n",
              "<style scoped>\n",
              "    .dataframe tbody tr th:only-of-type {\n",
              "        vertical-align: middle;\n",
              "    }\n",
              "\n",
              "    .dataframe tbody tr th {\n",
              "        vertical-align: top;\n",
              "    }\n",
              "\n",
              "    .dataframe thead th {\n",
              "        text-align: right;\n",
              "    }\n",
              "</style>\n",
              "<table border=\"1\" class=\"dataframe\">\n",
              "  <thead>\n",
              "    <tr style=\"text-align: right;\">\n",
              "      <th></th>\n",
              "      <th>variavel1</th>\n",
              "      <th>variavel2</th>\n",
              "      <th>variavel3</th>\n",
              "      <th>variavel4</th>\n",
              "      <th>variavel5</th>\n",
              "    </tr>\n",
              "  </thead>\n",
              "  <tbody>\n",
              "    <tr>\n",
              "      <th>index1</th>\n",
              "      <td>-0.731340</td>\n",
              "      <td>-0.596668</td>\n",
              "      <td>1.070485</td>\n",
              "      <td>-0.503657</td>\n",
              "      <td>1.262785</td>\n",
              "    </tr>\n",
              "    <tr>\n",
              "      <th>index2</th>\n",
              "      <td>-0.129660</td>\n",
              "      <td>-0.004417</td>\n",
              "      <td>0.285090</td>\n",
              "      <td>-0.536815</td>\n",
              "      <td>0.780632</td>\n",
              "    </tr>\n",
              "    <tr>\n",
              "      <th>index3</th>\n",
              "      <td>-0.304876</td>\n",
              "      <td>-0.180485</td>\n",
              "      <td>0.408771</td>\n",
              "      <td>-0.453169</td>\n",
              "      <td>0.733246</td>\n",
              "    </tr>\n",
              "    <tr>\n",
              "      <th>index4</th>\n",
              "      <td>-0.129660</td>\n",
              "      <td>-0.004417</td>\n",
              "      <td>0.285090</td>\n",
              "      <td>-0.536815</td>\n",
              "      <td>0.780632</td>\n",
              "    </tr>\n",
              "    <tr>\n",
              "      <th>index5</th>\n",
              "      <td>0.647237</td>\n",
              "      <td>0.763904</td>\n",
              "      <td>-0.623988</td>\n",
              "      <td>-0.653619</td>\n",
              "      <td>0.345864</td>\n",
              "    </tr>\n",
              "    <tr>\n",
              "      <th>indedx6</th>\n",
              "      <td>-0.129660</td>\n",
              "      <td>-0.004417</td>\n",
              "      <td>0.285090</td>\n",
              "      <td>-0.536815</td>\n",
              "      <td>0.780632</td>\n",
              "    </tr>\n",
              "    <tr>\n",
              "      <th>index7</th>\n",
              "      <td>-0.129660</td>\n",
              "      <td>-0.004417</td>\n",
              "      <td>0.285090</td>\n",
              "      <td>-0.536815</td>\n",
              "      <td>0.780632</td>\n",
              "    </tr>\n",
              "    <tr>\n",
              "      <th>index8</th>\n",
              "      <td>-0.129660</td>\n",
              "      <td>-0.004417</td>\n",
              "      <td>0.285090</td>\n",
              "      <td>-0.536815</td>\n",
              "      <td>0.780632</td>\n",
              "    </tr>\n",
              "  </tbody>\n",
              "</table>\n",
              "</div>"
            ],
            "text/plain": [
              "         variavel1  variavel2  variavel3  variavel4  variavel5\n",
              "index1   -0.731340  -0.596668   1.070485  -0.503657   1.262785\n",
              "index2   -0.129660  -0.004417   0.285090  -0.536815   0.780632\n",
              "index3   -0.304876  -0.180485   0.408771  -0.453169   0.733246\n",
              "index4   -0.129660  -0.004417   0.285090  -0.536815   0.780632\n",
              "index5    0.647237   0.763904  -0.623988  -0.653619   0.345864\n",
              "indedx6  -0.129660  -0.004417   0.285090  -0.536815   0.780632\n",
              "index7   -0.129660  -0.004417   0.285090  -0.536815   0.780632\n",
              "index8   -0.129660  -0.004417   0.285090  -0.536815   0.780632"
            ]
          },
          "metadata": {
            "tags": []
          },
          "execution_count": 13
        }
      ]
    },
    {
      "cell_type": "code",
      "metadata": {
        "id": "WywFPvJV-bqA",
        "colab_type": "code",
        "colab": {}
      },
      "source": [
        ""
      ],
      "execution_count": 0,
      "outputs": []
    },
    {
      "cell_type": "markdown",
      "metadata": {
        "id": "itITVzu-_gjO",
        "colab_type": "text"
      },
      "source": [
        "3.1 Preencher com os valores faltantes com a MEDIANA\n"
      ]
    },
    {
      "cell_type": "code",
      "metadata": {
        "id": "KcEBE07g_pIp",
        "colab_type": "code",
        "outputId": "f14af38f-c103-4ccf-deba-c48715c02ff6",
        "colab": {
          "base_uri": "https://localhost:8080/",
          "height": 287
        }
      },
      "source": [
        "#Criando um novo DataFrame como nome de df3\n",
        "\n",
        "df3 = df.fillna(df.median())\n",
        "\n",
        "df3"
      ],
      "execution_count": 0,
      "outputs": [
        {
          "output_type": "execute_result",
          "data": {
            "text/html": [
              "<div>\n",
              "<style scoped>\n",
              "    .dataframe tbody tr th:only-of-type {\n",
              "        vertical-align: middle;\n",
              "    }\n",
              "\n",
              "    .dataframe tbody tr th {\n",
              "        vertical-align: top;\n",
              "    }\n",
              "\n",
              "    .dataframe thead th {\n",
              "        text-align: right;\n",
              "    }\n",
              "</style>\n",
              "<table border=\"1\" class=\"dataframe\">\n",
              "  <thead>\n",
              "    <tr style=\"text-align: right;\">\n",
              "      <th></th>\n",
              "      <th>variavel1</th>\n",
              "      <th>variavel2</th>\n",
              "      <th>variavel3</th>\n",
              "      <th>variavel4</th>\n",
              "      <th>variavel5</th>\n",
              "    </tr>\n",
              "  </thead>\n",
              "  <tbody>\n",
              "    <tr>\n",
              "      <th>index1</th>\n",
              "      <td>-0.731340</td>\n",
              "      <td>-0.596668</td>\n",
              "      <td>1.070485</td>\n",
              "      <td>-0.503657</td>\n",
              "      <td>1.262785</td>\n",
              "    </tr>\n",
              "    <tr>\n",
              "      <th>index2</th>\n",
              "      <td>-0.304876</td>\n",
              "      <td>-0.180485</td>\n",
              "      <td>0.408771</td>\n",
              "      <td>-0.503657</td>\n",
              "      <td>0.733246</td>\n",
              "    </tr>\n",
              "    <tr>\n",
              "      <th>index3</th>\n",
              "      <td>-0.304876</td>\n",
              "      <td>-0.180485</td>\n",
              "      <td>0.408771</td>\n",
              "      <td>-0.453169</td>\n",
              "      <td>0.733246</td>\n",
              "    </tr>\n",
              "    <tr>\n",
              "      <th>index4</th>\n",
              "      <td>-0.304876</td>\n",
              "      <td>-0.180485</td>\n",
              "      <td>0.408771</td>\n",
              "      <td>-0.503657</td>\n",
              "      <td>0.733246</td>\n",
              "    </tr>\n",
              "    <tr>\n",
              "      <th>index5</th>\n",
              "      <td>0.647237</td>\n",
              "      <td>0.763904</td>\n",
              "      <td>-0.623988</td>\n",
              "      <td>-0.653619</td>\n",
              "      <td>0.345864</td>\n",
              "    </tr>\n",
              "    <tr>\n",
              "      <th>indedx6</th>\n",
              "      <td>-0.304876</td>\n",
              "      <td>-0.180485</td>\n",
              "      <td>0.408771</td>\n",
              "      <td>-0.503657</td>\n",
              "      <td>0.733246</td>\n",
              "    </tr>\n",
              "    <tr>\n",
              "      <th>index7</th>\n",
              "      <td>-0.304876</td>\n",
              "      <td>-0.180485</td>\n",
              "      <td>0.408771</td>\n",
              "      <td>-0.503657</td>\n",
              "      <td>0.733246</td>\n",
              "    </tr>\n",
              "    <tr>\n",
              "      <th>index8</th>\n",
              "      <td>-0.304876</td>\n",
              "      <td>-0.180485</td>\n",
              "      <td>0.408771</td>\n",
              "      <td>-0.503657</td>\n",
              "      <td>0.733246</td>\n",
              "    </tr>\n",
              "  </tbody>\n",
              "</table>\n",
              "</div>"
            ],
            "text/plain": [
              "         variavel1  variavel2  variavel3  variavel4  variavel5\n",
              "index1   -0.731340  -0.596668   1.070485  -0.503657   1.262785\n",
              "index2   -0.304876  -0.180485   0.408771  -0.503657   0.733246\n",
              "index3   -0.304876  -0.180485   0.408771  -0.453169   0.733246\n",
              "index4   -0.304876  -0.180485   0.408771  -0.503657   0.733246\n",
              "index5    0.647237   0.763904  -0.623988  -0.653619   0.345864\n",
              "indedx6  -0.304876  -0.180485   0.408771  -0.503657   0.733246\n",
              "index7   -0.304876  -0.180485   0.408771  -0.503657   0.733246\n",
              "index8   -0.304876  -0.180485   0.408771  -0.503657   0.733246"
            ]
          },
          "metadata": {
            "tags": []
          },
          "execution_count": 15
        }
      ]
    },
    {
      "cell_type": "code",
      "metadata": {
        "id": "Cqa-G5Y6ASGi",
        "colab_type": "code",
        "colab": {}
      },
      "source": [
        ""
      ],
      "execution_count": 0,
      "outputs": []
    },
    {
      "cell_type": "markdown",
      "metadata": {
        "id": "Qz0pdkCFiqI9",
        "colab_type": "text"
      },
      "source": [
        "Clauder Noronha"
      ]
    }
  ]
}