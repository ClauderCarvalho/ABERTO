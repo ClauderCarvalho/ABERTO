{
  "nbformat": 4,
  "nbformat_minor": 0,
  "metadata": {
    "colab": {
      "name": "DEZ TRUQUES BASICOS NO PANDAS.ipynb",
      "provenance": [],
      "collapsed_sections": [],
      "authorship_tag": "ABX9TyM/o3FPqF4EBmrRbEZ4PazQ",
      "include_colab_link": true
    },
    "kernelspec": {
      "name": "python3",
      "display_name": "Python 3"
    }
  },
  "cells": [
    {
      "cell_type": "markdown",
      "metadata": {
        "id": "view-in-github",
        "colab_type": "text"
      },
      "source": [
        "<a href=\"https://colab.research.google.com/github/ClauderCarvalho/ABERTO/blob/master/DEZ_TRUQUES_BASICOS_NO_PANDAS.ipynb\" target=\"_parent\"><img src=\"https://colab.research.google.com/assets/colab-badge.svg\" alt=\"Open In Colab\"/></a>"
      ]
    },
    {
      "cell_type": "code",
      "metadata": {
        "id": "t9CyzxsJLvFF",
        "colab_type": "code",
        "colab": {}
      },
      "source": [
        "import pandas as pd\n",
        "import numpy as np\n"
      ],
      "execution_count": 0,
      "outputs": []
    },
    {
      "cell_type": "code",
      "metadata": {
        "id": "WOwNckA7MD0W",
        "colab_type": "code",
        "colab": {}
      },
      "source": [
        ""
      ],
      "execution_count": 0,
      "outputs": []
    },
    {
      "cell_type": "markdown",
      "metadata": {
        "id": "3SUH2Dga9HfQ",
        "colab_type": "text"
      },
      "source": [
        "Clauder Noronha = 2015"
      ]
    },
    {
      "cell_type": "markdown",
      "metadata": {
        "id": "WbPTFbD6MVkx",
        "colab_type": "text"
      },
      "source": [
        "O Pandas é uma poderosa ferramenta de análise e manipulação de dados de código aberto, construída sobre a linguagem de programação Python. Neste artigo, mostrarei 10 truques sobre o DataFrame do pandas para facilitar um pouco mais algumas práticas de programação."
      ]
    },
    {
      "cell_type": "code",
      "metadata": {
        "id": "WVIa2-NUMWPc",
        "colab_type": "code",
        "colab": {}
      },
      "source": [
        "#Criar um DataFrame\n",
        "\n",
        "df = pd.DataFrame({\n",
        "    'Paises':['Estados Unidos','Holanda','Espanha','Mexico','Autralia','Brasil'],\n",
        "     'Capital':['Washington DC','Amsterda','Madrid','Cidade do Mexico','Camberra','Brasilia'],\n",
        "     'Continente':['America do Norte','Europa','Europa','America do Norte','Oceania','America do Sul'],\n",
        "     'Idioma':['Ingles','Holandes','Espanhol','Espanhol','Ingles','Portugues']\n",
        "})"
      ],
      "execution_count": 0,
      "outputs": []
    },
    {
      "cell_type": "code",
      "metadata": {
        "id": "lYxEBc6QOMET",
        "colab_type": "code",
        "colab": {
          "base_uri": "https://localhost:8080/",
          "height": 197
        },
        "outputId": "7b1a74f2-f96f-4ca4-da85-1c9505491951"
      },
      "source": [
        "df.head()"
      ],
      "execution_count": 14,
      "outputs": [
        {
          "output_type": "execute_result",
          "data": {
            "text/html": [
              "<div>\n",
              "<style scoped>\n",
              "    .dataframe tbody tr th:only-of-type {\n",
              "        vertical-align: middle;\n",
              "    }\n",
              "\n",
              "    .dataframe tbody tr th {\n",
              "        vertical-align: top;\n",
              "    }\n",
              "\n",
              "    .dataframe thead th {\n",
              "        text-align: right;\n",
              "    }\n",
              "</style>\n",
              "<table border=\"1\" class=\"dataframe\">\n",
              "  <thead>\n",
              "    <tr style=\"text-align: right;\">\n",
              "      <th></th>\n",
              "      <th>Paises</th>\n",
              "      <th>Capital</th>\n",
              "      <th>Continente</th>\n",
              "      <th>Idioma</th>\n",
              "    </tr>\n",
              "  </thead>\n",
              "  <tbody>\n",
              "    <tr>\n",
              "      <th>0</th>\n",
              "      <td>Estados Unidos</td>\n",
              "      <td>Washington DC</td>\n",
              "      <td>America do Norte</td>\n",
              "      <td>Ingles</td>\n",
              "    </tr>\n",
              "    <tr>\n",
              "      <th>1</th>\n",
              "      <td>Holanda</td>\n",
              "      <td>Amsterda</td>\n",
              "      <td>Europa</td>\n",
              "      <td>Holandes</td>\n",
              "    </tr>\n",
              "    <tr>\n",
              "      <th>2</th>\n",
              "      <td>Espanha</td>\n",
              "      <td>Madrid</td>\n",
              "      <td>Europa</td>\n",
              "      <td>Espanhol</td>\n",
              "    </tr>\n",
              "    <tr>\n",
              "      <th>3</th>\n",
              "      <td>Mexico</td>\n",
              "      <td>Cidade do Mexico</td>\n",
              "      <td>America do Norte</td>\n",
              "      <td>Espanhol</td>\n",
              "    </tr>\n",
              "    <tr>\n",
              "      <th>4</th>\n",
              "      <td>Autralia</td>\n",
              "      <td>Camberra</td>\n",
              "      <td>Oceania</td>\n",
              "      <td>Ingles</td>\n",
              "    </tr>\n",
              "  </tbody>\n",
              "</table>\n",
              "</div>"
            ],
            "text/plain": [
              "           Paises           Capital        Continente    Idioma\n",
              "0  Estados Unidos     Washington DC  America do Norte    Ingles\n",
              "1         Holanda          Amsterda            Europa  Holandes\n",
              "2         Espanha            Madrid            Europa  Espanhol\n",
              "3          Mexico  Cidade do Mexico  America do Norte  Espanhol\n",
              "4        Autralia          Camberra           Oceania    Ingles"
            ]
          },
          "metadata": {
            "tags": []
          },
          "execution_count": 14
        }
      ]
    },
    {
      "cell_type": "code",
      "metadata": {
        "id": "KS4Xfzw6OPds",
        "colab_type": "code",
        "colab": {
          "base_uri": "https://localhost:8080/",
          "height": 200
        },
        "outputId": "561a5c1f-cb61-4181-d5af-6539e46f7fe8"
      },
      "source": [
        "df.info()"
      ],
      "execution_count": 15,
      "outputs": [
        {
          "output_type": "stream",
          "text": [
            "<class 'pandas.core.frame.DataFrame'>\n",
            "RangeIndex: 6 entries, 0 to 5\n",
            "Data columns (total 4 columns):\n",
            " #   Column      Non-Null Count  Dtype \n",
            "---  ------      --------------  ----- \n",
            " 0   Paises      6 non-null      object\n",
            " 1   Capital     6 non-null      object\n",
            " 2   Continente  6 non-null      object\n",
            " 3   Idioma      6 non-null      object\n",
            "dtypes: object(4)\n",
            "memory usage: 320.0+ bytes\n"
          ],
          "name": "stdout"
        }
      ]
    },
    {
      "cell_type": "markdown",
      "metadata": {
        "id": "_1FuEuVmOsHP",
        "colab_type": "text"
      },
      "source": [
        "Usando o locoperador, podemos selecionar subconjuntos de linhas e colunas com base no rótulo do índice e no nome da coluna. Abaixo estão alguns exemplos de como usar o operador loc no DataFrame dos 'países':"
      ]
    },
    {
      "cell_type": "code",
      "metadata": {
        "id": "FieGGg6LOtGb",
        "colab_type": "code",
        "colab": {
          "base_uri": "https://localhost:8080/",
          "height": 66
        },
        "outputId": "2cc33b03-1651-4c26-d321-830dedfb2b20"
      },
      "source": [
        "df['Paises'].loc[df['Idioma']=='Ingles']"
      ],
      "execution_count": 16,
      "outputs": [
        {
          "output_type": "execute_result",
          "data": {
            "text/plain": [
              "0    Estados Unidos\n",
              "4          Autralia\n",
              "Name: Paises, dtype: object"
            ]
          },
          "metadata": {
            "tags": []
          },
          "execution_count": 16
        }
      ]
    },
    {
      "cell_type": "code",
      "metadata": {
        "id": "I6uIFWuGO3-b",
        "colab_type": "code",
        "colab": {
          "base_uri": "https://localhost:8080/",
          "height": 133
        },
        "outputId": "3f5dd3bc-f166-4c85-c411-5cdf7e30c2b1"
      },
      "source": [
        "df['Paises']"
      ],
      "execution_count": 17,
      "outputs": [
        {
          "output_type": "execute_result",
          "data": {
            "text/plain": [
              "0    Estados Unidos\n",
              "1           Holanda\n",
              "2           Espanha\n",
              "3            Mexico\n",
              "4          Autralia\n",
              "5            Brasil\n",
              "Name: Paises, dtype: object"
            ]
          },
          "metadata": {
            "tags": []
          },
          "execution_count": 17
        }
      ]
    },
    {
      "cell_type": "code",
      "metadata": {
        "id": "-5i3JuD2RnoG",
        "colab_type": "code",
        "colab": {
          "base_uri": "https://localhost:8080/",
          "height": 50
        },
        "outputId": "c054b092-104d-471f-b9eb-6287f166750e"
      },
      "source": [
        "df['Paises'].loc[df['Paises']=='Brasil']"
      ],
      "execution_count": 20,
      "outputs": [
        {
          "output_type": "execute_result",
          "data": {
            "text/plain": [
              "5    Brasil\n",
              "Name: Paises, dtype: object"
            ]
          },
          "metadata": {
            "tags": []
          },
          "execution_count": 20
        }
      ]
    },
    {
      "cell_type": "code",
      "metadata": {
        "id": "f9BgPfFyR0_G",
        "colab_type": "code",
        "colab": {
          "base_uri": "https://localhost:8080/",
          "height": 167
        },
        "outputId": "b5200df7-4b1b-45cc-de0b-51b1934dde76"
      },
      "source": [
        "#Fazer uma busca no DataFrame excluindo a busca da EUROPA\n",
        "df[~ df.Continente.isin(['Europa'])]\n"
      ],
      "execution_count": 24,
      "outputs": [
        {
          "output_type": "execute_result",
          "data": {
            "text/html": [
              "<div>\n",
              "<style scoped>\n",
              "    .dataframe tbody tr th:only-of-type {\n",
              "        vertical-align: middle;\n",
              "    }\n",
              "\n",
              "    .dataframe tbody tr th {\n",
              "        vertical-align: top;\n",
              "    }\n",
              "\n",
              "    .dataframe thead th {\n",
              "        text-align: right;\n",
              "    }\n",
              "</style>\n",
              "<table border=\"1\" class=\"dataframe\">\n",
              "  <thead>\n",
              "    <tr style=\"text-align: right;\">\n",
              "      <th></th>\n",
              "      <th>Paises</th>\n",
              "      <th>Capital</th>\n",
              "      <th>Continente</th>\n",
              "      <th>Idioma</th>\n",
              "    </tr>\n",
              "  </thead>\n",
              "  <tbody>\n",
              "    <tr>\n",
              "      <th>0</th>\n",
              "      <td>Estados Unidos</td>\n",
              "      <td>Washington DC</td>\n",
              "      <td>America do Norte</td>\n",
              "      <td>Ingles</td>\n",
              "    </tr>\n",
              "    <tr>\n",
              "      <th>3</th>\n",
              "      <td>Mexico</td>\n",
              "      <td>Cidade do Mexico</td>\n",
              "      <td>America do Norte</td>\n",
              "      <td>Espanhol</td>\n",
              "    </tr>\n",
              "    <tr>\n",
              "      <th>4</th>\n",
              "      <td>Autralia</td>\n",
              "      <td>Camberra</td>\n",
              "      <td>Oceania</td>\n",
              "      <td>Ingles</td>\n",
              "    </tr>\n",
              "    <tr>\n",
              "      <th>5</th>\n",
              "      <td>Brasil</td>\n",
              "      <td>Brasilia</td>\n",
              "      <td>America do Sul</td>\n",
              "      <td>Portugues</td>\n",
              "    </tr>\n",
              "  </tbody>\n",
              "</table>\n",
              "</div>"
            ],
            "text/plain": [
              "           Paises           Capital        Continente     Idioma\n",
              "0  Estados Unidos     Washington DC  America do Norte     Ingles\n",
              "3          Mexico  Cidade do Mexico  America do Norte   Espanhol\n",
              "4        Autralia          Camberra           Oceania     Ingles\n",
              "5          Brasil          Brasilia    America do Sul  Portugues"
            ]
          },
          "metadata": {
            "tags": []
          },
          "execution_count": 24
        }
      ]
    },
    {
      "cell_type": "code",
      "metadata": {
        "id": "_UgP9MkZSl8M",
        "colab_type": "code",
        "colab": {}
      },
      "source": [
        ""
      ],
      "execution_count": 0,
      "outputs": []
    },
    {
      "cell_type": "markdown",
      "metadata": {
        "id": "MgZNn3cLTCRS",
        "colab_type": "text"
      },
      "source": [
        "\n",
        "* Alterar Nome\n",
        "\n",
        "\n",
        "Você pode alterar o nome de certas colunas porque, por exemplo, o nome está incorreto ou incompleto. Por exemplo, convém alterar o nome da coluna 'capital' para 'capital_city' e 'language' para 'most_spoken_language'. Podemos fazer isso da seguinte maneira:"
      ]
    },
    {
      "cell_type": "code",
      "metadata": {
        "id": "TL3mkaaTTC_M",
        "colab_type": "code",
        "colab": {
          "base_uri": "https://localhost:8080/",
          "height": 227
        },
        "outputId": "f5861c01-47f4-43dd-eeb8-ecab52fd0d7d"
      },
      "source": [
        "df.rename({'Capital':'capital'})"
      ],
      "execution_count": 28,
      "outputs": [
        {
          "output_type": "execute_result",
          "data": {
            "text/html": [
              "<div>\n",
              "<style scoped>\n",
              "    .dataframe tbody tr th:only-of-type {\n",
              "        vertical-align: middle;\n",
              "    }\n",
              "\n",
              "    .dataframe tbody tr th {\n",
              "        vertical-align: top;\n",
              "    }\n",
              "\n",
              "    .dataframe thead th {\n",
              "        text-align: right;\n",
              "    }\n",
              "</style>\n",
              "<table border=\"1\" class=\"dataframe\">\n",
              "  <thead>\n",
              "    <tr style=\"text-align: right;\">\n",
              "      <th></th>\n",
              "      <th>Paises</th>\n",
              "      <th>Capital</th>\n",
              "      <th>Continente</th>\n",
              "      <th>Idioma</th>\n",
              "    </tr>\n",
              "  </thead>\n",
              "  <tbody>\n",
              "    <tr>\n",
              "      <th>0</th>\n",
              "      <td>Estados Unidos</td>\n",
              "      <td>Washington DC</td>\n",
              "      <td>America do Norte</td>\n",
              "      <td>Ingles</td>\n",
              "    </tr>\n",
              "    <tr>\n",
              "      <th>1</th>\n",
              "      <td>Holanda</td>\n",
              "      <td>Amsterda</td>\n",
              "      <td>Europa</td>\n",
              "      <td>Holandes</td>\n",
              "    </tr>\n",
              "    <tr>\n",
              "      <th>2</th>\n",
              "      <td>Espanha</td>\n",
              "      <td>Madrid</td>\n",
              "      <td>Europa</td>\n",
              "      <td>Espanhol</td>\n",
              "    </tr>\n",
              "    <tr>\n",
              "      <th>3</th>\n",
              "      <td>Mexico</td>\n",
              "      <td>Cidade do Mexico</td>\n",
              "      <td>America do Norte</td>\n",
              "      <td>Espanhol</td>\n",
              "    </tr>\n",
              "    <tr>\n",
              "      <th>4</th>\n",
              "      <td>Autralia</td>\n",
              "      <td>Camberra</td>\n",
              "      <td>Oceania</td>\n",
              "      <td>Ingles</td>\n",
              "    </tr>\n",
              "    <tr>\n",
              "      <th>5</th>\n",
              "      <td>Brasil</td>\n",
              "      <td>Brasilia</td>\n",
              "      <td>America do Sul</td>\n",
              "      <td>Portugues</td>\n",
              "    </tr>\n",
              "  </tbody>\n",
              "</table>\n",
              "</div>"
            ],
            "text/plain": [
              "           Paises           Capital        Continente     Idioma\n",
              "0  Estados Unidos     Washington DC  America do Norte     Ingles\n",
              "1         Holanda          Amsterda            Europa   Holandes\n",
              "2         Espanha            Madrid            Europa   Espanhol\n",
              "3          Mexico  Cidade do Mexico  America do Norte   Espanhol\n",
              "4        Autralia          Camberra           Oceania     Ingles\n",
              "5          Brasil          Brasilia    America do Sul  Portugues"
            ]
          },
          "metadata": {
            "tags": []
          },
          "execution_count": 28
        }
      ]
    },
    {
      "cell_type": "code",
      "metadata": {
        "id": "uGwl2fZWUb9O",
        "colab_type": "code",
        "colab": {}
      },
      "source": [
        ""
      ],
      "execution_count": 0,
      "outputs": []
    },
    {
      "cell_type": "markdown",
      "metadata": {
        "id": "t5G_RrN3VAxo",
        "colab_type": "text"
      },
      "source": [
        "Para reverter a ordem das linhas, usamos o locoperador. Isso funciona da seguinte maneira:"
      ]
    },
    {
      "cell_type": "code",
      "metadata": {
        "id": "mz9j5T4oVBzT",
        "colab_type": "code",
        "colab": {
          "base_uri": "https://localhost:8080/",
          "height": 227
        },
        "outputId": "08aaa161-8b10-48d9-9842-a78ca8a8e39b"
      },
      "source": [
        "df.loc[:: -1]"
      ],
      "execution_count": 29,
      "outputs": [
        {
          "output_type": "execute_result",
          "data": {
            "text/html": [
              "<div>\n",
              "<style scoped>\n",
              "    .dataframe tbody tr th:only-of-type {\n",
              "        vertical-align: middle;\n",
              "    }\n",
              "\n",
              "    .dataframe tbody tr th {\n",
              "        vertical-align: top;\n",
              "    }\n",
              "\n",
              "    .dataframe thead th {\n",
              "        text-align: right;\n",
              "    }\n",
              "</style>\n",
              "<table border=\"1\" class=\"dataframe\">\n",
              "  <thead>\n",
              "    <tr style=\"text-align: right;\">\n",
              "      <th></th>\n",
              "      <th>Paises</th>\n",
              "      <th>Capital</th>\n",
              "      <th>Continente</th>\n",
              "      <th>Idioma</th>\n",
              "    </tr>\n",
              "  </thead>\n",
              "  <tbody>\n",
              "    <tr>\n",
              "      <th>5</th>\n",
              "      <td>Brasil</td>\n",
              "      <td>Brasilia</td>\n",
              "      <td>America do Sul</td>\n",
              "      <td>Portugues</td>\n",
              "    </tr>\n",
              "    <tr>\n",
              "      <th>4</th>\n",
              "      <td>Autralia</td>\n",
              "      <td>Camberra</td>\n",
              "      <td>Oceania</td>\n",
              "      <td>Ingles</td>\n",
              "    </tr>\n",
              "    <tr>\n",
              "      <th>3</th>\n",
              "      <td>Mexico</td>\n",
              "      <td>Cidade do Mexico</td>\n",
              "      <td>America do Norte</td>\n",
              "      <td>Espanhol</td>\n",
              "    </tr>\n",
              "    <tr>\n",
              "      <th>2</th>\n",
              "      <td>Espanha</td>\n",
              "      <td>Madrid</td>\n",
              "      <td>Europa</td>\n",
              "      <td>Espanhol</td>\n",
              "    </tr>\n",
              "    <tr>\n",
              "      <th>1</th>\n",
              "      <td>Holanda</td>\n",
              "      <td>Amsterda</td>\n",
              "      <td>Europa</td>\n",
              "      <td>Holandes</td>\n",
              "    </tr>\n",
              "    <tr>\n",
              "      <th>0</th>\n",
              "      <td>Estados Unidos</td>\n",
              "      <td>Washington DC</td>\n",
              "      <td>America do Norte</td>\n",
              "      <td>Ingles</td>\n",
              "    </tr>\n",
              "  </tbody>\n",
              "</table>\n",
              "</div>"
            ],
            "text/plain": [
              "           Paises           Capital        Continente     Idioma\n",
              "5          Brasil          Brasilia    America do Sul  Portugues\n",
              "4        Autralia          Camberra           Oceania     Ingles\n",
              "3          Mexico  Cidade do Mexico  America do Norte   Espanhol\n",
              "2         Espanha            Madrid            Europa   Espanhol\n",
              "1         Holanda          Amsterda            Europa   Holandes\n",
              "0  Estados Unidos     Washington DC  America do Norte     Ingles"
            ]
          },
          "metadata": {
            "tags": []
          },
          "execution_count": 29
        }
      ]
    },
    {
      "cell_type": "code",
      "metadata": {
        "id": "WsgHivrLVzdc",
        "colab_type": "code",
        "colab": {}
      },
      "source": [
        ""
      ],
      "execution_count": 0,
      "outputs": []
    },
    {
      "cell_type": "markdown",
      "metadata": {
        "id": "sAsfiTw2WFfX",
        "colab_type": "text"
      },
      "source": [
        "No entanto, observe que agora os índices ainda estão seguindo a ordem anterior. Temos que fazer uso da reset_indexfunção para redefinir os índices:"
      ]
    },
    {
      "cell_type": "code",
      "metadata": {
        "id": "iuGgRA0FWGpg",
        "colab_type": "code",
        "colab": {
          "base_uri": "https://localhost:8080/",
          "height": 227
        },
        "outputId": "a75b8f2c-b8fd-41cc-d530-9d43ac0bfd9d"
      },
      "source": [
        "df.loc[:: -1].reset_index(drop =True)"
      ],
      "execution_count": 30,
      "outputs": [
        {
          "output_type": "execute_result",
          "data": {
            "text/html": [
              "<div>\n",
              "<style scoped>\n",
              "    .dataframe tbody tr th:only-of-type {\n",
              "        vertical-align: middle;\n",
              "    }\n",
              "\n",
              "    .dataframe tbody tr th {\n",
              "        vertical-align: top;\n",
              "    }\n",
              "\n",
              "    .dataframe thead th {\n",
              "        text-align: right;\n",
              "    }\n",
              "</style>\n",
              "<table border=\"1\" class=\"dataframe\">\n",
              "  <thead>\n",
              "    <tr style=\"text-align: right;\">\n",
              "      <th></th>\n",
              "      <th>Paises</th>\n",
              "      <th>Capital</th>\n",
              "      <th>Continente</th>\n",
              "      <th>Idioma</th>\n",
              "    </tr>\n",
              "  </thead>\n",
              "  <tbody>\n",
              "    <tr>\n",
              "      <th>0</th>\n",
              "      <td>Brasil</td>\n",
              "      <td>Brasilia</td>\n",
              "      <td>America do Sul</td>\n",
              "      <td>Portugues</td>\n",
              "    </tr>\n",
              "    <tr>\n",
              "      <th>1</th>\n",
              "      <td>Autralia</td>\n",
              "      <td>Camberra</td>\n",
              "      <td>Oceania</td>\n",
              "      <td>Ingles</td>\n",
              "    </tr>\n",
              "    <tr>\n",
              "      <th>2</th>\n",
              "      <td>Mexico</td>\n",
              "      <td>Cidade do Mexico</td>\n",
              "      <td>America do Norte</td>\n",
              "      <td>Espanhol</td>\n",
              "    </tr>\n",
              "    <tr>\n",
              "      <th>3</th>\n",
              "      <td>Espanha</td>\n",
              "      <td>Madrid</td>\n",
              "      <td>Europa</td>\n",
              "      <td>Espanhol</td>\n",
              "    </tr>\n",
              "    <tr>\n",
              "      <th>4</th>\n",
              "      <td>Holanda</td>\n",
              "      <td>Amsterda</td>\n",
              "      <td>Europa</td>\n",
              "      <td>Holandes</td>\n",
              "    </tr>\n",
              "    <tr>\n",
              "      <th>5</th>\n",
              "      <td>Estados Unidos</td>\n",
              "      <td>Washington DC</td>\n",
              "      <td>America do Norte</td>\n",
              "      <td>Ingles</td>\n",
              "    </tr>\n",
              "  </tbody>\n",
              "</table>\n",
              "</div>"
            ],
            "text/plain": [
              "           Paises           Capital        Continente     Idioma\n",
              "0          Brasil          Brasilia    America do Sul  Portugues\n",
              "1        Autralia          Camberra           Oceania     Ingles\n",
              "2          Mexico  Cidade do Mexico  America do Norte   Espanhol\n",
              "3         Espanha            Madrid            Europa   Espanhol\n",
              "4         Holanda          Amsterda            Europa   Holandes\n",
              "5  Estados Unidos     Washington DC  America do Norte     Ingles"
            ]
          },
          "metadata": {
            "tags": []
          },
          "execution_count": 30
        }
      ]
    },
    {
      "cell_type": "code",
      "metadata": {
        "id": "nH18MKcQWPVH",
        "colab_type": "code",
        "colab": {}
      },
      "source": [
        ""
      ],
      "execution_count": 0,
      "outputs": []
    },
    {
      "cell_type": "markdown",
      "metadata": {
        "id": "lAzQuQEVWqX1",
        "colab_type": "text"
      },
      "source": [
        "Em alguns casos, queremos dividir um DataFrame em dois subconjuntos aleatórios . Para isso, fazemos uso da samplefunção Por exemplo, ao criar um treinamento e um conjunto de testes com todo o conjunto de dados, precisamos criar dois subconjuntos aleatórios. Abaixo, mostramos como usar a samplefunção:"
      ]
    },
    {
      "cell_type": "code",
      "metadata": {
        "id": "aByG1gWwWrBe",
        "colab_type": "code",
        "colab": {}
      },
      "source": [
        "df_1 = df.sample(frac = 0,6, random_state = 999)\n",
        "df_2 = df.drop(df_1.index)"
      ],
      "execution_count": 0,
      "outputs": []
    },
    {
      "cell_type": "code",
      "metadata": {
        "id": "rLznFUoDWsNs",
        "colab_type": "code",
        "colab": {}
      },
      "source": [
        ""
      ],
      "execution_count": 0,
      "outputs": []
    },
    {
      "cell_type": "markdown",
      "metadata": {
        "id": "3yHztH-RXREk",
        "colab_type": "text"
      },
      "source": [
        "Outro Exemplo"
      ]
    },
    {
      "cell_type": "code",
      "metadata": {
        "id": "WznyTBzTWsP7",
        "colab_type": "code",
        "colab": {}
      },
      "source": [
        "alunos = pd.DataFrame({\n",
        "    'Nome':['Clauder','Noronha','Carvalho','Cris'],\n",
        "    'Sexo':['Masc','Masc','Masc','Fem']\n",
        "})"
      ],
      "execution_count": 0,
      "outputs": []
    },
    {
      "cell_type": "code",
      "metadata": {
        "id": "SW0vL6D8WsR5",
        "colab_type": "code",
        "colab": {
          "base_uri": "https://localhost:8080/",
          "height": 167
        },
        "outputId": "eea35c5d-a161-4ee4-9da3-2e860adb6d4b"
      },
      "source": [
        "alunos.head()"
      ],
      "execution_count": 34,
      "outputs": [
        {
          "output_type": "execute_result",
          "data": {
            "text/html": [
              "<div>\n",
              "<style scoped>\n",
              "    .dataframe tbody tr th:only-of-type {\n",
              "        vertical-align: middle;\n",
              "    }\n",
              "\n",
              "    .dataframe tbody tr th {\n",
              "        vertical-align: top;\n",
              "    }\n",
              "\n",
              "    .dataframe thead th {\n",
              "        text-align: right;\n",
              "    }\n",
              "</style>\n",
              "<table border=\"1\" class=\"dataframe\">\n",
              "  <thead>\n",
              "    <tr style=\"text-align: right;\">\n",
              "      <th></th>\n",
              "      <th>Nome</th>\n",
              "      <th>Sexo</th>\n",
              "    </tr>\n",
              "  </thead>\n",
              "  <tbody>\n",
              "    <tr>\n",
              "      <th>0</th>\n",
              "      <td>Clauder</td>\n",
              "      <td>Masc</td>\n",
              "    </tr>\n",
              "    <tr>\n",
              "      <th>1</th>\n",
              "      <td>Noronha</td>\n",
              "      <td>Masc</td>\n",
              "    </tr>\n",
              "    <tr>\n",
              "      <th>2</th>\n",
              "      <td>Carvalho</td>\n",
              "      <td>Masc</td>\n",
              "    </tr>\n",
              "    <tr>\n",
              "      <th>3</th>\n",
              "      <td>Cris</td>\n",
              "      <td>Fem</td>\n",
              "    </tr>\n",
              "  </tbody>\n",
              "</table>\n",
              "</div>"
            ],
            "text/plain": [
              "       Nome  Sexo\n",
              "0   Clauder  Masc\n",
              "1   Noronha  Masc\n",
              "2  Carvalho  Masc\n",
              "3      Cris   Fem"
            ]
          },
          "metadata": {
            "tags": []
          },
          "execution_count": 34
        }
      ]
    },
    {
      "cell_type": "code",
      "metadata": {
        "id": "8ai00oICWsVg",
        "colab_type": "code",
        "colab": {}
      },
      "source": [
        ""
      ],
      "execution_count": 0,
      "outputs": []
    },
    {
      "cell_type": "markdown",
      "metadata": {
        "id": "m2sm1tQIX360",
        "colab_type": "text"
      },
      "source": [
        "Podemos criar uma variável dummy a partir de variáveis ​​categóricas. Podemos fazer isso usando a get_dummiesfunção:"
      ]
    },
    {
      "cell_type": "code",
      "metadata": {
        "id": "knMMHLIAWsX3",
        "colab_type": "code",
        "colab": {
          "base_uri": "https://localhost:8080/",
          "height": 167
        },
        "outputId": "b846a62a-5675-4746-aab2-8c90a036c5cf"
      },
      "source": [
        "pd.get_dummies(alunos)"
      ],
      "execution_count": 35,
      "outputs": [
        {
          "output_type": "execute_result",
          "data": {
            "text/html": [
              "<div>\n",
              "<style scoped>\n",
              "    .dataframe tbody tr th:only-of-type {\n",
              "        vertical-align: middle;\n",
              "    }\n",
              "\n",
              "    .dataframe tbody tr th {\n",
              "        vertical-align: top;\n",
              "    }\n",
              "\n",
              "    .dataframe thead th {\n",
              "        text-align: right;\n",
              "    }\n",
              "</style>\n",
              "<table border=\"1\" class=\"dataframe\">\n",
              "  <thead>\n",
              "    <tr style=\"text-align: right;\">\n",
              "      <th></th>\n",
              "      <th>Nome_Carvalho</th>\n",
              "      <th>Nome_Clauder</th>\n",
              "      <th>Nome_Cris</th>\n",
              "      <th>Nome_Noronha</th>\n",
              "      <th>Sexo_Fem</th>\n",
              "      <th>Sexo_Masc</th>\n",
              "    </tr>\n",
              "  </thead>\n",
              "  <tbody>\n",
              "    <tr>\n",
              "      <th>0</th>\n",
              "      <td>0</td>\n",
              "      <td>1</td>\n",
              "      <td>0</td>\n",
              "      <td>0</td>\n",
              "      <td>0</td>\n",
              "      <td>1</td>\n",
              "    </tr>\n",
              "    <tr>\n",
              "      <th>1</th>\n",
              "      <td>0</td>\n",
              "      <td>0</td>\n",
              "      <td>0</td>\n",
              "      <td>1</td>\n",
              "      <td>0</td>\n",
              "      <td>1</td>\n",
              "    </tr>\n",
              "    <tr>\n",
              "      <th>2</th>\n",
              "      <td>1</td>\n",
              "      <td>0</td>\n",
              "      <td>0</td>\n",
              "      <td>0</td>\n",
              "      <td>0</td>\n",
              "      <td>1</td>\n",
              "    </tr>\n",
              "    <tr>\n",
              "      <th>3</th>\n",
              "      <td>0</td>\n",
              "      <td>0</td>\n",
              "      <td>1</td>\n",
              "      <td>0</td>\n",
              "      <td>1</td>\n",
              "      <td>0</td>\n",
              "    </tr>\n",
              "  </tbody>\n",
              "</table>\n",
              "</div>"
            ],
            "text/plain": [
              "   Nome_Carvalho  Nome_Clauder  Nome_Cris  Nome_Noronha  Sexo_Fem  Sexo_Masc\n",
              "0              0             1          0             0         0          1\n",
              "1              0             0          0             1         0          1\n",
              "2              1             0          0             0         0          1\n",
              "3              0             0          1             0         1          0"
            ]
          },
          "metadata": {
            "tags": []
          },
          "execution_count": 35
        }
      ]
    },
    {
      "cell_type": "code",
      "metadata": {
        "id": "T4v-ibdRWsbl",
        "colab_type": "code",
        "colab": {}
      },
      "source": [
        ""
      ],
      "execution_count": 0,
      "outputs": []
    },
    {
      "cell_type": "markdown",
      "metadata": {
        "id": "fyPJWIVSYRKr",
        "colab_type": "text"
      },
      "source": [
        "Para se livrar das colunas redundantes, precisamos adicionar"
      ]
    },
    {
      "cell_type": "code",
      "metadata": {
        "id": "wEdqJDMMWsgj",
        "colab_type": "code",
        "colab": {}
      },
      "source": [
        "drop_first=True"
      ],
      "execution_count": 0,
      "outputs": []
    },
    {
      "cell_type": "code",
      "metadata": {
        "id": "Uh7EFvTAWsj8",
        "colab_type": "code",
        "colab": {
          "base_uri": "https://localhost:8080/",
          "height": 167
        },
        "outputId": "8a1eccc5-1dab-4525-d0fb-459a92831c49"
      },
      "source": [
        "pd.get_dummies(alunos, drop_first= True)"
      ],
      "execution_count": 38,
      "outputs": [
        {
          "output_type": "execute_result",
          "data": {
            "text/html": [
              "<div>\n",
              "<style scoped>\n",
              "    .dataframe tbody tr th:only-of-type {\n",
              "        vertical-align: middle;\n",
              "    }\n",
              "\n",
              "    .dataframe tbody tr th {\n",
              "        vertical-align: top;\n",
              "    }\n",
              "\n",
              "    .dataframe thead th {\n",
              "        text-align: right;\n",
              "    }\n",
              "</style>\n",
              "<table border=\"1\" class=\"dataframe\">\n",
              "  <thead>\n",
              "    <tr style=\"text-align: right;\">\n",
              "      <th></th>\n",
              "      <th>Nome_Clauder</th>\n",
              "      <th>Nome_Cris</th>\n",
              "      <th>Nome_Noronha</th>\n",
              "      <th>Sexo_Masc</th>\n",
              "    </tr>\n",
              "  </thead>\n",
              "  <tbody>\n",
              "    <tr>\n",
              "      <th>0</th>\n",
              "      <td>1</td>\n",
              "      <td>0</td>\n",
              "      <td>0</td>\n",
              "      <td>1</td>\n",
              "    </tr>\n",
              "    <tr>\n",
              "      <th>1</th>\n",
              "      <td>0</td>\n",
              "      <td>0</td>\n",
              "      <td>1</td>\n",
              "      <td>1</td>\n",
              "    </tr>\n",
              "    <tr>\n",
              "      <th>2</th>\n",
              "      <td>0</td>\n",
              "      <td>0</td>\n",
              "      <td>0</td>\n",
              "      <td>1</td>\n",
              "    </tr>\n",
              "    <tr>\n",
              "      <th>3</th>\n",
              "      <td>0</td>\n",
              "      <td>1</td>\n",
              "      <td>0</td>\n",
              "      <td>0</td>\n",
              "    </tr>\n",
              "  </tbody>\n",
              "</table>\n",
              "</div>"
            ],
            "text/plain": [
              "   Nome_Clauder  Nome_Cris  Nome_Noronha  Sexo_Masc\n",
              "0             1          0             0          1\n",
              "1             0          0             1          1\n",
              "2             0          0             0          1\n",
              "3             0          1             0          0"
            ]
          },
          "metadata": {
            "tags": []
          },
          "execution_count": 38
        }
      ]
    },
    {
      "cell_type": "code",
      "metadata": {
        "id": "0iE4ee6-Ykln",
        "colab_type": "code",
        "colab": {}
      },
      "source": [
        ""
      ],
      "execution_count": 0,
      "outputs": []
    },
    {
      "cell_type": "code",
      "metadata": {
        "id": "trRpKKo_Yn4Z",
        "colab_type": "code",
        "colab": {}
      },
      "source": [
        ""
      ],
      "execution_count": 0,
      "outputs": []
    },
    {
      "cell_type": "code",
      "metadata": {
        "id": "5leam643Yn6b",
        "colab_type": "code",
        "colab": {}
      },
      "source": [
        ""
      ],
      "execution_count": 0,
      "outputs": []
    },
    {
      "cell_type": "code",
      "metadata": {
        "id": "YfNg5vBIYn89",
        "colab_type": "code",
        "colab": {}
      },
      "source": [
        ""
      ],
      "execution_count": 0,
      "outputs": []
    },
    {
      "cell_type": "code",
      "metadata": {
        "id": "47i9zaC6YoAR",
        "colab_type": "code",
        "colab": {}
      },
      "source": [
        ""
      ],
      "execution_count": 0,
      "outputs": []
    }
  ]
}