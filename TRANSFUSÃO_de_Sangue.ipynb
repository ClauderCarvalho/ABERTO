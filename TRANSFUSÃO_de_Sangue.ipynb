{
  "nbformat": 4,
  "nbformat_minor": 0,
  "metadata": {
    "colab": {
      "name": "TRANSFUSÃO-de-Sangue.ipynb",
      "provenance": [],
      "collapsed_sections": [],
      "mount_file_id": "1Z8MzULhpsUlng0nZszYWMlRami2ncI05",
      "authorship_tag": "ABX9TyO9avMZsq3bF1TszVSNz+EO",
      "include_colab_link": true
    },
    "kernelspec": {
      "name": "python3",
      "display_name": "Python 3"
    }
  },
  "cells": [
    {
      "cell_type": "markdown",
      "metadata": {
        "id": "view-in-github",
        "colab_type": "text"
      },
      "source": [
        "<a href=\"https://colab.research.google.com/github/ClauderCarvalho/ABERTO/blob/master/TRANSFUS%C3%83O_de_Sangue.ipynb\" target=\"_parent\"><img src=\"https://colab.research.google.com/assets/colab-badge.svg\" alt=\"Open In Colab\"/></a>"
      ]
    },
    {
      "cell_type": "code",
      "metadata": {
        "id": "yKZQubLcyvw4",
        "colab_type": "code",
        "colab": {}
      },
      "source": [
        ""
      ],
      "execution_count": 0,
      "outputs": []
    },
    {
      "cell_type": "markdown",
      "metadata": {
        "id": "NZoBcBhEyw4f",
        "colab_type": "text"
      },
      "source": [
        "##CONJUNTO DE DADOS DO CENTRODE SERVIÇOS DE TRASBFUSÃO DE SANGUE\n"
      ]
    },
    {
      "cell_type": "markdown",
      "metadata": {
        "id": "_1IOORMDPZ6f",
        "colab_type": "text"
      },
      "source": [
        "FONTE:  \n",
        "\n",
        "https://archive.ics.uci.edu/ml/datasets/Blood+Transfusion+Service+Center\n",
        "\n",
        "\n",
        "Proprietário e doador original\n",
        "\n",
        "Prof. I-Cheng Yeh\n",
        "\n",
        "Departamento de Gerenciamento de Informações\n",
        "\n",
        "Universidade Chung-Hua,\n",
        "\n",
        "Hsin Chu, Taiwan 30067, ROC\n",
        "\n",
        "e-mail: icyeh '@' chu.edu.tw\n",
        "\n",
        "TEL: 886-3-5186511\n",
        "\n",
        "Data doação : outubro 3, 2008"
      ]
    },
    {
      "cell_type": "code",
      "metadata": {
        "id": "yFkDIp8n46Vr",
        "colab_type": "code",
        "colab": {}
      },
      "source": [
        ""
      ],
      "execution_count": 0,
      "outputs": []
    },
    {
      "cell_type": "markdown",
      "metadata": {
        "id": "C35zbW6Vzkv-",
        "colab_type": "text"
      },
      "source": [
        "***Informações do conjunto de dados:***\n",
        "\n",
        "\n",
        "\n",
        "Para demonstrar o modelo de marketing do RFMTC (uma versão modificada do RFM), \n",
        "\n",
        "este estudo adotou o banco de dados de doadores do Centro de Serviços de \n",
        "\n",
        "Transfusão de Sangue na cidade de Hsin-Chu, em Taiwan. O centro passa o ônibus \n",
        "\n",
        "de serviço de transfusão de sangue para uma universidade na cidade de Hsin-Chu \n",
        "\n",
        "para coletar sangue doado a cada três meses. Para construir um modelo FRMTC, \n",
        "\n",
        "selecionamos 748 doadores aleatoriamente no banco de dados de doadores. Esses \n",
        "\n",
        "748 dados de doadores, cada um deles incluíam R (Recência - meses desde a \n",
        "\n",
        "última doação), F (Frequência - número total de doações), M (Monetário - sangue \n",
        "\n",
        "total doado em cc), T (Tempo - meses desde a primeira doação) e uma variável \n",
        "\n",
        "binária que representa se ele / ela doou sangue em março de 2007 \n",
        "\n",
        "\n",
        "* 1 - Significa doar Sangue\n",
        "\n",
        "* 0 - Significa não Doar Sangue\n",
        "\n",
        "\n",
        "\n",
        "\n",
        "\n",
        "\n",
        "\n"
      ]
    },
    {
      "cell_type": "code",
      "metadata": {
        "id": "8gHKgXxL48tM",
        "colab_type": "code",
        "colab": {}
      },
      "source": [
        ""
      ],
      "execution_count": 0,
      "outputs": []
    },
    {
      "cell_type": "markdown",
      "metadata": {
        "id": "Kv2QC5Z13DZa",
        "colab_type": "text"
      },
      "source": [
        "  \n",
        "\n",
        "**INFORMAÇÕES SOBRE ATRIBUTOS**\n",
        "\n",
        "\n",
        "\n",
        "\n",
        "Dado é o nome da variável, tipo de variável, a unidade de medida e uma breve \n",
        "\n",
        "descrição. O \"Centro de Serviço de Transfusão de Sangue\" é um problema de \n",
        "\n",
        "classificação. A ordem desta listagem corresponde à ordem dos números ao longo \n",
        "\n",
        "das linhas do banco de dados.\n",
        "\n",
        "* R (Recência - meses desde a última doação),\n",
        "\n",
        "* F (Frequência - número total de doações),\n",
        "\n",
        "* M (Monetário - sangue total doado em cc),\n",
        "\n",
        "* T (Tempo - meses desde a primeira doação) e uma variável binária que indica \n",
        "\n",
        "se ele / ela doou sangue em março de 2007 (1 significa doar sangue; 0 significa \n",
        "\n",
        "não doar sangue).\n",
        "\n",
        "\n",
        "\n",
        "A tabela 1 mostra as estatísticas descritivas dos dados. Selecionamos 500 dados \n",
        "\n",
        "aleatoriamente como o conjunto de treinamento e o restante 248 como o conjunto \n",
        "\n",
        "de testes.\n",
        "\n",
        "\n",
        "Tabela 1. Estatísticas descritivas dos dados\n",
        "\n",
        "\n",
        "Tipo de dados variáveis ​​Medida Descrição min max média std Tempo\n",
        "\n",
        "quantitativo de entrada Entrada 0,03 74,4 9,74 8,07\n",
        "\n",
        "Tempo quantitativo de frequência Entrada 1 50 5,51 5,84\n",
        "\n",
        "Sangue cc quantitativo monetário Entrada 250 12500 1378,68 1459,83\n",
        "\n",
        "Tempo quantitativo meses Entrada 2,27 98,3 34,42 24,32\n",
        "\n",
        "Se doou sangue em março 2007 binário \n",
        "\n",
        "1 = sim \n",
        "\n",
        "0 = não Saída 0 1 \n",
        "\n",
        "\n",
        "* 1 (24%)\n",
        "\n",
        "* 0 (76%)"
      ]
    },
    {
      "cell_type": "code",
      "metadata": {
        "id": "dOSZD0Wwyv28",
        "colab_type": "code",
        "colab": {}
      },
      "source": [
        ""
      ],
      "execution_count": 0,
      "outputs": []
    },
    {
      "cell_type": "code",
      "metadata": {
        "id": "UN05T64X370C",
        "colab_type": "code",
        "colab": {}
      },
      "source": [
        ""
      ],
      "execution_count": 0,
      "outputs": []
    },
    {
      "cell_type": "markdown",
      "metadata": {
        "id": "Qsa5jrRt4jhi",
        "colab_type": "text"
      },
      "source": [
        "###ANALISAR OS DADOS"
      ]
    },
    {
      "cell_type": "code",
      "metadata": {
        "id": "WryG9pueKsaN",
        "colab_type": "code",
        "colab": {}
      },
      "source": [
        "import pandas as pd\n",
        "import numpy as np\n"
      ],
      "execution_count": 0,
      "outputs": []
    },
    {
      "cell_type": "code",
      "metadata": {
        "id": "WC7HJzaFLdKW",
        "colab_type": "code",
        "colab": {}
      },
      "source": [
        "data = pd.read_csv('/content/drive/My Drive/TRANSFUSAO/transfusion.data')"
      ],
      "execution_count": 0,
      "outputs": []
    },
    {
      "cell_type": "code",
      "metadata": {
        "id": "ywo9FJVwMpAA",
        "colab_type": "code",
        "outputId": "e8943f08-1440-4751-9e86-eaf2e35db6c2",
        "colab": {
          "base_uri": "https://localhost:8080/",
          "height": 220
        }
      },
      "source": [
        "data.head()"
      ],
      "execution_count": 0,
      "outputs": [
        {
          "output_type": "execute_result",
          "data": {
            "text/html": [
              "<div>\n",
              "<style scoped>\n",
              "    .dataframe tbody tr th:only-of-type {\n",
              "        vertical-align: middle;\n",
              "    }\n",
              "\n",
              "    .dataframe tbody tr th {\n",
              "        vertical-align: top;\n",
              "    }\n",
              "\n",
              "    .dataframe thead th {\n",
              "        text-align: right;\n",
              "    }\n",
              "</style>\n",
              "<table border=\"1\" class=\"dataframe\">\n",
              "  <thead>\n",
              "    <tr style=\"text-align: right;\">\n",
              "      <th></th>\n",
              "      <th>Recency (months)</th>\n",
              "      <th>Frequency (times)</th>\n",
              "      <th>Monetary (c.c. blood)</th>\n",
              "      <th>Time (months)</th>\n",
              "      <th>whether he/she donated blood in March 2007</th>\n",
              "    </tr>\n",
              "  </thead>\n",
              "  <tbody>\n",
              "    <tr>\n",
              "      <th>0</th>\n",
              "      <td>2</td>\n",
              "      <td>50</td>\n",
              "      <td>12500</td>\n",
              "      <td>98</td>\n",
              "      <td>1</td>\n",
              "    </tr>\n",
              "    <tr>\n",
              "      <th>1</th>\n",
              "      <td>0</td>\n",
              "      <td>13</td>\n",
              "      <td>3250</td>\n",
              "      <td>28</td>\n",
              "      <td>1</td>\n",
              "    </tr>\n",
              "    <tr>\n",
              "      <th>2</th>\n",
              "      <td>1</td>\n",
              "      <td>16</td>\n",
              "      <td>4000</td>\n",
              "      <td>35</td>\n",
              "      <td>1</td>\n",
              "    </tr>\n",
              "    <tr>\n",
              "      <th>3</th>\n",
              "      <td>2</td>\n",
              "      <td>20</td>\n",
              "      <td>5000</td>\n",
              "      <td>45</td>\n",
              "      <td>1</td>\n",
              "    </tr>\n",
              "    <tr>\n",
              "      <th>4</th>\n",
              "      <td>1</td>\n",
              "      <td>24</td>\n",
              "      <td>6000</td>\n",
              "      <td>77</td>\n",
              "      <td>0</td>\n",
              "    </tr>\n",
              "  </tbody>\n",
              "</table>\n",
              "</div>"
            ],
            "text/plain": [
              "   Recency (months)  ...  whether he/she donated blood in March 2007\n",
              "0                 2  ...                                           1\n",
              "1                 0  ...                                           1\n",
              "2                 1  ...                                           1\n",
              "3                 2  ...                                           1\n",
              "4                 1  ...                                           0\n",
              "\n",
              "[5 rows x 5 columns]"
            ]
          },
          "metadata": {
            "tags": []
          },
          "execution_count": 10
        }
      ]
    },
    {
      "cell_type": "code",
      "metadata": {
        "id": "fBLjFdqTMq9d",
        "colab_type": "code",
        "outputId": "1aa61d5e-aa4e-466a-92ca-8ac67b458f35",
        "colab": {
          "base_uri": "https://localhost:8080/",
          "height": 225
        }
      },
      "source": [
        "data.info()"
      ],
      "execution_count": 0,
      "outputs": [
        {
          "output_type": "stream",
          "text": [
            "<class 'pandas.core.frame.DataFrame'>\n",
            "RangeIndex: 748 entries, 0 to 747\n",
            "Data columns (total 5 columns):\n",
            " #   Column                                      Non-Null Count  Dtype\n",
            "---  ------                                      --------------  -----\n",
            " 0   Recency (months)                            748 non-null    int64\n",
            " 1   Frequency (times)                           748 non-null    int64\n",
            " 2   Monetary (c.c. blood)                       748 non-null    int64\n",
            " 3   Time (months)                               748 non-null    int64\n",
            " 4   whether he/she donated blood in March 2007  748 non-null    int64\n",
            "dtypes: int64(5)\n",
            "memory usage: 29.3 KB\n"
          ],
          "name": "stdout"
        }
      ]
    },
    {
      "cell_type": "code",
      "metadata": {
        "id": "-ZK0yyK_NEPX",
        "colab_type": "code",
        "colab": {}
      },
      "source": [
        ""
      ],
      "execution_count": 0,
      "outputs": []
    },
    {
      "cell_type": "markdown",
      "metadata": {
        "id": "0fX81xDIOzpo",
        "colab_type": "text"
      },
      "source": [
        "Alterando o nome da coluna de saida"
      ]
    },
    {
      "cell_type": "code",
      "metadata": {
        "id": "W4uh5U55O2J7",
        "colab_type": "code",
        "outputId": "a66ef96c-49ac-4f17-be95-3868506f7700",
        "colab": {
          "base_uri": "https://localhost:8080/",
          "height": 202
        }
      },
      "source": [
        "#renomear a coluna(Criando um dicionario)\n",
        "\n",
        "data.rename(columns={'whether he/she donated blood in March 2007':'target'}, inplace=True)\n",
        "\n",
        "data.head()"
      ],
      "execution_count": 0,
      "outputs": [
        {
          "output_type": "execute_result",
          "data": {
            "text/html": [
              "<div>\n",
              "<style scoped>\n",
              "    .dataframe tbody tr th:only-of-type {\n",
              "        vertical-align: middle;\n",
              "    }\n",
              "\n",
              "    .dataframe tbody tr th {\n",
              "        vertical-align: top;\n",
              "    }\n",
              "\n",
              "    .dataframe thead th {\n",
              "        text-align: right;\n",
              "    }\n",
              "</style>\n",
              "<table border=\"1\" class=\"dataframe\">\n",
              "  <thead>\n",
              "    <tr style=\"text-align: right;\">\n",
              "      <th></th>\n",
              "      <th>Recency (months)</th>\n",
              "      <th>Frequency (times)</th>\n",
              "      <th>Monetary (c.c. blood)</th>\n",
              "      <th>Time (months)</th>\n",
              "      <th>target</th>\n",
              "    </tr>\n",
              "  </thead>\n",
              "  <tbody>\n",
              "    <tr>\n",
              "      <th>0</th>\n",
              "      <td>2</td>\n",
              "      <td>50</td>\n",
              "      <td>12500</td>\n",
              "      <td>98</td>\n",
              "      <td>1</td>\n",
              "    </tr>\n",
              "    <tr>\n",
              "      <th>1</th>\n",
              "      <td>0</td>\n",
              "      <td>13</td>\n",
              "      <td>3250</td>\n",
              "      <td>28</td>\n",
              "      <td>1</td>\n",
              "    </tr>\n",
              "    <tr>\n",
              "      <th>2</th>\n",
              "      <td>1</td>\n",
              "      <td>16</td>\n",
              "      <td>4000</td>\n",
              "      <td>35</td>\n",
              "      <td>1</td>\n",
              "    </tr>\n",
              "    <tr>\n",
              "      <th>3</th>\n",
              "      <td>2</td>\n",
              "      <td>20</td>\n",
              "      <td>5000</td>\n",
              "      <td>45</td>\n",
              "      <td>1</td>\n",
              "    </tr>\n",
              "    <tr>\n",
              "      <th>4</th>\n",
              "      <td>1</td>\n",
              "      <td>24</td>\n",
              "      <td>6000</td>\n",
              "      <td>77</td>\n",
              "      <td>0</td>\n",
              "    </tr>\n",
              "  </tbody>\n",
              "</table>\n",
              "</div>"
            ],
            "text/plain": [
              "   Recency (months)  Frequency (times)  ...  Time (months)  target\n",
              "0                 2                 50  ...             98       1\n",
              "1                 0                 13  ...             28       1\n",
              "2                 1                 16  ...             35       1\n",
              "3                 2                 20  ...             45       1\n",
              "4                 1                 24  ...             77       0\n",
              "\n",
              "[5 rows x 5 columns]"
            ]
          },
          "metadata": {
            "tags": []
          },
          "execution_count": 13
        }
      ]
    },
    {
      "cell_type": "code",
      "metadata": {
        "id": "cRMezpUyPLps",
        "colab_type": "code",
        "colab": {}
      },
      "source": [
        ""
      ],
      "execution_count": 0,
      "outputs": []
    },
    {
      "cell_type": "markdown",
      "metadata": {
        "id": "Xlftb8FHPhfH",
        "colab_type": "text"
      },
      "source": [
        "Visualizar a proporção de doadores e não doadores"
      ]
    },
    {
      "cell_type": "markdown",
      "metadata": {
        "id": "zMiYC4QDP-df",
        "colab_type": "text"
      },
      "source": [
        "76% dos doadores não doaram no mês de março de 2007\n",
        "\n",
        "Classe 0 representa que não doaram sangue\n",
        "\n",
        "Classe 1 que doaram sangue"
      ]
    },
    {
      "cell_type": "code",
      "metadata": {
        "id": "A1PBaeExPmH7",
        "colab_type": "code",
        "outputId": "837ac825-8520-4225-f38e-6bf6289dd205",
        "colab": {
          "base_uri": "https://localhost:8080/",
          "height": 336
        }
      },
      "source": [
        "#Visualizando a proporção das classes\n",
        "\n",
        "print(data.target.value_counts(normalize=True))\n",
        "data.target.value_counts(normalize=True).plot(kind='bar')"
      ],
      "execution_count": 0,
      "outputs": [
        {
          "output_type": "stream",
          "text": [
            "0    0.762032\n",
            "1    0.237968\n",
            "Name: target, dtype: float64\n"
          ],
          "name": "stdout"
        },
        {
          "output_type": "execute_result",
          "data": {
            "text/plain": [
              "<matplotlib.axes._subplots.AxesSubplot at 0x7f554f728fd0>"
            ]
          },
          "metadata": {
            "tags": []
          },
          "execution_count": 16
        },
        {
          "output_type": "display_data",
          "data": {
            "image/png": "[encoded data removed]",
            "text/plain": [
              "<Figure size 432x288 with 1 Axes>"
            ]
          },
          "metadata": {
            "tags": [],
            "needs_background": "light"
          }
        }
      ]
    },
    {
      "cell_type": "code",
      "metadata": {
        "id": "iCdg1uGMP18d",
        "colab_type": "code",
        "colab": {}
      },
      "source": [
        ""
      ],
      "execution_count": 0,
      "outputs": []
    },
    {
      "cell_type": "markdown",
      "metadata": {
        "id": "d202a-Y3QsxV",
        "colab_type": "text"
      },
      "source": [
        "Vou separar os dados entre treino e teste para uma futura modelagem"
      ]
    },
    {
      "cell_type": "code",
      "metadata": {
        "id": "RDNvOjrNQZso",
        "colab_type": "code",
        "colab": {}
      },
      "source": [
        "# importar o metodo train_tes_split\n",
        "\n",
        "from sklearn.model_selection import train_test_split\n",
        "\n",
        "# Agora vou dividir o dataframe em conjunto de treino e teste\n",
        "\n",
        "X_train, X_test, y_train, y_test = train_test_split(data.drop(columns='target'), data.target, test_size=0.25,\n",
        "                                                    random_state=42, stratify=data.target  )\n",
        "\n",
        "\n",
        "\n",
        "\n"
      ],
      "execution_count": 0,
      "outputs": []
    },
    {
      "cell_type": "code",
      "metadata": {
        "id": "9926_F7JSVoO",
        "colab_type": "code",
        "colab": {}
      },
      "source": [
        ""
      ],
      "execution_count": 0,
      "outputs": []
    },
    {
      "cell_type": "markdown",
      "metadata": {
        "id": "Cf1yeOHiTBRv",
        "colab_type": "text"
      },
      "source": [
        "Treinando o modelo de Regressão logística com o conjunto de Treino"
      ]
    },
    {
      "cell_type": "code",
      "metadata": {
        "id": "P0PqHnsRTIZy",
        "colab_type": "code",
        "outputId": "2cd6f56b-54fe-41e4-e32d-cc9b02e69240",
        "colab": {
          "base_uri": "https://localhost:8080/",
          "height": 104
        }
      },
      "source": [
        "#Treinando\n",
        "\n",
        "from sklearn.linear_model import LogisticRegression\n",
        "\n",
        "logreg = LogisticRegression()\n",
        "logreg.fit(X_train, y_train)"
      ],
      "execution_count": 0,
      "outputs": [
        {
          "output_type": "execute_result",
          "data": {
            "text/plain": [
              "LogisticRegression(C=1.0, class_weight=None, dual=False, fit_intercept=True,\n",
              "                   intercept_scaling=1, l1_ratio=None, max_iter=100,\n",
              "                   multi_class='auto', n_jobs=None, penalty='l2',\n",
              "                   random_state=None, solver='lbfgs', tol=0.0001, verbose=0,\n",
              "                   warm_start=False)"
            ]
          },
          "metadata": {
            "tags": []
          },
          "execution_count": 19
        }
      ]
    },
    {
      "cell_type": "code",
      "metadata": {
        "id": "pSKIDXrGTneF",
        "colab_type": "code",
        "colab": {}
      },
      "source": [
        ""
      ],
      "execution_count": 0,
      "outputs": []
    },
    {
      "cell_type": "markdown",
      "metadata": {
        "id": "ySP4SsHuTwA_",
        "colab_type": "text"
      },
      "source": [
        "Fazendo Predições com os dados de teste"
      ]
    },
    {
      "cell_type": "code",
      "metadata": {
        "id": "eRh10ihOTy9N",
        "colab_type": "code",
        "colab": {}
      },
      "source": [
        "y_pred = logreg.predict(X_test)"
      ],
      "execution_count": 0,
      "outputs": []
    },
    {
      "cell_type": "code",
      "metadata": {
        "id": "EgqTS9iLT8iN",
        "colab_type": "code",
        "colab": {}
      },
      "source": [
        ""
      ],
      "execution_count": 0,
      "outputs": []
    },
    {
      "cell_type": "markdown",
      "metadata": {
        "id": "FHZ6wqv9T-j4",
        "colab_type": "text"
      },
      "source": [
        "VISUALIZANDO A MATRIZ DE CONFUSÃO DO MODELO"
      ]
    },
    {
      "cell_type": "code",
      "metadata": {
        "id": "xcvLzc6wUCSc",
        "colab_type": "code",
        "outputId": "528fa81d-ace3-4202-b471-2ba9e625bffa",
        "colab": {
          "base_uri": "https://localhost:8080/",
          "height": 52
        }
      },
      "source": [
        "#DANGER: primeiro argumento é o valor verdadeiro, segundo argumento é valor predito\n",
        "\n",
        "from sklearn import metrics\n",
        "\n",
        "confusion = metrics.confusion_matrix(y_test, y_pred)\n",
        "\n",
        "print(confusion)\n",
        "\n",
        "\n",
        "#[[140   3]  falsoposito \n",
        " #[ 40   4]] verdadeiro positico que doaram e foramclassifica com cero\n"
      ],
      "execution_count": 0,
      "outputs": [
        {
          "output_type": "stream",
          "text": [
            "[[140   3]\n",
            " [ 40   4]]\n"
          ],
          "name": "stdout"
        }
      ]
    },
    {
      "cell_type": "code",
      "metadata": {
        "id": "kUtDsLnuUdKt",
        "colab_type": "code",
        "outputId": "d9a36827-2671-4706-b435-5cff27b60196",
        "colab": {
          "base_uri": "https://localhost:8080/",
          "height": 453
        }
      },
      "source": [
        "!pip install  mglearn\n",
        "#mglearn.plots.plot_binary_confusion_matrix()"
      ],
      "execution_count": 0,
      "outputs": [
        {
          "output_type": "stream",
          "text": [
            "Collecting mglearn\n",
            "\u001b[?25l  Downloading https://files.pythonhosted.org/packages/fb/01/8d3630ecc767c9de96a9c46e055f2a3a5f9e14a47d3d0348a36a5005fe67/mglearn-0.1.7.tar.gz (540kB)\n",
            "\r\u001b[K     |▋                               | 10kB 18.5MB/s eta 0:00:01\r\u001b[K     |█▏                              | 20kB 1.8MB/s eta 0:00:01\r\u001b[K     |█▉                              | 30kB 2.3MB/s eta 0:00:01\r\u001b[K     |██▍                             | 40kB 2.6MB/s eta 0:00:01\r\u001b[K     |███                             | 51kB 2.1MB/s eta 0:00:01\r\u001b[K     |███▋                            | 61kB 2.3MB/s eta 0:00:01\r\u001b[K     |████▎                           | 71kB 2.6MB/s eta 0:00:01\r\u001b[K     |████▉                           | 81kB 2.8MB/s eta 0:00:01\r\u001b[K     |█████▌                          | 92kB 3.0MB/s eta 0:00:01\r\u001b[K     |██████                          | 102kB 2.9MB/s eta 0:00:01\r\u001b[K     |██████▋                         | 112kB 2.9MB/s eta 0:00:01\r\u001b[K     |███████▎                        | 122kB 2.9MB/s eta 0:00:01\r\u001b[K     |███████▉                        | 133kB 2.9MB/s eta 0:00:01\r\u001b[K     |████████▌                       | 143kB 2.9MB/s eta 0:00:01\r\u001b[K     |█████████                       | 153kB 2.9MB/s eta 0:00:01\r\u001b[K     |█████████▊                      | 163kB 2.9MB/s eta 0:00:01\r\u001b[K     |██████████▎                     | 174kB 2.9MB/s eta 0:00:01\r\u001b[K     |███████████                     | 184kB 2.9MB/s eta 0:00:01\r\u001b[K     |███████████▌                    | 194kB 2.9MB/s eta 0:00:01\r\u001b[K     |████████████▏                   | 204kB 2.9MB/s eta 0:00:01\r\u001b[K     |████████████▊                   | 215kB 2.9MB/s eta 0:00:01\r\u001b[K     |█████████████▎                  | 225kB 2.9MB/s eta 0:00:01\r\u001b[K     |██████████████                  | 235kB 2.9MB/s eta 0:00:01\r\u001b[K     |██████████████▌                 | 245kB 2.9MB/s eta 0:00:01\r\u001b[K     |███████████████▏                | 256kB 2.9MB/s eta 0:00:01\r\u001b[K     |███████████████▊                | 266kB 2.9MB/s eta 0:00:01\r\u001b[K     |████████████████▍               | 276kB 2.9MB/s eta 0:00:01\r\u001b[K     |█████████████████               | 286kB 2.9MB/s eta 0:00:01\r\u001b[K     |█████████████████▋              | 296kB 2.9MB/s eta 0:00:01\r\u001b[K     |██████████████████▏             | 307kB 2.9MB/s eta 0:00:01\r\u001b[K     |██████████████████▊             | 317kB 2.9MB/s eta 0:00:01\r\u001b[K     |███████████████████▍            | 327kB 2.9MB/s eta 0:00:01\r\u001b[K     |████████████████████            | 337kB 2.9MB/s eta 0:00:01\r\u001b[K     |████████████████████▋           | 348kB 2.9MB/s eta 0:00:01\r\u001b[K     |█████████████████████▏          | 358kB 2.9MB/s eta 0:00:01\r\u001b[K     |█████████████████████▉          | 368kB 2.9MB/s eta 0:00:01\r\u001b[K     |██████████████████████▍         | 378kB 2.9MB/s eta 0:00:01\r\u001b[K     |███████████████████████         | 389kB 2.9MB/s eta 0:00:01\r\u001b[K     |███████████████████████▋        | 399kB 2.9MB/s eta 0:00:01\r\u001b[K     |████████████████████████▎       | 409kB 2.9MB/s eta 0:00:01\r\u001b[K     |████████████████████████▉       | 419kB 2.9MB/s eta 0:00:01\r\u001b[K     |█████████████████████████▍      | 430kB 2.9MB/s eta 0:00:01\r\u001b[K     |██████████████████████████      | 440kB 2.9MB/s eta 0:00:01\r\u001b[K     |██████████████████████████▋     | 450kB 2.9MB/s eta 0:00:01\r\u001b[K     |███████████████████████████▎    | 460kB 2.9MB/s eta 0:00:01\r\u001b[K     |███████████████████████████▉    | 471kB 2.9MB/s eta 0:00:01\r\u001b[K     |████████████████████████████▌   | 481kB 2.9MB/s eta 0:00:01\r\u001b[K     |█████████████████████████████   | 491kB 2.9MB/s eta 0:00:01\r\u001b[K     |█████████████████████████████▊  | 501kB 2.9MB/s eta 0:00:01\r\u001b[K     |██████████████████████████████▎ | 512kB 2.9MB/s eta 0:00:01\r\u001b[K     |███████████████████████████████ | 522kB 2.9MB/s eta 0:00:01\r\u001b[K     |███████████████████████████████▌| 532kB 2.9MB/s eta 0:00:01\r\u001b[K     |████████████████████████████████| 542kB 2.9MB/s \n",
            "\u001b[?25hRequirement already satisfied: numpy in /usr/local/lib/python3.6/dist-packages (from mglearn) (1.18.4)\n",
            "Requirement already satisfied: matplotlib in /usr/local/lib/python3.6/dist-packages (from mglearn) (3.2.1)\n",
            "Requirement already satisfied: scikit-learn in /usr/local/lib/python3.6/dist-packages (from mglearn) (0.22.2.post1)\n",
            "Requirement already satisfied: pandas in /usr/local/lib/python3.6/dist-packages (from mglearn) (1.0.3)\n",
            "Requirement already satisfied: pillow in /usr/local/lib/python3.6/dist-packages (from mglearn) (7.0.0)\n",
            "Requirement already satisfied: cycler in /usr/local/lib/python3.6/dist-packages (from mglearn) (0.10.0)\n",
            "Requirement already satisfied: imageio in /usr/local/lib/python3.6/dist-packages (from mglearn) (2.4.1)\n",
            "Requirement already satisfied: python-dateutil>=2.1 in /usr/local/lib/python3.6/dist-packages (from matplotlib->mglearn) (2.8.1)\n",
            "Requirement already satisfied: pyparsing!=2.0.4,!=2.1.2,!=2.1.6,>=2.0.1 in /usr/local/lib/python3.6/dist-packages (from matplotlib->mglearn) (2.4.7)\n",
            "Requirement already satisfied: kiwisolver>=1.0.1 in /usr/local/lib/python3.6/dist-packages (from matplotlib->mglearn) (1.2.0)\n",
            "Requirement already satisfied: scipy>=0.17.0 in /usr/local/lib/python3.6/dist-packages (from scikit-learn->mglearn) (1.4.1)\n",
            "Requirement already satisfied: joblib>=0.11 in /usr/local/lib/python3.6/dist-packages (from scikit-learn->mglearn) (0.14.1)\n",
            "Requirement already satisfied: pytz>=2017.2 in /usr/local/lib/python3.6/dist-packages (from pandas->mglearn) (2018.9)\n",
            "Requirement already satisfied: six in /usr/local/lib/python3.6/dist-packages (from cycler->mglearn) (1.12.0)\n",
            "Building wheels for collected packages: mglearn\n",
            "  Building wheel for mglearn (setup.py) ... \u001b[?25l\u001b[?25hdone\n",
            "  Created wheel for mglearn: filename=mglearn-0.1.7-py2.py3-none-any.whl size=582705 sha256=e83a39123578feec0ae0959e47f1ec749dc6093632022aa3856d2a964d42ee28\n",
            "  Stored in directory: /root/.cache/pip/wheels/74/cf/8d/04f4932d15854a36726c6210763c7127e62de28f5c8ddfcf3b\n",
            "Successfully built mglearn\n",
            "Installing collected packages: mglearn\n",
            "Successfully installed mglearn-0.1.7\n"
          ],
          "name": "stdout"
        }
      ]
    },
    {
      "cell_type": "code",
      "metadata": {
        "id": "mC3lYWG2Uwc0",
        "colab_type": "code",
        "outputId": "14b23a02-bb37-4259-a96c-2eb0f755592f",
        "colab": {
          "base_uri": "https://localhost:8080/",
          "height": 360
        }
      },
      "source": [
        "import mglearn\n",
        "mglearn.plots.plot_binary_confusion_matrix()"
      ],
      "execution_count": 0,
      "outputs": [
        {
          "output_type": "stream",
          "text": [
            "/usr/local/lib/python3.6/dist-packages/sklearn/externals/six.py:31: FutureWarning: The module is deprecated in version 0.21 and will be removed in version 0.23 since we've dropped support for Python 2.7. Please rely on the official version of six (https://pypi.org/project/six/).\n",
            "  \"(https://pypi.org/project/six/).\", FutureWarning)\n",
            "/usr/local/lib/python3.6/dist-packages/sklearn/externals/joblib/__init__.py:15: FutureWarning: sklearn.externals.joblib is deprecated in 0.21 and will be removed in 0.23. Please import this functionality directly from joblib, which can be installed with: pip install joblib. If this warning is raised when loading pickled models, you may need to re-serialize those models with scikit-learn 0.21+.\n",
            "  warnings.warn(msg, category=FutureWarning)\n"
          ],
          "name": "stderr"
        },
        {
          "output_type": "display_data",
          "data": {
            "image/png": "[encoded data removed]",
            "text/plain": [
              "<Figure size 432x288 with 1 Axes>"
            ]
          },
          "metadata": {
            "tags": [],
            "needs_background": "light"
          }
        }
      ]
    },
    {
      "cell_type": "code",
      "metadata": {
        "id": "s7Vom69QV8tU",
        "colab_type": "code",
        "colab": {}
      },
      "source": [
        ""
      ],
      "execution_count": 0,
      "outputs": []
    },
    {
      "cell_type": "markdown",
      "metadata": {
        "id": "MBuKyTwNWew5",
        "colab_type": "text"
      },
      "source": [
        "O que pomos tirar de estrategia para o estudo de doação de sangue. \n",
        "\n",
        "* Criar camapnhas segmentadas para os grupos de doadores com maior e menor qualidade de doar novamente em março de 20074\n",
        "\n",
        "\n",
        "\n",
        "* Montar estratégia para aumentar o número de doações em períodos especificos\n",
        "\n",
        "\n",
        "* facilitar o controle de estoque\n",
        "\n",
        "\n",
        "* Diminuir o Desperdicio"
      ]
    },
    {
      "cell_type": "code",
      "metadata": {
        "id": "Y-i_R66QXFsN",
        "colab_type": "code",
        "colab": {}
      },
      "source": [
        ""
      ],
      "execution_count": 0,
      "outputs": []
    }
  ]
}