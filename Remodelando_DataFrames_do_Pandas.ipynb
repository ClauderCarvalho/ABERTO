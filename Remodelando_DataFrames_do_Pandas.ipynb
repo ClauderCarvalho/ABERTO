{
  "nbformat": 4,
  "nbformat_minor": 0,
  "metadata": {
    "colab": {
      "name": "Remodelando os DataFrames do Pandas",
      "provenance": [],
      "collapsed_sections": [],
      "authorship_tag": "ABX9TyN8U2fAZaNMQsdzyabfFMQ9",
      "include_colab_link": true
    },
    "kernelspec": {
      "name": "python3",
      "display_name": "Python 3"
    }
  },
  "cells": [
    {
      "cell_type": "markdown",
      "metadata": {
        "id": "view-in-github",
        "colab_type": "text"
      },
      "source": [
        "<a href=\"https://colab.research.google.com/github/ClauderCarvalho/ABERTO/blob/master/Remodelando_DataFrames_do_Pandas.ipynb\" target=\"_parent\"><img src=\"https://colab.research.google.com/assets/colab-badge.svg\" alt=\"Open In Colab\"/></a>"
      ]
    },
    {
      "cell_type": "markdown",
      "metadata": {
        "id": "sBshEeb3YIEb",
        "colab_type": "text"
      },
      "source": [
        "**Remodelando os DataFrames do Pandas**"
      ]
    },
    {
      "cell_type": "markdown",
      "metadata": {
        "id": "hPvcvYz5YCEm",
        "colab_type": "text"
      },
      "source": [
        "Nome = Clauder Noronha\n"
      ]
    },
    {
      "cell_type": "markdown",
      "metadata": {
        "id": "tlBmpp-MHkke",
        "colab_type": "text"
      },
      "source": [
        "O Pandas é uma biblioteca de análise de dados Python muito poderosa que agiliza as etapas de pré-processamento do seu projeto. A estrutura de dados principal do Pandas é o DataFrame, que representa dados em forma de tabela com linhas e colunas rotuladas. Nesta postagem, tentarei explicar como remodelar um quadro de dados modificando a estrutura de linha e coluna.\n",
        "\n",
        "\n",
        "Existem várias maneiras de remodelar um quadro de dados. Podemos escolher o que melhor se adapta à tarefa em questão. As funções para remodelar um quadro de dados:\n",
        "\n",
        "* Fundição\n",
        "\n",
        "* Empilhar e desempilhar\n",
        "\n",
        "* Pivô\n",
        "\n",
        "Como sempre, começamos com a importação de numpy e pandas:\n"
      ]
    },
    {
      "cell_type": "code",
      "metadata": {
        "id": "kNy5ied5HUsD",
        "colab_type": "code",
        "colab": {}
      },
      "source": [
        "import pandas as pd\n",
        "import numpy as np"
      ],
      "execution_count": null,
      "outputs": []
    },
    {
      "cell_type": "markdown",
      "metadata": {
        "id": "riRhvyoNH__g",
        "colab_type": "text"
      },
      "source": [
        "***Fundição***\n",
        "\n",
        "\n",
        "Derreter é usado para converter quadros de dados largos em estreitos. O que quero dizer com amplo é um quadro de dados com um número alto de colunas. Alguns quadros de dados são estruturados de forma que medidas ou variáveis ​​consecutivas sejam representadas como colunas. Em alguns casos, representar essas colunas como linhas pode se encaixar melhor em nossa tarefa.\n",
        "\n",
        "> Considere o seguinte quadro de dados:"
      ]
    },
    {
      "cell_type": "code",
      "metadata": {
        "id": "ZSOc1Z0mIGDj",
        "colab_type": "code",
        "colab": {}
      },
      "source": [
        "df1 = pd.DataFrame({'Cidade':['A','B','C'],\n",
        "                    'dia1':[22,25,28],\n",
        "                    'dia2':[10,14,13],\n",
        "                    'dia3':[25,22,26],\n",
        "                    'dia4':[18,1,17],\n",
        "                    'dia5':[12,14,18]})"
      ],
      "execution_count": 2,
      "outputs": []
    },
    {
      "cell_type": "code",
      "metadata": {
        "id": "AWCUpAkGIl9P",
        "colab_type": "code",
        "colab": {
          "base_uri": "https://localhost:8080/",
          "height": 137
        },
        "outputId": "d3f95e18-07ad-49eb-880b-a88f5b58e722"
      },
      "source": [
        "df1.head()"
      ],
      "execution_count": 3,
      "outputs": [
        {
          "output_type": "execute_result",
          "data": {
            "text/html": [
              "<div>\n",
              "<style scoped>\n",
              "    .dataframe tbody tr th:only-of-type {\n",
              "        vertical-align: middle;\n",
              "    }\n",
              "\n",
              "    .dataframe tbody tr th {\n",
              "        vertical-align: top;\n",
              "    }\n",
              "\n",
              "    .dataframe thead th {\n",
              "        text-align: right;\n",
              "    }\n",
              "</style>\n",
              "<table border=\"1\" class=\"dataframe\">\n",
              "  <thead>\n",
              "    <tr style=\"text-align: right;\">\n",
              "      <th></th>\n",
              "      <th>Cidade</th>\n",
              "      <th>dia1</th>\n",
              "      <th>dia2</th>\n",
              "      <th>dia3</th>\n",
              "      <th>dia4</th>\n",
              "      <th>dia5</th>\n",
              "    </tr>\n",
              "  </thead>\n",
              "  <tbody>\n",
              "    <tr>\n",
              "      <th>0</th>\n",
              "      <td>A</td>\n",
              "      <td>22</td>\n",
              "      <td>10</td>\n",
              "      <td>25</td>\n",
              "      <td>18</td>\n",
              "      <td>12</td>\n",
              "    </tr>\n",
              "    <tr>\n",
              "      <th>1</th>\n",
              "      <td>B</td>\n",
              "      <td>25</td>\n",
              "      <td>14</td>\n",
              "      <td>22</td>\n",
              "      <td>1</td>\n",
              "      <td>14</td>\n",
              "    </tr>\n",
              "    <tr>\n",
              "      <th>2</th>\n",
              "      <td>C</td>\n",
              "      <td>28</td>\n",
              "      <td>13</td>\n",
              "      <td>26</td>\n",
              "      <td>17</td>\n",
              "      <td>18</td>\n",
              "    </tr>\n",
              "  </tbody>\n",
              "</table>\n",
              "</div>"
            ],
            "text/plain": [
              "  Cidade  dia1  dia2  dia3  dia4  dia5\n",
              "0      A    22    10    25    18    12\n",
              "1      B    25    14    22     1    14\n",
              "2      C    28    13    26    17    18"
            ]
          },
          "metadata": {
            "tags": []
          },
          "execution_count": 3
        }
      ]
    },
    {
      "cell_type": "code",
      "metadata": {
        "id": "S00gnqbcIo1c",
        "colab_type": "code",
        "colab": {}
      },
      "source": [
        ""
      ],
      "execution_count": null,
      "outputs": []
    },
    {
      "cell_type": "markdown",
      "metadata": {
        "id": "EbDT-L_JI2kk",
        "colab_type": "text"
      },
      "source": [
        "Temos três cidades diferentes e medições feitas em dias diferentes. Decidimos representar esses dias como linhas em uma coluna. Também haverá uma coluna para mostrar as medições. Podemos fazer isso facilmente usando a função de fusão :"
      ]
    },
    {
      "cell_type": "code",
      "metadata": {
        "id": "vV5VQyyZI3c3",
        "colab_type": "code",
        "colab": {
          "base_uri": "https://localhost:8080/",
          "height": 497
        },
        "outputId": "008400db-326d-4b29-e034-8023bf157114"
      },
      "source": [
        "df1.melt(id_vars=['Cidade'])"
      ],
      "execution_count": 5,
      "outputs": [
        {
          "output_type": "execute_result",
          "data": {
            "text/html": [
              "<div>\n",
              "<style scoped>\n",
              "    .dataframe tbody tr th:only-of-type {\n",
              "        vertical-align: middle;\n",
              "    }\n",
              "\n",
              "    .dataframe tbody tr th {\n",
              "        vertical-align: top;\n",
              "    }\n",
              "\n",
              "    .dataframe thead th {\n",
              "        text-align: right;\n",
              "    }\n",
              "</style>\n",
              "<table border=\"1\" class=\"dataframe\">\n",
              "  <thead>\n",
              "    <tr style=\"text-align: right;\">\n",
              "      <th></th>\n",
              "      <th>Cidade</th>\n",
              "      <th>variable</th>\n",
              "      <th>value</th>\n",
              "    </tr>\n",
              "  </thead>\n",
              "  <tbody>\n",
              "    <tr>\n",
              "      <th>0</th>\n",
              "      <td>A</td>\n",
              "      <td>dia1</td>\n",
              "      <td>22</td>\n",
              "    </tr>\n",
              "    <tr>\n",
              "      <th>1</th>\n",
              "      <td>B</td>\n",
              "      <td>dia1</td>\n",
              "      <td>25</td>\n",
              "    </tr>\n",
              "    <tr>\n",
              "      <th>2</th>\n",
              "      <td>C</td>\n",
              "      <td>dia1</td>\n",
              "      <td>28</td>\n",
              "    </tr>\n",
              "    <tr>\n",
              "      <th>3</th>\n",
              "      <td>A</td>\n",
              "      <td>dia2</td>\n",
              "      <td>10</td>\n",
              "    </tr>\n",
              "    <tr>\n",
              "      <th>4</th>\n",
              "      <td>B</td>\n",
              "      <td>dia2</td>\n",
              "      <td>14</td>\n",
              "    </tr>\n",
              "    <tr>\n",
              "      <th>5</th>\n",
              "      <td>C</td>\n",
              "      <td>dia2</td>\n",
              "      <td>13</td>\n",
              "    </tr>\n",
              "    <tr>\n",
              "      <th>6</th>\n",
              "      <td>A</td>\n",
              "      <td>dia3</td>\n",
              "      <td>25</td>\n",
              "    </tr>\n",
              "    <tr>\n",
              "      <th>7</th>\n",
              "      <td>B</td>\n",
              "      <td>dia3</td>\n",
              "      <td>22</td>\n",
              "    </tr>\n",
              "    <tr>\n",
              "      <th>8</th>\n",
              "      <td>C</td>\n",
              "      <td>dia3</td>\n",
              "      <td>26</td>\n",
              "    </tr>\n",
              "    <tr>\n",
              "      <th>9</th>\n",
              "      <td>A</td>\n",
              "      <td>dia4</td>\n",
              "      <td>18</td>\n",
              "    </tr>\n",
              "    <tr>\n",
              "      <th>10</th>\n",
              "      <td>B</td>\n",
              "      <td>dia4</td>\n",
              "      <td>1</td>\n",
              "    </tr>\n",
              "    <tr>\n",
              "      <th>11</th>\n",
              "      <td>C</td>\n",
              "      <td>dia4</td>\n",
              "      <td>17</td>\n",
              "    </tr>\n",
              "    <tr>\n",
              "      <th>12</th>\n",
              "      <td>A</td>\n",
              "      <td>dia5</td>\n",
              "      <td>12</td>\n",
              "    </tr>\n",
              "    <tr>\n",
              "      <th>13</th>\n",
              "      <td>B</td>\n",
              "      <td>dia5</td>\n",
              "      <td>14</td>\n",
              "    </tr>\n",
              "    <tr>\n",
              "      <th>14</th>\n",
              "      <td>C</td>\n",
              "      <td>dia5</td>\n",
              "      <td>18</td>\n",
              "    </tr>\n",
              "  </tbody>\n",
              "</table>\n",
              "</div>"
            ],
            "text/plain": [
              "   Cidade variable  value\n",
              "0       A     dia1     22\n",
              "1       B     dia1     25\n",
              "2       C     dia1     28\n",
              "3       A     dia2     10\n",
              "4       B     dia2     14\n",
              "5       C     dia2     13\n",
              "6       A     dia3     25\n",
              "7       B     dia3     22\n",
              "8       C     dia3     26\n",
              "9       A     dia4     18\n",
              "10      B     dia4      1\n",
              "11      C     dia4     17\n",
              "12      A     dia5     12\n",
              "13      B     dia5     14\n",
              "14      C     dia5     18"
            ]
          },
          "metadata": {
            "tags": []
          },
          "execution_count": 5
        }
      ]
    },
    {
      "cell_type": "code",
      "metadata": {
        "id": "K2kAgBISI-ba",
        "colab_type": "code",
        "colab": {}
      },
      "source": [
        ""
      ],
      "execution_count": null,
      "outputs": []
    },
    {
      "cell_type": "markdown",
      "metadata": {
        "id": "Jf_oby7TJcuJ",
        "colab_type": "text"
      },
      "source": [
        "Os nomes das colunas de variáveis ​​e valores são fornecidos por padrão. Podemos usar var_name e value_name parâmetros da função fundido para atribuir novos nomes de coluna. Também parecerá melhor se classificarmos os dados por coluna da cidade:"
      ]
    },
    {
      "cell_type": "code",
      "metadata": {
        "id": "Z1KE9X3ZJdj5",
        "colab_type": "code",
        "colab": {
          "base_uri": "https://localhost:8080/",
          "height": 497
        },
        "outputId": "fd6b75d4-b3d6-4551-c4ea-9f07f3da8ad3"
      },
      "source": [
        "df1.melt(id_vars=['Cidade'], var_name='date',value_name = 'temperatura').sort_values(by='Cidade').reset_index(drop=True)"
      ],
      "execution_count": 6,
      "outputs": [
        {
          "output_type": "execute_result",
          "data": {
            "text/html": [
              "<div>\n",
              "<style scoped>\n",
              "    .dataframe tbody tr th:only-of-type {\n",
              "        vertical-align: middle;\n",
              "    }\n",
              "\n",
              "    .dataframe tbody tr th {\n",
              "        vertical-align: top;\n",
              "    }\n",
              "\n",
              "    .dataframe thead th {\n",
              "        text-align: right;\n",
              "    }\n",
              "</style>\n",
              "<table border=\"1\" class=\"dataframe\">\n",
              "  <thead>\n",
              "    <tr style=\"text-align: right;\">\n",
              "      <th></th>\n",
              "      <th>Cidade</th>\n",
              "      <th>date</th>\n",
              "      <th>temperatura</th>\n",
              "    </tr>\n",
              "  </thead>\n",
              "  <tbody>\n",
              "    <tr>\n",
              "      <th>0</th>\n",
              "      <td>A</td>\n",
              "      <td>dia1</td>\n",
              "      <td>22</td>\n",
              "    </tr>\n",
              "    <tr>\n",
              "      <th>1</th>\n",
              "      <td>A</td>\n",
              "      <td>dia2</td>\n",
              "      <td>10</td>\n",
              "    </tr>\n",
              "    <tr>\n",
              "      <th>2</th>\n",
              "      <td>A</td>\n",
              "      <td>dia3</td>\n",
              "      <td>25</td>\n",
              "    </tr>\n",
              "    <tr>\n",
              "      <th>3</th>\n",
              "      <td>A</td>\n",
              "      <td>dia4</td>\n",
              "      <td>18</td>\n",
              "    </tr>\n",
              "    <tr>\n",
              "      <th>4</th>\n",
              "      <td>A</td>\n",
              "      <td>dia5</td>\n",
              "      <td>12</td>\n",
              "    </tr>\n",
              "    <tr>\n",
              "      <th>5</th>\n",
              "      <td>B</td>\n",
              "      <td>dia1</td>\n",
              "      <td>25</td>\n",
              "    </tr>\n",
              "    <tr>\n",
              "      <th>6</th>\n",
              "      <td>B</td>\n",
              "      <td>dia2</td>\n",
              "      <td>14</td>\n",
              "    </tr>\n",
              "    <tr>\n",
              "      <th>7</th>\n",
              "      <td>B</td>\n",
              "      <td>dia3</td>\n",
              "      <td>22</td>\n",
              "    </tr>\n",
              "    <tr>\n",
              "      <th>8</th>\n",
              "      <td>B</td>\n",
              "      <td>dia4</td>\n",
              "      <td>1</td>\n",
              "    </tr>\n",
              "    <tr>\n",
              "      <th>9</th>\n",
              "      <td>B</td>\n",
              "      <td>dia5</td>\n",
              "      <td>14</td>\n",
              "    </tr>\n",
              "    <tr>\n",
              "      <th>10</th>\n",
              "      <td>C</td>\n",
              "      <td>dia1</td>\n",
              "      <td>28</td>\n",
              "    </tr>\n",
              "    <tr>\n",
              "      <th>11</th>\n",
              "      <td>C</td>\n",
              "      <td>dia2</td>\n",
              "      <td>13</td>\n",
              "    </tr>\n",
              "    <tr>\n",
              "      <th>12</th>\n",
              "      <td>C</td>\n",
              "      <td>dia3</td>\n",
              "      <td>26</td>\n",
              "    </tr>\n",
              "    <tr>\n",
              "      <th>13</th>\n",
              "      <td>C</td>\n",
              "      <td>dia4</td>\n",
              "      <td>17</td>\n",
              "    </tr>\n",
              "    <tr>\n",
              "      <th>14</th>\n",
              "      <td>C</td>\n",
              "      <td>dia5</td>\n",
              "      <td>18</td>\n",
              "    </tr>\n",
              "  </tbody>\n",
              "</table>\n",
              "</div>"
            ],
            "text/plain": [
              "   Cidade  date  temperatura\n",
              "0       A  dia1           22\n",
              "1       A  dia2           10\n",
              "2       A  dia3           25\n",
              "3       A  dia4           18\n",
              "4       A  dia5           12\n",
              "5       B  dia1           25\n",
              "6       B  dia2           14\n",
              "7       B  dia3           22\n",
              "8       B  dia4            1\n",
              "9       B  dia5           14\n",
              "10      C  dia1           28\n",
              "11      C  dia2           13\n",
              "12      C  dia3           26\n",
              "13      C  dia4           17\n",
              "14      C  dia5           18"
            ]
          },
          "metadata": {
            "tags": []
          },
          "execution_count": 6
        }
      ]
    },
    {
      "cell_type": "code",
      "metadata": {
        "id": "Ur_ep7kYKFIG",
        "colab_type": "code",
        "colab": {}
      },
      "source": [
        ""
      ],
      "execution_count": null,
      "outputs": []
    },
    {
      "cell_type": "markdown",
      "metadata": {
        "id": "wKI1TWl4Kboc",
        "colab_type": "text"
      },
      "source": [
        "Empilhar e desempilhar\n",
        "\n",
        "\n",
        "A função de pilha aumenta o nível de índice do quadro de dados. O que quero dizer com aumentar o nível é:\n",
        "\n",
        "* Se o quadro de dados tiver um índice de coluna simples, a pilha retornará uma série cujos índices consistem em pares de linhas e colunas do quadro de dados original.\n",
        "\n",
        "* Se o dataframe tiver um índice de vários níveis, a pilha aumentará o nível do índice.\n",
        "\n",
        "É melhor explicado com exemplos. Considere o seguinte quadro de dados:"
      ]
    },
    {
      "cell_type": "code",
      "metadata": {
        "id": "DKwdnI-2KiKM",
        "colab_type": "code",
        "colab": {
          "base_uri": "https://localhost:8080/",
          "height": 137
        },
        "outputId": "5cd0159c-2e1a-4697-e6bf-569b7f7f2362"
      },
      "source": [
        "df1"
      ],
      "execution_count": 7,
      "outputs": [
        {
          "output_type": "execute_result",
          "data": {
            "text/html": [
              "<div>\n",
              "<style scoped>\n",
              "    .dataframe tbody tr th:only-of-type {\n",
              "        vertical-align: middle;\n",
              "    }\n",
              "\n",
              "    .dataframe tbody tr th {\n",
              "        vertical-align: top;\n",
              "    }\n",
              "\n",
              "    .dataframe thead th {\n",
              "        text-align: right;\n",
              "    }\n",
              "</style>\n",
              "<table border=\"1\" class=\"dataframe\">\n",
              "  <thead>\n",
              "    <tr style=\"text-align: right;\">\n",
              "      <th></th>\n",
              "      <th>Cidade</th>\n",
              "      <th>dia1</th>\n",
              "      <th>dia2</th>\n",
              "      <th>dia3</th>\n",
              "      <th>dia4</th>\n",
              "      <th>dia5</th>\n",
              "    </tr>\n",
              "  </thead>\n",
              "  <tbody>\n",
              "    <tr>\n",
              "      <th>0</th>\n",
              "      <td>A</td>\n",
              "      <td>22</td>\n",
              "      <td>10</td>\n",
              "      <td>25</td>\n",
              "      <td>18</td>\n",
              "      <td>12</td>\n",
              "    </tr>\n",
              "    <tr>\n",
              "      <th>1</th>\n",
              "      <td>B</td>\n",
              "      <td>25</td>\n",
              "      <td>14</td>\n",
              "      <td>22</td>\n",
              "      <td>1</td>\n",
              "      <td>14</td>\n",
              "    </tr>\n",
              "    <tr>\n",
              "      <th>2</th>\n",
              "      <td>C</td>\n",
              "      <td>28</td>\n",
              "      <td>13</td>\n",
              "      <td>26</td>\n",
              "      <td>17</td>\n",
              "      <td>18</td>\n",
              "    </tr>\n",
              "  </tbody>\n",
              "</table>\n",
              "</div>"
            ],
            "text/plain": [
              "  Cidade  dia1  dia2  dia3  dia4  dia5\n",
              "0      A    22    10    25    18    12\n",
              "1      B    25    14    22     1    14\n",
              "2      C    28    13    26    17    18"
            ]
          },
          "metadata": {
            "tags": []
          },
          "execution_count": 7
        }
      ]
    },
    {
      "cell_type": "code",
      "metadata": {
        "id": "b2k43CS4KjiF",
        "colab_type": "code",
        "colab": {}
      },
      "source": [
        ""
      ],
      "execution_count": null,
      "outputs": []
    },
    {
      "cell_type": "markdown",
      "metadata": {
        "id": "akdquhgIKtKm",
        "colab_type": "text"
      },
      "source": [
        "O df1 possui 3 linhas e 6 colunas com um índice simples de colunas inteiras. Se a função de pilha for aplicada ao df1, ele retornará uma série com 3 x 6 = 18 linhas. O índice da série será [(0, 'cidade'), (0, 'dia1'),…, (2, 'dia5')].\n"
      ]
    },
    {
      "cell_type": "code",
      "metadata": {
        "id": "Fnu2dbTbKuKs",
        "colab_type": "code",
        "colab": {
          "base_uri": "https://localhost:8080/",
          "height": 333
        },
        "outputId": "a7e8807e-11d7-4c6b-8c5b-6a27c8502480"
      },
      "source": [
        "df1.stack()"
      ],
      "execution_count": 8,
      "outputs": [
        {
          "output_type": "execute_result",
          "data": {
            "text/plain": [
              "0  Cidade     A\n",
              "   dia1      22\n",
              "   dia2      10\n",
              "   dia3      25\n",
              "   dia4      18\n",
              "   dia5      12\n",
              "1  Cidade     B\n",
              "   dia1      25\n",
              "   dia2      14\n",
              "   dia3      22\n",
              "   dia4       1\n",
              "   dia5      14\n",
              "2  Cidade     C\n",
              "   dia1      28\n",
              "   dia2      13\n",
              "   dia3      26\n",
              "   dia4      17\n",
              "   dia5      18\n",
              "dtype: object"
            ]
          },
          "metadata": {
            "tags": []
          },
          "execution_count": 8
        }
      ]
    },
    {
      "cell_type": "code",
      "metadata": {
        "id": "1fZhdHyfKwwH",
        "colab_type": "code",
        "colab": {}
      },
      "source": [
        ""
      ],
      "execution_count": null,
      "outputs": []
    },
    {
      "cell_type": "markdown",
      "metadata": {
        "id": "aG1wnNTMOTbs",
        "colab_type": "text"
      },
      "source": [
        "Vamos também verificar a forma e o índice:"
      ]
    },
    {
      "cell_type": "code",
      "metadata": {
        "id": "7KK2Ppo9OUl-",
        "colab_type": "code",
        "colab": {
          "base_uri": "https://localhost:8080/",
          "height": 33
        },
        "outputId": "0cc792c4-0970-4b1a-969b-4842fa2c1721"
      },
      "source": [
        "df1.shape"
      ],
      "execution_count": 9,
      "outputs": [
        {
          "output_type": "execute_result",
          "data": {
            "text/plain": [
              "(3, 6)"
            ]
          },
          "metadata": {
            "tags": []
          },
          "execution_count": 9
        }
      ]
    },
    {
      "cell_type": "code",
      "metadata": {
        "id": "KzQWjCVvOXTk",
        "colab_type": "code",
        "colab": {
          "base_uri": "https://localhost:8080/",
          "height": 33
        },
        "outputId": "8354ec81-0631-4ffd-8f88-83c02d9c99b8"
      },
      "source": [
        "df1.stack().shape"
      ],
      "execution_count": 10,
      "outputs": [
        {
          "output_type": "execute_result",
          "data": {
            "text/plain": [
              "(18,)"
            ]
          },
          "metadata": {
            "tags": []
          },
          "execution_count": 10
        }
      ]
    },
    {
      "cell_type": "code",
      "metadata": {
        "id": "iHS02SVWOaVq",
        "colab_type": "code",
        "colab": {
          "base_uri": "https://localhost:8080/",
          "height": 33
        },
        "outputId": "0d1c51df-eeb8-4ad6-b48c-687948cc12fb"
      },
      "source": [
        "df1.stack().index[0]"
      ],
      "execution_count": 11,
      "outputs": [
        {
          "output_type": "execute_result",
          "data": {
            "text/plain": [
              "(0, 'Cidade')"
            ]
          },
          "metadata": {
            "tags": []
          },
          "execution_count": 11
        }
      ]
    },
    {
      "cell_type": "code",
      "metadata": {
        "id": "rb79xp_JOfxx",
        "colab_type": "code",
        "colab": {}
      },
      "source": [
        ""
      ],
      "execution_count": null,
      "outputs": []
    },
    {
      "cell_type": "markdown",
      "metadata": {
        "id": "sWkV38DiOloZ",
        "colab_type": "text"
      },
      "source": [
        "As funções de empilhamento e desempilhar são mais comumente usadas para quadros de dados com índices de vários níveis. Vamos criar um quadro de dados com índice multinível:"
      ]
    },
    {
      "cell_type": "code",
      "metadata": {
        "id": "VAQZe5dgOmXi",
        "colab_type": "code",
        "colab": {}
      },
      "source": [
        "tuplas = [('A',1), ('A',2),('A',3),('B',1),('A',2)]"
      ],
      "execution_count": 12,
      "outputs": []
    },
    {
      "cell_type": "code",
      "metadata": {
        "id": "5meJHIBEO4dE",
        "colab_type": "code",
        "colab": {}
      },
      "source": [
        "index = pd.MultiIndex.from_tuples(tuplas, names=['primeiro','segundo'])"
      ],
      "execution_count": 13,
      "outputs": []
    },
    {
      "cell_type": "code",
      "metadata": {
        "id": "gd-5D_aQPGtG",
        "colab_type": "code",
        "colab": {}
      },
      "source": [
        "df2 = pd.DataFrame(np.random.randint(10, size=(5,2)), index=index, columns=['column_x', 'column_y'])"
      ],
      "execution_count": 14,
      "outputs": []
    },
    {
      "cell_type": "code",
      "metadata": {
        "id": "i6m6D50cPwYs",
        "colab_type": "code",
        "colab": {
          "base_uri": "https://localhost:8080/",
          "height": 227
        },
        "outputId": "2a6cbe48-5602-4582-e1ad-414d6f074ae3"
      },
      "source": [
        "df2.head()"
      ],
      "execution_count": 15,
      "outputs": [
        {
          "output_type": "execute_result",
          "data": {
            "text/html": [
              "<div>\n",
              "<style scoped>\n",
              "    .dataframe tbody tr th:only-of-type {\n",
              "        vertical-align: middle;\n",
              "    }\n",
              "\n",
              "    .dataframe tbody tr th {\n",
              "        vertical-align: top;\n",
              "    }\n",
              "\n",
              "    .dataframe thead th {\n",
              "        text-align: right;\n",
              "    }\n",
              "</style>\n",
              "<table border=\"1\" class=\"dataframe\">\n",
              "  <thead>\n",
              "    <tr style=\"text-align: right;\">\n",
              "      <th></th>\n",
              "      <th></th>\n",
              "      <th>column_x</th>\n",
              "      <th>column_y</th>\n",
              "    </tr>\n",
              "    <tr>\n",
              "      <th>primeiro</th>\n",
              "      <th>segundo</th>\n",
              "      <th></th>\n",
              "      <th></th>\n",
              "    </tr>\n",
              "  </thead>\n",
              "  <tbody>\n",
              "    <tr>\n",
              "      <th rowspan=\"3\" valign=\"top\">A</th>\n",
              "      <th>1</th>\n",
              "      <td>2</td>\n",
              "      <td>5</td>\n",
              "    </tr>\n",
              "    <tr>\n",
              "      <th>2</th>\n",
              "      <td>2</td>\n",
              "      <td>8</td>\n",
              "    </tr>\n",
              "    <tr>\n",
              "      <th>3</th>\n",
              "      <td>0</td>\n",
              "      <td>6</td>\n",
              "    </tr>\n",
              "    <tr>\n",
              "      <th>B</th>\n",
              "      <th>1</th>\n",
              "      <td>8</td>\n",
              "      <td>8</td>\n",
              "    </tr>\n",
              "    <tr>\n",
              "      <th>A</th>\n",
              "      <th>2</th>\n",
              "      <td>9</td>\n",
              "      <td>4</td>\n",
              "    </tr>\n",
              "  </tbody>\n",
              "</table>\n",
              "</div>"
            ],
            "text/plain": [
              "                  column_x  column_y\n",
              "primeiro segundo                    \n",
              "A        1               2         5\n",
              "         2               2         8\n",
              "         3               0         6\n",
              "B        1               8         8\n",
              "A        2               9         4"
            ]
          },
          "metadata": {
            "tags": []
          },
          "execution_count": 15
        }
      ]
    },
    {
      "cell_type": "code",
      "metadata": {
        "id": "oUty6rwnPzuq",
        "colab_type": "code",
        "colab": {}
      },
      "source": [
        ""
      ],
      "execution_count": null,
      "outputs": []
    },
    {
      "cell_type": "markdown",
      "metadata": {
        "id": "5rcDfo6KP5ri",
        "colab_type": "text"
      },
      "source": [
        "Se aplicarmos a função de pilha nesse quadro de dados, o nível do índice será aumentado:"
      ]
    },
    {
      "cell_type": "code",
      "metadata": {
        "id": "Xjg1a6UpP68D",
        "colab_type": "code",
        "colab": {
          "base_uri": "https://localhost:8080/",
          "height": 377
        },
        "outputId": "b6f16618-6c99-4fd2-a51b-c1e887bcd8f1"
      },
      "source": [
        "df_stacked = df2.stack().to_frame()\n",
        "df_stacked"
      ],
      "execution_count": 18,
      "outputs": [
        {
          "output_type": "execute_result",
          "data": {
            "text/html": [
              "<div>\n",
              "<style scoped>\n",
              "    .dataframe tbody tr th:only-of-type {\n",
              "        vertical-align: middle;\n",
              "    }\n",
              "\n",
              "    .dataframe tbody tr th {\n",
              "        vertical-align: top;\n",
              "    }\n",
              "\n",
              "    .dataframe thead th {\n",
              "        text-align: right;\n",
              "    }\n",
              "</style>\n",
              "<table border=\"1\" class=\"dataframe\">\n",
              "  <thead>\n",
              "    <tr style=\"text-align: right;\">\n",
              "      <th></th>\n",
              "      <th></th>\n",
              "      <th></th>\n",
              "      <th>0</th>\n",
              "    </tr>\n",
              "    <tr>\n",
              "      <th>primeiro</th>\n",
              "      <th>segundo</th>\n",
              "      <th></th>\n",
              "      <th></th>\n",
              "    </tr>\n",
              "  </thead>\n",
              "  <tbody>\n",
              "    <tr>\n",
              "      <th rowspan=\"6\" valign=\"top\">A</th>\n",
              "      <th rowspan=\"2\" valign=\"top\">1</th>\n",
              "      <th>column_x</th>\n",
              "      <td>2</td>\n",
              "    </tr>\n",
              "    <tr>\n",
              "      <th>column_y</th>\n",
              "      <td>5</td>\n",
              "    </tr>\n",
              "    <tr>\n",
              "      <th rowspan=\"2\" valign=\"top\">2</th>\n",
              "      <th>column_x</th>\n",
              "      <td>2</td>\n",
              "    </tr>\n",
              "    <tr>\n",
              "      <th>column_y</th>\n",
              "      <td>8</td>\n",
              "    </tr>\n",
              "    <tr>\n",
              "      <th rowspan=\"2\" valign=\"top\">3</th>\n",
              "      <th>column_x</th>\n",
              "      <td>0</td>\n",
              "    </tr>\n",
              "    <tr>\n",
              "      <th>column_y</th>\n",
              "      <td>6</td>\n",
              "    </tr>\n",
              "    <tr>\n",
              "      <th rowspan=\"2\" valign=\"top\">B</th>\n",
              "      <th rowspan=\"2\" valign=\"top\">1</th>\n",
              "      <th>column_x</th>\n",
              "      <td>8</td>\n",
              "    </tr>\n",
              "    <tr>\n",
              "      <th>column_y</th>\n",
              "      <td>8</td>\n",
              "    </tr>\n",
              "    <tr>\n",
              "      <th rowspan=\"2\" valign=\"top\">A</th>\n",
              "      <th rowspan=\"2\" valign=\"top\">2</th>\n",
              "      <th>column_x</th>\n",
              "      <td>9</td>\n",
              "    </tr>\n",
              "    <tr>\n",
              "      <th>column_y</th>\n",
              "      <td>4</td>\n",
              "    </tr>\n",
              "  </tbody>\n",
              "</table>\n",
              "</div>"
            ],
            "text/plain": [
              "                           0\n",
              "primeiro segundo            \n",
              "A        1       column_x  2\n",
              "                 column_y  5\n",
              "         2       column_x  2\n",
              "                 column_y  8\n",
              "         3       column_x  0\n",
              "                 column_y  6\n",
              "B        1       column_x  8\n",
              "                 column_y  8\n",
              "A        2       column_x  9\n",
              "                 column_y  4"
            ]
          },
          "metadata": {
            "tags": []
          },
          "execution_count": 18
        }
      ]
    },
    {
      "cell_type": "code",
      "metadata": {
        "id": "qE239H5XQAT9",
        "colab_type": "code",
        "colab": {}
      },
      "source": [
        ""
      ],
      "execution_count": null,
      "outputs": []
    },
    {
      "cell_type": "markdown",
      "metadata": {
        "id": "pc-_GDBUQKk3",
        "colab_type": "text"
      },
      "source": [
        "Agora, os nomes das colunas (column_x e column_y) fazem parte do índice de vários níveis. Portanto, o quadro de dados resultante possui uma coluna e um índice múltiplo de três níveis."
      ]
    },
    {
      "cell_type": "code",
      "metadata": {
        "id": "vBYF_93-QLHZ",
        "colab_type": "code",
        "colab": {
          "base_uri": "https://localhost:8080/",
          "height": 33
        },
        "outputId": "0876bad4-10b5-4943-94ca-8bc8a7bab5b4"
      },
      "source": [
        "df_stacked.index.levels"
      ],
      "execution_count": 19,
      "outputs": [
        {
          "output_type": "execute_result",
          "data": {
            "text/plain": [
              "FrozenList([['A', 'B'], [1, 2, 3], ['column_x', 'column_y']])"
            ]
          },
          "metadata": {
            "tags": []
          },
          "execution_count": 19
        }
      ]
    },
    {
      "cell_type": "code",
      "metadata": {
        "id": "ZZEmTWj5QPQY",
        "colab_type": "code",
        "colab": {
          "base_uri": "https://localhost:8080/",
          "height": 33
        },
        "outputId": "7a519247-4c29-486b-e572-e06bcf4d8c09"
      },
      "source": [
        "df2.index.levels"
      ],
      "execution_count": 20,
      "outputs": [
        {
          "output_type": "execute_result",
          "data": {
            "text/plain": [
              "FrozenList([['A', 'B'], [1, 2, 3]])"
            ]
          },
          "metadata": {
            "tags": []
          },
          "execution_count": 20
        }
      ]
    },
    {
      "cell_type": "code",
      "metadata": {
        "id": "a1dQeOiuQfaq",
        "colab_type": "code",
        "colab": {}
      },
      "source": [
        ""
      ],
      "execution_count": null,
      "outputs": []
    },
    {
      "cell_type": "markdown",
      "metadata": {
        "id": "bvthfUP6QiCv",
        "colab_type": "text"
      },
      "source": [
        "Desempilhar é exatamente o oposto da pilha . Se aplicarmos desempilhar no quadro de dados empilhado, recuperaremos o quadro de dados original:"
      ]
    },
    {
      "cell_type": "code",
      "metadata": {
        "id": "Dfm_EE-MQiwV",
        "colab_type": "code",
        "colab": {}
      },
      "source": [
        "df_stacked.unstack()"
      ],
      "execution_count": null,
      "outputs": []
    },
    {
      "cell_type": "code",
      "metadata": {
        "id": "nRDKSnMQQlqV",
        "colab_type": "code",
        "colab": {}
      },
      "source": [
        ""
      ],
      "execution_count": null,
      "outputs": []
    },
    {
      "cell_type": "markdown",
      "metadata": {
        "id": "xeahag7eRA9P",
        "colab_type": "text"
      },
      "source": [
        "***Pivô***\n",
        "\n",
        "A função dinâmica também pode ser considerada como uma maneira de observar o quadro de dados de uma perspectiva diferente. É usado para explorar os relacionamentos entre variáveis, permitindo representar dados em diferentes formatos.\n",
        "\n",
        "> Considere o seguinte quadro de dados:"
      ]
    },
    {
      "cell_type": "code",
      "metadata": {
        "id": "1nkCv3cUSHFV",
        "colab_type": "code",
        "colab": {}
      },
      "source": [
        "df5 = pd.DataFrame({\n",
        "    'Cidade':['A','B','C'],\n",
        "    'Nome':['Joao','Tony','Adao'],\n",
        "    'Valor1':[10,14,13],\n",
        "    'Valor2':[24,26,18]\n",
        "})"
      ],
      "execution_count": 26,
      "outputs": []
    },
    {
      "cell_type": "code",
      "metadata": {
        "id": "X8pIAKWrSzJ9",
        "colab_type": "code",
        "colab": {
          "base_uri": "https://localhost:8080/",
          "height": 137
        },
        "outputId": "490c017d-8aa7-4412-c23b-f11375d29a86"
      },
      "source": [
        "df5.head()"
      ],
      "execution_count": 27,
      "outputs": [
        {
          "output_type": "execute_result",
          "data": {
            "text/html": [
              "<div>\n",
              "<style scoped>\n",
              "    .dataframe tbody tr th:only-of-type {\n",
              "        vertical-align: middle;\n",
              "    }\n",
              "\n",
              "    .dataframe tbody tr th {\n",
              "        vertical-align: top;\n",
              "    }\n",
              "\n",
              "    .dataframe thead th {\n",
              "        text-align: right;\n",
              "    }\n",
              "</style>\n",
              "<table border=\"1\" class=\"dataframe\">\n",
              "  <thead>\n",
              "    <tr style=\"text-align: right;\">\n",
              "      <th></th>\n",
              "      <th>Cidade</th>\n",
              "      <th>Nome</th>\n",
              "      <th>Valor1</th>\n",
              "      <th>Valor2</th>\n",
              "    </tr>\n",
              "  </thead>\n",
              "  <tbody>\n",
              "    <tr>\n",
              "      <th>0</th>\n",
              "      <td>A</td>\n",
              "      <td>Joao</td>\n",
              "      <td>10</td>\n",
              "      <td>24</td>\n",
              "    </tr>\n",
              "    <tr>\n",
              "      <th>1</th>\n",
              "      <td>B</td>\n",
              "      <td>Tony</td>\n",
              "      <td>14</td>\n",
              "      <td>26</td>\n",
              "    </tr>\n",
              "    <tr>\n",
              "      <th>2</th>\n",
              "      <td>C</td>\n",
              "      <td>Adao</td>\n",
              "      <td>13</td>\n",
              "      <td>18</td>\n",
              "    </tr>\n",
              "  </tbody>\n",
              "</table>\n",
              "</div>"
            ],
            "text/plain": [
              "  Cidade  Nome  Valor1  Valor2\n",
              "0      A  Joao      10      24\n",
              "1      B  Tony      14      26\n",
              "2      C  Adao      13      18"
            ]
          },
          "metadata": {
            "tags": []
          },
          "execution_count": 27
        }
      ]
    },
    {
      "cell_type": "code",
      "metadata": {
        "id": "vgu223bXUwRb",
        "colab_type": "code",
        "colab": {}
      },
      "source": [
        ""
      ],
      "execution_count": null,
      "outputs": []
    },
    {
      "cell_type": "markdown",
      "metadata": {
        "id": "gSubwNTZU2Mu",
        "colab_type": "text"
      },
      "source": [
        "Queremos ver como os valores mudam de acordo com os pares cidade-nome. Podemos criar uma nova representação desse quadro de dados com um índice de nomes e colunas de cidades"
      ]
    },
    {
      "cell_type": "code",
      "metadata": {
        "id": "12BUhGXCU3J-",
        "colab_type": "code",
        "colab": {
          "base_uri": "https://localhost:8080/",
          "height": 197
        },
        "outputId": "d3777a88-652d-4bd5-e01d-644231269834"
      },
      "source": [
        "df5.pivot(index='Nome', columns='Cidade')"
      ],
      "execution_count": 29,
      "outputs": [
        {
          "output_type": "execute_result",
          "data": {
            "text/html": [
              "<div>\n",
              "<style scoped>\n",
              "    .dataframe tbody tr th:only-of-type {\n",
              "        vertical-align: middle;\n",
              "    }\n",
              "\n",
              "    .dataframe tbody tr th {\n",
              "        vertical-align: top;\n",
              "    }\n",
              "\n",
              "    .dataframe thead tr th {\n",
              "        text-align: left;\n",
              "    }\n",
              "\n",
              "    .dataframe thead tr:last-of-type th {\n",
              "        text-align: right;\n",
              "    }\n",
              "</style>\n",
              "<table border=\"1\" class=\"dataframe\">\n",
              "  <thead>\n",
              "    <tr>\n",
              "      <th></th>\n",
              "      <th colspan=\"3\" halign=\"left\">Valor1</th>\n",
              "      <th colspan=\"3\" halign=\"left\">Valor2</th>\n",
              "    </tr>\n",
              "    <tr>\n",
              "      <th>Cidade</th>\n",
              "      <th>A</th>\n",
              "      <th>B</th>\n",
              "      <th>C</th>\n",
              "      <th>A</th>\n",
              "      <th>B</th>\n",
              "      <th>C</th>\n",
              "    </tr>\n",
              "    <tr>\n",
              "      <th>Nome</th>\n",
              "      <th></th>\n",
              "      <th></th>\n",
              "      <th></th>\n",
              "      <th></th>\n",
              "      <th></th>\n",
              "      <th></th>\n",
              "    </tr>\n",
              "  </thead>\n",
              "  <tbody>\n",
              "    <tr>\n",
              "      <th>Adao</th>\n",
              "      <td>NaN</td>\n",
              "      <td>NaN</td>\n",
              "      <td>13.0</td>\n",
              "      <td>NaN</td>\n",
              "      <td>NaN</td>\n",
              "      <td>18.0</td>\n",
              "    </tr>\n",
              "    <tr>\n",
              "      <th>Joao</th>\n",
              "      <td>10.0</td>\n",
              "      <td>NaN</td>\n",
              "      <td>NaN</td>\n",
              "      <td>24.0</td>\n",
              "      <td>NaN</td>\n",
              "      <td>NaN</td>\n",
              "    </tr>\n",
              "    <tr>\n",
              "      <th>Tony</th>\n",
              "      <td>NaN</td>\n",
              "      <td>14.0</td>\n",
              "      <td>NaN</td>\n",
              "      <td>NaN</td>\n",
              "      <td>26.0</td>\n",
              "      <td>NaN</td>\n",
              "    </tr>\n",
              "  </tbody>\n",
              "</table>\n",
              "</div>"
            ],
            "text/plain": [
              "       Valor1             Valor2            \n",
              "Cidade      A     B     C      A     B     C\n",
              "Nome                                        \n",
              "Adao      NaN   NaN  13.0    NaN   NaN  18.0\n",
              "Joao     10.0   NaN   NaN   24.0   NaN   NaN\n",
              "Tony      NaN  14.0   NaN    NaN  26.0   NaN"
            ]
          },
          "metadata": {
            "tags": []
          },
          "execution_count": 29
        }
      ]
    },
    {
      "cell_type": "code",
      "metadata": {
        "id": "VqY-wDmbVuur",
        "colab_type": "code",
        "colab": {}
      },
      "source": [
        ""
      ],
      "execution_count": null,
      "outputs": []
    },
    {
      "cell_type": "markdown",
      "metadata": {
        "id": "xd8SR--FV38l",
        "colab_type": "text"
      },
      "source": [
        "Se um par de cidade-nome não existir, a célula correspondente será preenchida com NaN.\n",
        "\n",
        "\n",
        "Não precisamos ver todos os valores de uma só vez. Os valores a serem inseridos no quadro de dados podem ser filtrados usando o parâmetro values :"
      ]
    },
    {
      "cell_type": "code",
      "metadata": {
        "id": "F5PNJQbXXgUV",
        "colab_type": "code",
        "colab": {
          "base_uri": "https://localhost:8080/",
          "height": 167
        },
        "outputId": "cbf0a478-bfd1-49ef-df2a-03fee7ed4934"
      },
      "source": [
        "df5.pivot(index='Nome', columns='Cidade', values='Valor1')"
      ],
      "execution_count": 31,
      "outputs": [
        {
          "output_type": "execute_result",
          "data": {
            "text/html": [
              "<div>\n",
              "<style scoped>\n",
              "    .dataframe tbody tr th:only-of-type {\n",
              "        vertical-align: middle;\n",
              "    }\n",
              "\n",
              "    .dataframe tbody tr th {\n",
              "        vertical-align: top;\n",
              "    }\n",
              "\n",
              "    .dataframe thead th {\n",
              "        text-align: right;\n",
              "    }\n",
              "</style>\n",
              "<table border=\"1\" class=\"dataframe\">\n",
              "  <thead>\n",
              "    <tr style=\"text-align: right;\">\n",
              "      <th>Cidade</th>\n",
              "      <th>A</th>\n",
              "      <th>B</th>\n",
              "      <th>C</th>\n",
              "    </tr>\n",
              "    <tr>\n",
              "      <th>Nome</th>\n",
              "      <th></th>\n",
              "      <th></th>\n",
              "      <th></th>\n",
              "    </tr>\n",
              "  </thead>\n",
              "  <tbody>\n",
              "    <tr>\n",
              "      <th>Adao</th>\n",
              "      <td>NaN</td>\n",
              "      <td>NaN</td>\n",
              "      <td>13.0</td>\n",
              "    </tr>\n",
              "    <tr>\n",
              "      <th>Joao</th>\n",
              "      <td>10.0</td>\n",
              "      <td>NaN</td>\n",
              "      <td>NaN</td>\n",
              "    </tr>\n",
              "    <tr>\n",
              "      <th>Tony</th>\n",
              "      <td>NaN</td>\n",
              "      <td>14.0</td>\n",
              "      <td>NaN</td>\n",
              "    </tr>\n",
              "  </tbody>\n",
              "</table>\n",
              "</div>"
            ],
            "text/plain": [
              "Cidade     A     B     C\n",
              "Nome                    \n",
              "Adao     NaN   NaN  13.0\n",
              "Joao    10.0   NaN   NaN\n",
              "Tony     NaN  14.0   NaN"
            ]
          },
          "metadata": {
            "tags": []
          },
          "execution_count": 31
        }
      ]
    },
    {
      "cell_type": "code",
      "metadata": {
        "id": "OlaZjGoKXp5Y",
        "colab_type": "code",
        "colab": {}
      },
      "source": [
        ""
      ],
      "execution_count": null,
      "outputs": []
    }
  ]
}