{
  "nbformat": 4,
  "nbformat_minor": 0,
  "metadata": {
    "anaconda-cloud": {},
    "kernelspec": {
      "display_name": "Python 3",
      "language": "python",
      "name": "python3"
    },
    "language_info": {
      "codemirror_mode": {
        "name": "ipython",
        "version": 3
      },
      "file_extension": ".py",
      "mimetype": "text/x-python",
      "name": "python",
      "nbconvert_exporter": "python",
      "pygments_lexer": "ipython3",
      "version": "3.7.3"
    },
    "colab": {
      "name": "TRATANDO VALORES NULOS -.ipynb",
      "provenance": [],
      "collapsed_sections": [
        "GS8fzqi4Qc1x",
        "I1c9-n2VQc2G",
        "HynU-j4lQc2Q"
      ],
      "include_colab_link": true
    }
  },
  "cells": [
    {
      "cell_type": "markdown",
      "metadata": {
        "id": "view-in-github",
        "colab_type": "text"
      },
      "source": [
        "<a href=\"https://colab.research.google.com/github/ClauderCarvalho/ABERTO/blob/master/TRATANDO_VALORES_NULOS_.ipynb\" target=\"_parent\"><img src=\"https://colab.research.google.com/assets/colab-badge.svg\" alt=\"Open In Colab\"/></a>"
      ]
    },
    {
      "cell_type": "markdown",
      "metadata": {
        "id": "z9RBjuWiQc00",
        "colab_type": "text"
      },
      "source": [
        "##TRATANDO VALORES NULOS \n",
        "\n",
        "## Pandas - Series "
      ]
    },
    {
      "cell_type": "markdown",
      "metadata": {
        "id": "q-65qE08Qc00",
        "colab_type": "text"
      },
      "source": [
        "## Valores NaN (Not a Number)"
      ]
    },
    {
      "cell_type": "code",
      "metadata": {
        "id": "i0YmOSAkQc01",
        "colab_type": "code",
        "outputId": "d2e00ce3-196c-4dd2-bbd4-f427bc707243",
        "colab": {
          "base_uri": "https://localhost:8080/",
          "height": 68
        }
      },
      "source": [
        "import sys\n",
        "import pandas as pd\n",
        "import numpy as np\n",
        "print(sys.version)\n",
        "pd.__version__\n",
        "\n",
        "# Se precisar instalar uma versão específica o pandas, use:\n",
        "\n",
        "# !pip uninstall pandas\n",
        "# !pip install pandas == 0.23.4"
      ],
      "execution_count": 0,
      "outputs": [
        {
          "output_type": "stream",
          "text": [
            "3.6.9 (default, Apr 18 2020, 01:56:04) \n",
            "[GCC 8.4.0]\n"
          ],
          "name": "stdout"
        },
        {
          "output_type": "execute_result",
          "data": {
            "text/plain": [
              "'1.0.3'"
            ]
          },
          "metadata": {
            "tags": []
          },
          "execution_count": 1
        }
      ]
    },
    {
      "cell_type": "code",
      "metadata": {
        "id": "jQppMGXFQc05",
        "colab_type": "code",
        "colab": {}
      },
      "source": [
        "# Usando NumPy\n",
        "array1 = np.array([1, 2, 3, np.nan])"
      ],
      "execution_count": 0,
      "outputs": []
    },
    {
      "cell_type": "code",
      "metadata": {
        "id": "84J6v15uQc08",
        "colab_type": "code",
        "outputId": "563279c3-41b6-42df-e9e1-189a2f821bba",
        "colab": {
          "base_uri": "https://localhost:8080/",
          "height": 34
        }
      },
      "source": [
        "array1"
      ],
      "execution_count": 0,
      "outputs": [
        {
          "output_type": "execute_result",
          "data": {
            "text/plain": [
              "array([ 1.,  2.,  3., nan])"
            ]
          },
          "metadata": {
            "tags": []
          },
          "execution_count": 3
        }
      ]
    },
    {
      "cell_type": "code",
      "metadata": {
        "id": "J17cNytjQc1A",
        "colab_type": "code",
        "outputId": "8f2b8841-20a7-4301-cf15-aa0045390167",
        "colab": {
          "base_uri": "https://localhost:8080/",
          "height": 34
        }
      },
      "source": [
        "array1.mean()"
      ],
      "execution_count": 0,
      "outputs": [
        {
          "output_type": "execute_result",
          "data": {
            "text/plain": [
              "nan"
            ]
          },
          "metadata": {
            "tags": []
          },
          "execution_count": 4
        }
      ]
    },
    {
      "cell_type": "code",
      "metadata": {
        "id": "xsXrPnwoQc1C",
        "colab_type": "code",
        "colab": {}
      },
      "source": [
        "# Usando Pandas\n",
        "serie2 = pd.Series([1, 2, 3, np.nan])"
      ],
      "execution_count": 0,
      "outputs": []
    },
    {
      "cell_type": "code",
      "metadata": {
        "id": "KmyBSUZwQc1F",
        "colab_type": "code",
        "outputId": "248940b7-96be-4106-896e-9c583dbbe75c",
        "colab": {
          "base_uri": "https://localhost:8080/",
          "height": 102
        }
      },
      "source": [
        "serie2"
      ],
      "execution_count": 0,
      "outputs": [
        {
          "output_type": "execute_result",
          "data": {
            "text/plain": [
              "0    1.0\n",
              "1    2.0\n",
              "2    3.0\n",
              "3    NaN\n",
              "dtype: float64"
            ]
          },
          "metadata": {
            "tags": []
          },
          "execution_count": 6
        }
      ]
    },
    {
      "cell_type": "code",
      "metadata": {
        "id": "-yWYTN7TQc1H",
        "colab_type": "code",
        "outputId": "d10db99e-acfd-46b7-fb12-90df89a511ee",
        "colab": {
          "base_uri": "https://localhost:8080/",
          "height": 34
        }
      },
      "source": [
        "serie2.mean()"
      ],
      "execution_count": 0,
      "outputs": [
        {
          "output_type": "execute_result",
          "data": {
            "text/plain": [
              "2.0"
            ]
          },
          "metadata": {
            "tags": []
          },
          "execution_count": 7
        }
      ]
    },
    {
      "cell_type": "markdown",
      "metadata": {
        "id": "IKIwu8nIQc1K",
        "colab_type": "text"
      },
      "source": [
        "## Concatenando as Séries"
      ]
    },
    {
      "cell_type": "code",
      "metadata": {
        "id": "iaBRYT8MQc1L",
        "colab_type": "code",
        "colab": {}
      },
      "source": [
        "np.random.seed(567)"
      ],
      "execution_count": 0,
      "outputs": []
    },
    {
      "cell_type": "code",
      "metadata": {
        "id": "2-KpmMltQc1N",
        "colab_type": "code",
        "colab": {}
      },
      "source": [
        "serie3 = pd.Series(np.random.rand(5))"
      ],
      "execution_count": 0,
      "outputs": []
    },
    {
      "cell_type": "code",
      "metadata": {
        "id": "79g64mvyQc1Q",
        "colab_type": "code",
        "outputId": "6327ac16-77d0-40ea-edd1-e8f3f3b97855",
        "colab": {
          "base_uri": "https://localhost:8080/",
          "height": 119
        }
      },
      "source": [
        "serie3"
      ],
      "execution_count": 0,
      "outputs": [
        {
          "output_type": "execute_result",
          "data": {
            "text/plain": [
              "0    0.304782\n",
              "1    0.953033\n",
              "2    0.964709\n",
              "3    0.343762\n",
              "4    0.993886\n",
              "dtype: float64"
            ]
          },
          "metadata": {
            "tags": []
          },
          "execution_count": 10
        }
      ]
    },
    {
      "cell_type": "code",
      "metadata": {
        "id": "iF175_2cQc1S",
        "colab_type": "code",
        "colab": {}
      },
      "source": [
        "serie4 = pd.Series(np.random.rand(5))"
      ],
      "execution_count": 0,
      "outputs": []
    },
    {
      "cell_type": "code",
      "metadata": {
        "id": "8OzwQ9tHQc1V",
        "colab_type": "code",
        "outputId": "a3ddf4c8-0dfd-4768-de83-fbfc0f3be7e1",
        "colab": {}
      },
      "source": [
        "serie4"
      ],
      "execution_count": 0,
      "outputs": [
        {
          "output_type": "execute_result",
          "data": {
            "text/plain": [
              "0    0.302074\n",
              "1    0.876231\n",
              "2    0.705643\n",
              "3    0.681150\n",
              "4    0.548266\n",
              "dtype: float64"
            ]
          },
          "metadata": {
            "tags": []
          },
          "execution_count": 12
        }
      ]
    },
    {
      "cell_type": "code",
      "metadata": {
        "id": "FzwSAhkgQc1X",
        "colab_type": "code",
        "colab": {}
      },
      "source": [
        "combo = pd.concat([serie3, serie4])#Concatenar"
      ],
      "execution_count": 0,
      "outputs": []
    },
    {
      "cell_type": "code",
      "metadata": {
        "id": "dXCmB5POQc1Z",
        "colab_type": "code",
        "outputId": "905ff092-db00-4e10-9501-98dd55137bc9",
        "colab": {
          "base_uri": "https://localhost:8080/",
          "height": 204
        }
      },
      "source": [
        "combo"
      ],
      "execution_count": 0,
      "outputs": [
        {
          "output_type": "execute_result",
          "data": {
            "text/plain": [
              "0    0.304782\n",
              "1    0.953033\n",
              "2    0.964709\n",
              "3    0.343762\n",
              "4    0.993886\n",
              "0    0.302074\n",
              "1    0.876231\n",
              "2    0.705643\n",
              "3    0.681150\n",
              "4    0.548266\n",
              "dtype: float64"
            ]
          },
          "metadata": {
            "tags": []
          },
          "execution_count": 13
        }
      ]
    },
    {
      "cell_type": "code",
      "metadata": {
        "id": "RWB8Nh2-Qc1b",
        "colab_type": "code",
        "outputId": "24cdd92e-9aef-4e0d-e1b9-896f50620268",
        "colab": {}
      },
      "source": [
        "combo[0]"
      ],
      "execution_count": 0,
      "outputs": [
        {
          "output_type": "execute_result",
          "data": {
            "text/plain": [
              "0    0.304782\n",
              "0    0.302074\n",
              "dtype: float64"
            ]
          },
          "metadata": {
            "tags": []
          },
          "execution_count": 15
        }
      ]
    },
    {
      "cell_type": "code",
      "metadata": {
        "id": "NKzgXZR1Qc1e",
        "colab_type": "code",
        "colab": {}
      },
      "source": [
        "combo.index = range(combo.count())"
      ],
      "execution_count": 0,
      "outputs": []
    },
    {
      "cell_type": "code",
      "metadata": {
        "id": "anTVdN_1Qc1g",
        "colab_type": "code",
        "outputId": "00be9f27-351b-4396-f662-a548b6bb7afd",
        "colab": {
          "base_uri": "https://localhost:8080/",
          "height": 204
        }
      },
      "source": [
        "combo"
      ],
      "execution_count": 0,
      "outputs": [
        {
          "output_type": "execute_result",
          "data": {
            "text/plain": [
              "0    0.304782\n",
              "1    0.953033\n",
              "2    0.964709\n",
              "3    0.343762\n",
              "4    0.993886\n",
              "5    0.302074\n",
              "6    0.876231\n",
              "7    0.705643\n",
              "8    0.681150\n",
              "9    0.548266\n",
              "dtype: float64"
            ]
          },
          "metadata": {
            "tags": []
          },
          "execution_count": 16
        }
      ]
    },
    {
      "cell_type": "code",
      "metadata": {
        "id": "upMv6ikCQc1j",
        "colab_type": "code",
        "outputId": "327b6ae2-0ed5-4fd8-8e1e-3633eca526e0",
        "colab": {
          "base_uri": "https://localhost:8080/",
          "height": 102
        }
      },
      "source": [
        "combo.reindex([0, 2, 16, 21])"
      ],
      "execution_count": 0,
      "outputs": [
        {
          "output_type": "execute_result",
          "data": {
            "text/plain": [
              "0     0.304782\n",
              "2     0.964709\n",
              "16         NaN\n",
              "21         NaN\n",
              "dtype: float64"
            ]
          },
          "metadata": {
            "tags": []
          },
          "execution_count": 17
        }
      ]
    },
    {
      "cell_type": "code",
      "metadata": {
        "id": "mOJl99HFQc1m",
        "colab_type": "code",
        "outputId": "8b577414-756d-4722-df09-9f1a4dad6e17",
        "colab": {
          "base_uri": "https://localhost:8080/",
          "height": 102
        }
      },
      "source": [
        "combo.reindex([0, 2, 16, 21], fill_value = 0) # Preencher valor nulo"
      ],
      "execution_count": 0,
      "outputs": [
        {
          "output_type": "execute_result",
          "data": {
            "text/plain": [
              "0     0.304782\n",
              "2     0.964709\n",
              "16    0.000000\n",
              "21    0.000000\n",
              "dtype: float64"
            ]
          },
          "metadata": {
            "tags": []
          },
          "execution_count": 18
        }
      ]
    },
    {
      "cell_type": "code",
      "metadata": {
        "id": "lx4fGCvdQc1o",
        "colab_type": "code",
        "colab": {}
      },
      "source": [
        "new_combo = combo.reindex([0, 2, 16, 21])"
      ],
      "execution_count": 0,
      "outputs": []
    },
    {
      "cell_type": "code",
      "metadata": {
        "id": "qU4UlJwgQc1p",
        "colab_type": "code",
        "outputId": "83f545ed-3396-4e32-8e69-df15ab45bf1e",
        "colab": {
          "base_uri": "https://localhost:8080/",
          "height": 102
        }
      },
      "source": [
        "new_combo"
      ],
      "execution_count": 0,
      "outputs": [
        {
          "output_type": "execute_result",
          "data": {
            "text/plain": [
              "0     0.304782\n",
              "2     0.964709\n",
              "16         NaN\n",
              "21         NaN\n",
              "dtype: float64"
            ]
          },
          "metadata": {
            "tags": []
          },
          "execution_count": 20
        }
      ]
    },
    {
      "cell_type": "code",
      "metadata": {
        "id": "rjedCM5uQc1r",
        "colab_type": "code",
        "outputId": "bd267213-ce1c-4b9e-a8fd-dfdeee44ef23",
        "colab": {
          "base_uri": "https://localhost:8080/",
          "height": 102
        }
      },
      "source": [
        "new_combo.ffill()"
      ],
      "execution_count": 0,
      "outputs": [
        {
          "output_type": "execute_result",
          "data": {
            "text/plain": [
              "0     0.304782\n",
              "2     0.964709\n",
              "16    0.964709\n",
              "21    0.964709\n",
              "dtype: float64"
            ]
          },
          "metadata": {
            "tags": []
          },
          "execution_count": 21
        }
      ]
    },
    {
      "cell_type": "code",
      "metadata": {
        "id": "lyLnhYPcQc1t",
        "colab_type": "code",
        "outputId": "d8c59e74-f787-4590-85c9-8bb219308128",
        "colab": {
          "base_uri": "https://localhost:8080/",
          "height": 102
        }
      },
      "source": [
        "new_combo.bfill()"
      ],
      "execution_count": 0,
      "outputs": [
        {
          "output_type": "execute_result",
          "data": {
            "text/plain": [
              "0     0.304782\n",
              "2     0.964709\n",
              "16         NaN\n",
              "21         NaN\n",
              "dtype: float64"
            ]
          },
          "metadata": {
            "tags": []
          },
          "execution_count": 22
        }
      ]
    },
    {
      "cell_type": "code",
      "metadata": {
        "id": "RBF7hwbnQc1v",
        "colab_type": "code",
        "outputId": "024a4f41-7f71-48d2-8547-cdcdecfa9a39",
        "colab": {
          "base_uri": "https://localhost:8080/",
          "height": 102
        }
      },
      "source": [
        "new_combo.fillna(12)"
      ],
      "execution_count": 0,
      "outputs": [
        {
          "output_type": "execute_result",
          "data": {
            "text/plain": [
              "0      0.304782\n",
              "2      0.964709\n",
              "16    12.000000\n",
              "21    12.000000\n",
              "dtype: float64"
            ]
          },
          "metadata": {
            "tags": []
          },
          "execution_count": 23
        }
      ]
    },
    {
      "cell_type": "markdown",
      "metadata": {
        "id": "GS8fzqi4Qc1x",
        "colab_type": "text"
      },
      "source": [
        "## Operações com Series - Índices Diferentes"
      ]
    },
    {
      "cell_type": "code",
      "metadata": {
        "id": "Xk3tttiYQc1y",
        "colab_type": "code",
        "outputId": "7db6ab6d-a61d-4252-ddfc-7456bcfc925d",
        "colab": {
          "base_uri": "https://localhost:8080/",
          "height": 119
        }
      },
      "source": [
        "s1 = pd.Series(np.random.randn(5)); s1"
      ],
      "execution_count": 0,
      "outputs": [
        {
          "output_type": "execute_result",
          "data": {
            "text/plain": [
              "0    0.724774\n",
              "1    0.124588\n",
              "2    1.023399\n",
              "3    2.221557\n",
              "4    1.130909\n",
              "dtype: float64"
            ]
          },
          "metadata": {
            "tags": []
          },
          "execution_count": 24
        }
      ]
    },
    {
      "cell_type": "code",
      "metadata": {
        "id": "uLeP8KQ0Qc10",
        "colab_type": "code",
        "outputId": "111ed60d-631a-45b6-f9ed-44c1b686c62b",
        "colab": {
          "base_uri": "https://localhost:8080/",
          "height": 119
        }
      },
      "source": [
        "s2 = pd.Series(np.random.randn(5)); s2"
      ],
      "execution_count": 0,
      "outputs": [
        {
          "output_type": "execute_result",
          "data": {
            "text/plain": [
              "0   -0.651538\n",
              "1   -1.179986\n",
              "2    0.437101\n",
              "3   -0.607102\n",
              "4    1.310954\n",
              "dtype: float64"
            ]
          },
          "metadata": {
            "tags": []
          },
          "execution_count": 25
        }
      ]
    },
    {
      "cell_type": "code",
      "metadata": {
        "id": "jgTfa08gQc11",
        "colab_type": "code",
        "outputId": "95ddf6a9-62c0-4ece-be84-cf1e8a5fabfc",
        "colab": {
          "base_uri": "https://localhost:8080/",
          "height": 119
        }
      },
      "source": [
        "s1 + s2"
      ],
      "execution_count": 0,
      "outputs": [
        {
          "output_type": "execute_result",
          "data": {
            "text/plain": [
              "0    0.073236\n",
              "1   -1.055398\n",
              "2    1.460500\n",
              "3    1.614455\n",
              "4    2.441862\n",
              "dtype: float64"
            ]
          },
          "metadata": {
            "tags": []
          },
          "execution_count": 27
        }
      ]
    },
    {
      "cell_type": "code",
      "metadata": {
        "id": "3pe7kYEYQc13",
        "colab_type": "code",
        "outputId": "0a722aa9-eae8-4cb2-d2ff-32a83e8eb2d5",
        "colab": {
          "base_uri": "https://localhost:8080/",
          "height": 119
        }
      },
      "source": [
        "s2.index = list(range(3,8)); s2"
      ],
      "execution_count": 0,
      "outputs": [
        {
          "output_type": "execute_result",
          "data": {
            "text/plain": [
              "3   -0.651538\n",
              "4   -1.179986\n",
              "5    0.437101\n",
              "6   -0.607102\n",
              "7    1.310954\n",
              "dtype: float64"
            ]
          },
          "metadata": {
            "tags": []
          },
          "execution_count": 28
        }
      ]
    },
    {
      "cell_type": "code",
      "metadata": {
        "id": "Z0tkvK3qQc15",
        "colab_type": "code",
        "outputId": "cf344452-505c-4c34-ab3f-2e823dc35b65",
        "colab": {
          "base_uri": "https://localhost:8080/",
          "height": 170
        }
      },
      "source": [
        "s1 + s2"
      ],
      "execution_count": 0,
      "outputs": [
        {
          "output_type": "execute_result",
          "data": {
            "text/plain": [
              "0         NaN\n",
              "1         NaN\n",
              "2         NaN\n",
              "3    1.570019\n",
              "4   -0.049077\n",
              "5         NaN\n",
              "6         NaN\n",
              "7         NaN\n",
              "dtype: float64"
            ]
          },
          "metadata": {
            "tags": []
          },
          "execution_count": 29
        }
      ]
    },
    {
      "cell_type": "code",
      "metadata": {
        "id": "r53wUsPBQc18",
        "colab_type": "code",
        "outputId": "b742a12f-5bf4-48b8-9aee-ca01217cc0cf",
        "colab": {
          "base_uri": "https://localhost:8080/",
          "height": 204
        }
      },
      "source": [
        "s1.reindex(range(10), fill_value = 0) + s2.reindex(range(10), fill_value = 0)"
      ],
      "execution_count": 0,
      "outputs": [
        {
          "output_type": "execute_result",
          "data": {
            "text/plain": [
              "0    0.724774\n",
              "1    0.124588\n",
              "2    1.023399\n",
              "3    1.570019\n",
              "4   -0.049077\n",
              "5    0.437101\n",
              "6   -0.607102\n",
              "7    1.310954\n",
              "8    0.000000\n",
              "9    0.000000\n",
              "dtype: float64"
            ]
          },
          "metadata": {
            "tags": []
          },
          "execution_count": 30
        }
      ]
    },
    {
      "cell_type": "code",
      "metadata": {
        "id": "eB8gKTa8Qc19",
        "colab_type": "code",
        "outputId": "1a74f293-9f3a-473d-99bf-955c6d95e426",
        "colab": {
          "base_uri": "https://localhost:8080/",
          "height": 85
        }
      },
      "source": [
        "s1 = pd.Series(range(1, 4), index = ['a','a','c']); s1"
      ],
      "execution_count": 0,
      "outputs": [
        {
          "output_type": "execute_result",
          "data": {
            "text/plain": [
              "a    1\n",
              "a    2\n",
              "c    3\n",
              "dtype: int64"
            ]
          },
          "metadata": {
            "tags": []
          },
          "execution_count": 31
        }
      ]
    },
    {
      "cell_type": "code",
      "metadata": {
        "id": "lzCcAGUlQc2A",
        "colab_type": "code",
        "outputId": "226f7137-f252-482c-e37b-70227fef9146",
        "colab": {
          "base_uri": "https://localhost:8080/",
          "height": 85
        }
      },
      "source": [
        "s2 = pd.Series(range(1,4), index = ['a','a','b']); s2"
      ],
      "execution_count": 0,
      "outputs": [
        {
          "output_type": "execute_result",
          "data": {
            "text/plain": [
              "a    1\n",
              "a    2\n",
              "b    3\n",
              "dtype: int64"
            ]
          },
          "metadata": {
            "tags": []
          },
          "execution_count": 32
        }
      ]
    },
    {
      "cell_type": "code",
      "metadata": {
        "id": "0Uvp1U2cQc2C",
        "colab_type": "code",
        "outputId": "084f9206-71d1-4877-abe0-5fc4a8d254ff",
        "colab": {
          "base_uri": "https://localhost:8080/",
          "height": 136
        }
      },
      "source": [
        "s1 * s2"
      ],
      "execution_count": 0,
      "outputs": [
        {
          "output_type": "execute_result",
          "data": {
            "text/plain": [
              "a    1.0\n",
              "a    2.0\n",
              "a    2.0\n",
              "a    4.0\n",
              "b    NaN\n",
              "c    NaN\n",
              "dtype: float64"
            ]
          },
          "metadata": {
            "tags": []
          },
          "execution_count": 33
        }
      ]
    },
    {
      "cell_type": "code",
      "metadata": {
        "id": "41Ia_6clQc2E",
        "colab_type": "code",
        "outputId": "1ee2635a-e91a-41fb-c5fc-f61bfd632bb2",
        "colab": {
          "base_uri": "https://localhost:8080/",
          "height": 136
        }
      },
      "source": [
        "s1 + s2"
      ],
      "execution_count": 0,
      "outputs": [
        {
          "output_type": "execute_result",
          "data": {
            "text/plain": [
              "a    2.0\n",
              "a    3.0\n",
              "a    3.0\n",
              "a    4.0\n",
              "b    NaN\n",
              "c    NaN\n",
              "dtype: float64"
            ]
          },
          "metadata": {
            "tags": []
          },
          "execution_count": 34
        }
      ]
    },
    {
      "cell_type": "markdown",
      "metadata": {
        "id": "I1c9-n2VQc2G",
        "colab_type": "text"
      },
      "source": [
        "## Copiando uma Serie"
      ]
    },
    {
      "cell_type": "code",
      "metadata": {
        "id": "COmB1SKUQc2G",
        "colab_type": "code",
        "colab": {}
      },
      "source": [
        "s1_copy = s1.copy()"
      ],
      "execution_count": 0,
      "outputs": []
    },
    {
      "cell_type": "code",
      "metadata": {
        "id": "IU7cbXcNQc2I",
        "colab_type": "code",
        "colab": {}
      },
      "source": [
        "s1_copy['a'] = 3"
      ],
      "execution_count": 0,
      "outputs": []
    },
    {
      "cell_type": "code",
      "metadata": {
        "id": "kobG0WnjQc2K",
        "colab_type": "code",
        "outputId": "acf92029-823d-46c1-b0fb-9a2aa196b4e6",
        "colab": {
          "base_uri": "https://localhost:8080/",
          "height": 85
        }
      },
      "source": [
        "s1_copy"
      ],
      "execution_count": 0,
      "outputs": [
        {
          "output_type": "execute_result",
          "data": {
            "text/plain": [
              "a    3\n",
              "a    3\n",
              "c    3\n",
              "dtype: int64"
            ]
          },
          "metadata": {
            "tags": []
          },
          "execution_count": 37
        }
      ]
    },
    {
      "cell_type": "code",
      "metadata": {
        "id": "2XEf_k_lQc2N",
        "colab_type": "code",
        "outputId": "6b5407fd-a832-469b-eb57-eef35d634887",
        "colab": {
          "base_uri": "https://localhost:8080/",
          "height": 85
        }
      },
      "source": [
        "s1"
      ],
      "execution_count": 0,
      "outputs": [
        {
          "output_type": "execute_result",
          "data": {
            "text/plain": [
              "a    1\n",
              "a    2\n",
              "c    3\n",
              "dtype: int64"
            ]
          },
          "metadata": {
            "tags": []
          },
          "execution_count": 38
        }
      ]
    },
    {
      "cell_type": "markdown",
      "metadata": {
        "id": "HynU-j4lQc2Q",
        "colab_type": "text"
      },
      "source": [
        "## Função map() do Pandas"
      ]
    },
    {
      "cell_type": "code",
      "metadata": {
        "id": "-PaWve4vQc2R",
        "colab_type": "code",
        "outputId": "44c646ee-f5e4-44af-bfb9-8332627a6e56",
        "colab": {
          "base_uri": "https://localhost:8080/",
          "height": 85
        }
      },
      "source": [
        "# Função map() - versão do Pandas\n",
        "s1.map(lambda x: x ** 2)"
      ],
      "execution_count": 0,
      "outputs": [
        {
          "output_type": "execute_result",
          "data": {
            "text/plain": [
              "a    1\n",
              "a    4\n",
              "c    9\n",
              "dtype: int64"
            ]
          },
          "metadata": {
            "tags": []
          },
          "execution_count": 39
        }
      ]
    },
    {
      "cell_type": "code",
      "metadata": {
        "id": "5XET3axHQc2T",
        "colab_type": "code",
        "outputId": "7a7c8f9b-7c1d-4038-d9cc-c24dbcccd991",
        "colab": {
          "base_uri": "https://localhost:8080/",
          "height": 85
        }
      },
      "source": [
        "s1.map({1:2,2:3,3:12})"
      ],
      "execution_count": 0,
      "outputs": [
        {
          "output_type": "execute_result",
          "data": {
            "text/plain": [
              "a     2\n",
              "a     3\n",
              "c    12\n",
              "dtype: int64"
            ]
          },
          "metadata": {
            "tags": []
          },
          "execution_count": 40
        }
      ]
    },
    {
      "cell_type": "code",
      "metadata": {
        "id": "aFtSXYnpQc2W",
        "colab_type": "code",
        "outputId": "dcb81bb6-c160-43e4-cc71-afdc1c8fbf3d",
        "colab": {
          "base_uri": "https://localhost:8080/",
          "height": 85
        }
      },
      "source": [
        "s1.map({2:3,3:12})"
      ],
      "execution_count": 0,
      "outputs": [
        {
          "output_type": "execute_result",
          "data": {
            "text/plain": [
              "a     NaN\n",
              "a     3.0\n",
              "c    12.0\n",
              "dtype: float64"
            ]
          },
          "metadata": {
            "tags": []
          },
          "execution_count": 41
        }
      ]
    }
  ]
}